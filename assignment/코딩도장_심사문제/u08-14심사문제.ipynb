{
  "nbformat": 4,
  "nbformat_minor": 2,
  "metadata": {
    "colab": {
      "name": "5회차_박황미.ipynb",
      "provenance": [],
      "collapsed_sections": [],
      "toc_visible": true
    },
    "kernelspec": {
      "name": "python3",
      "display_name": "Python 3.8.10 64-bit ('base': conda)"
    },
    "language_info": {
      "name": "python",
      "version": "3.8.10",
      "mimetype": "text/x-python",
      "codemirror_mode": {
        "name": "ipython",
        "version": 3
      },
      "pygments_lexer": "ipython3",
      "nbconvert_exporter": "python",
      "file_extension": ".py"
    },
    "interpreter": {
      "hash": "d279b99af0f33638fdf09218aa92c162172468f9a92e33e126428ac8a4b3671e"
    }
  },
  "cells": [
    {
      "cell_type": "markdown",
      "source": [
        "# 08~14장 심사문제"
      ],
      "metadata": {
        "id": "2skJ-KgdycaM"
      }
    },
    {
      "cell_type": "markdown",
      "source": [
        "## 08장 심사문제 - 합격 여부 출력하기\n",
        "표준 입력으로 국어, 영어, 수학, 과학 점수가 입력됩니다.<br> 국어는 90점 이상, 영어는 80점 초과, 수학은 85점 초과, 과학은 80점 이상일 때 합격이라고 정했습니다(한 과목이라도 조건에 만족하지 않으면 불합격).<br> 다음 소스 코드를 완성하여 합격이면 True, 불합격이면 False가 출력되게 만드세요(input에서 안내 문자열은 출력하지 않아야 합니다)."
      ],
      "metadata": {
        "id": "pJ0iYr80yTET"
      }
    },
    {
      "cell_type": "code",
      "execution_count": null,
      "source": [
        "kor,eng,mat,sci = map(int,input().split())\r\n",
        "print(kor >= 90 and eng > 80 and mat >85 and sci >= 80)"
      ],
      "outputs": [
        {
          "output_type": "stream",
          "name": "stdout",
          "text": [
            "90 81 86 80\n",
            "True\n"
          ]
        }
      ],
      "metadata": {
        "colab": {
          "base_uri": "https://localhost:8080/"
        },
        "id": "bL-4TjzryUcV",
        "outputId": "619a6c12-48a3-4f84-8304-b7832c1c678f"
      }
    },
    {
      "cell_type": "markdown",
      "source": [
        "## 09장 심사문제 - 여러 줄로 된 문자열 사용하기\n",
        "다음 소스 코드를 완성하여 실행 결과대로 문자열이 출력되게 만드세요."
      ],
      "metadata": {
        "id": "LTwdB_3V1g1V"
      }
    },
    {
      "cell_type": "code",
      "execution_count": null,
      "source": [
        "s = \"\"\"'Python' is a \"programming language\"\r\n",
        "that lets you work quickly\r\n",
        "and\r\n",
        "integrate systems more effectively.\"\"\"\r\n",
        "print(s)"
      ],
      "outputs": [
        {
          "output_type": "stream",
          "name": "stdout",
          "text": [
            "'Python' is a \"programming language\"\n",
            "that lets you work quickly\n",
            "and\n",
            "integrate systems more effectively.\n"
          ]
        }
      ],
      "metadata": {
        "colab": {
          "base_uri": "https://localhost:8080/"
        },
        "id": "5CRR5gt61Htg",
        "outputId": "dc338ff7-32c1-43e3-d194-2306ef929bec"
      }
    },
    {
      "cell_type": "markdown",
      "source": [
        "## 10장 심사문제 -  range로 튜플 만들기\n",
        "표준 입력으로 정수가 입력됩니다.<br> range의 시작하는 숫자는 -10, 끝나는 숫자는 10이며 입력된 정수만큼 증가하는 숫자가 들어가도록 튜플을 만들고, 해당 튜플을 출력하는 프로그램을 만드세요(input에서 안내 문자열은 출력하지 않아야 합니다)."
      ],
      "metadata": {
        "id": "ANDAt5Oo3Blb"
      }
    },
    {
      "cell_type": "code",
      "execution_count": null,
      "source": [
        "a = int(input())\r\n",
        "b = tuple(range(-10,10,a))\r\n",
        "print(b)"
      ],
      "outputs": [
        {
          "output_type": "stream",
          "name": "stdout",
          "text": [
            "3\n",
            "(-10, -7, -4, -1, 2, 5, 8)\n"
          ]
        }
      ],
      "metadata": {
        "colab": {
          "base_uri": "https://localhost:8080/"
        },
        "id": "m6V1x833139P",
        "outputId": "9b4c295c-18b3-4846-f4f2-61527f7fced3"
      }
    },
    {
      "cell_type": "markdown",
      "source": [
        "## 11장 심사문제"
      ],
      "metadata": {
        "id": "lT0GKFTb3m2T"
      }
    },
    {
      "cell_type": "markdown",
      "source": [
        "### 11장_1-리스트의 마지막 부분 삭제하기\n",
        "표준 입력으로 숫자 또는 문자열 여러 개가 입력되어 리스트 x에 저장됩니다(입력되는 숫자 또는 문자열의 개수는 정해져 있지 않음).<br> 다음 소스 코드를 완성하여 리스트 x의 마지막 요소 5개를 삭제한 뒤 튜플로 출력되게 만드세요."
      ],
      "metadata": {
        "id": "5JGd8czl5SZb"
      }
    },
    {
      "cell_type": "code",
      "execution_count": null,
      "source": [
        "x = input().split()\r\n",
        "del x[-5:]\r\n",
        "print(tuple(x))"
      ],
      "outputs": [
        {
          "output_type": "stream",
          "name": "stdout",
          "text": [
            "1 2 3 4 5 6 7 8 9 10\n",
            "('1', '2', '3', '4', '5')\n"
          ]
        }
      ],
      "metadata": {
        "colab": {
          "base_uri": "https://localhost:8080/"
        },
        "id": "_hQJIuEY3dd6",
        "outputId": "7eb038b5-3b3f-4dc7-e188-4c7f2be23ad0"
      }
    },
    {
      "cell_type": "code",
      "execution_count": 1,
      "source": [
        "# 강사님 풀이\r\n",
        "x = input().split()\r\n",
        "print(tuple(x[:-5]))"
      ],
      "outputs": [
        {
          "output_type": "stream",
          "name": "stdout",
          "text": [
            "('1', '2', '3', '4', '5')\n"
          ]
        }
      ],
      "metadata": {}
    },
    {
      "cell_type": "markdown",
      "source": [
        "### 11장_2 - 문자열에서 인덱스가 홀수인 문자와 짝수인 문자 연결하기\n",
        "표준 입력으로 문자열 두 개가 각 줄에 입력됩니다(문자열의 길이는 정해져 있지 않음).<br> 첫 번째 문자열에서 인덱스가 홀수인 문자와 두 번째 문자열에서 인덱스가 짝수인 문자를 연결하여 출력하는 프로그램을 만드세요(input에서 안내 문자열은 출력하지 않아야 합니다).<br> 연결 순서는 첫 번째 문자열, 두 번째 문자열 순입니다. 그리고 0은 짝수로 처리합니다."
      ],
      "metadata": {
        "id": "wYQwBSWz5OdV"
      }
    },
    {
      "cell_type": "code",
      "execution_count": null,
      "source": [
        "first = input()\r\n",
        "second = input()\r\n",
        "print(first[1::2]+second[::2])"
      ],
      "outputs": [
        {
          "output_type": "stream",
          "name": "stdout",
          "text": [
            "apple\n",
            "strawberry\n",
            "plsrwer\n"
          ]
        }
      ],
      "metadata": {
        "colab": {
          "base_uri": "https://localhost:8080/"
        },
        "id": "BxZJfZTr4G-2",
        "outputId": "d56efeb2-4a6c-421c-c460-e05e11c0d85c"
      }
    },
    {
      "cell_type": "markdown",
      "source": [
        "## 12장 심사문제 - 딕셔너리에 게임 캐릭터 능력치 저장하기\n",
        "표준 입력으로 문자열 여러 개와 숫자(실수) 여러 개가 두 줄로 입력됩니다.<br> 입력된 첫 번째 줄은 키, 두 번째 줄은 값으로 하여 딕셔너리를 생성한 뒤 딕셔너리를 출력하는 프로그램을 만드세요.<br> input().split()의 결과를 변수 한 개에 저장하면 리스트로 저장됩니다."
      ],
      "metadata": {
        "id": "vLK0ga9M7pik"
      }
    },
    {
      "cell_type": "code",
      "execution_count": null,
      "source": [
        "keys = input().split()\r\n",
        "values = map(float, input().split())        # list(map(float, input().split()))\r\n",
        "dict1 = dict(zip(keys,values))\r\n",
        "print(dict1)"
      ],
      "outputs": [
        {
          "output_type": "stream",
          "name": "stdout",
          "text": [
            "health mana melee attack_speed magic_resistance\n",
            "573.6 308.8 600 0.625 35.7\n",
            "{'health': 573.6, 'mana': 308.8, 'melee': 600.0, 'attack_speed': 0.625, 'magic_resistance': 35.7}\n"
          ]
        }
      ],
      "metadata": {
        "colab": {
          "base_uri": "https://localhost:8080/"
        },
        "id": "k2Rf1j4L6Ihc",
        "outputId": "57ea1ffb-71ac-4234-cbcc-15932c87ab86"
      }
    },
    {
      "cell_type": "markdown",
      "source": [
        "## 13장 심사문제 - 온라인 할인 쿠폰 시스템 만들기\n",
        "표준 입력으로 가격(정수)과 쿠폰 이름이 각 줄에 입력됩니다.<br> Cash3000 쿠폰은 3,000원, Cash5000 쿠폰은 5,000원을 할인합니다.<br> 쿠폰에 따라 할인된 가격을 출력하는 프로그램을 만드세요(input에서 안내 문자열은 출력하지 않아야 합니다)."
      ],
      "metadata": {
        "id": "y4gs4YU19nYC"
      }
    },
    {
      "cell_type": "code",
      "execution_count": null,
      "source": [
        "price = int(input())\r\n",
        "coupon = input()\r\n",
        "if coupon == 'Cash3000':\r\n",
        "    price -= 3000\r\n",
        "if coupon == 'Cash5000':\r\n",
        "    price -= 5000\r\n",
        "print(price)"
      ],
      "outputs": [
        {
          "output_type": "stream",
          "name": "stdout",
          "text": [
            "27000\n",
            "Cash3000\n",
            "24000\n"
          ]
        }
      ],
      "metadata": {
        "colab": {
          "base_uri": "https://localhost:8080/"
        },
        "id": "6n4vBlzE-WO0",
        "outputId": "193de16b-fb73-435c-8d44-bcc7cada9cf7"
      }
    },
    {
      "cell_type": "markdown",
      "source": [
        "## 14장 심사문제 - 합격 여부 판단하기\n",
        "표준 입력으로 국어, 영어, 수학, 과학 점수가 입력됩니다.<br> 여기서 네 과목의 평균 점수가 80점 이상일 때 합격이라고 정했습니다.<br> 평균 점수에 따라 '합격', '불합격'을 출력하는 프로그램을 만드세요(input에서 안내 문자열은 출력하지 않아야 합니다).<br> 단, 점수는 0점부터 100점까지만 입력받을 수 있으며 범위를 벗어났다면 '잘못된 점수'를 출력하고 합격, 불합격 여부는 출력하지 않아야 합니다."
      ],
      "metadata": {
        "id": "iGeWnB0lAVG5"
      }
    },
    {
      "cell_type": "code",
      "execution_count": 3,
      "source": [
        "# 99 85 101 90를 입력한 경우\r\n",
        "score = list(map(int,input().split()))\r\n",
        "if min(score) >=0 and max(score) <= 100:\r\n",
        "    if sum(score)/len(score) >= 80:\r\n",
        "        print(\"합격\")\r\n",
        "    else:\r\n",
        "        print(\"불합격\") \r\n",
        "else:\r\n",
        "    print(\"잘못된 점수\")"
      ],
      "outputs": [
        {
          "output_type": "stream",
          "name": "stdout",
          "text": [
            "잘못된 점수\n"
          ]
        }
      ],
      "metadata": {
        "colab": {
          "base_uri": "https://localhost:8080/"
        },
        "id": "IVq5TFbcCKuz",
        "outputId": "0b3337fa-8f37-4ca2-e1b5-7a431e7c0cf4"
      }
    },
    {
      "cell_type": "code",
      "execution_count": null,
      "source": [],
      "outputs": [],
      "metadata": {}
    }
  ]
}