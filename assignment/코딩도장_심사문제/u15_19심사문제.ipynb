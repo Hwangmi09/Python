{
  "nbformat": 4,
  "nbformat_minor": 0,
  "metadata": {
    "colab": {
      "name": "u15-19심사문제.ipynb",
      "provenance": [],
      "collapsed_sections": []
    },
    "kernelspec": {
      "name": "python3",
      "display_name": "Python 3"
    },
    "language_info": {
      "name": "python"
    }
  },
  "cells": [
    {
      "cell_type": "markdown",
      "metadata": {
        "id": "xIlujxd5I-yP"
      },
      "source": [
        "# u15-19 심사문제"
      ]
    },
    {
      "cell_type": "markdown",
      "metadata": {
        "id": "0f2vjnZVIt5Q"
      },
      "source": [
        "## u15 - 교통카드 시스템 만들기\n",
        "표준 입력으로 나이(만 나이)가 입력됩니다(입력 값은 7 이상 입력됨).<br> 교통카드 시스템에서 시내버스 요금은 다음과 같으며 각 나이에 맞게 요금을 차감한 뒤 잔액이 출력되게 만드세요(if, elif 사용).<br> 현재 교통카드에는 9,000원이 들어있습니다.<br>\n",
        "\n",
        "- 어린이(초등학생, 만 7세 이상 12세 이하): 650원\n",
        "- 청소년(중∙고등학생, 만 13세 이상 18세 이하): 1,050원\n",
        "- 어른(일반, 만 19세 이상): 1,250원\n",
        "\n"
      ]
    },
    {
      "cell_type": "code",
      "metadata": {
        "colab": {
          "base_uri": "https://localhost:8080/"
        },
        "id": "fbR4P1YbHU_M",
        "outputId": "6070c622-f264-4dbf-f2fa-ee15b3d0af4f"
      },
      "source": [
        "age = int(input())\n",
        "balance = 9000    # 교통카드 잔액\n",
        "if age <= 12 :\n",
        "    balance -= 650\n",
        "elif age <=18:\n",
        "    balance -= 1050\n",
        "else:\n",
        "    balance -= 1250\n",
        "print(balance)"
      ],
      "execution_count": null,
      "outputs": [
        {
          "output_type": "stream",
          "text": [
            "17\n",
            "7950\n"
          ],
          "name": "stdout"
        }
      ]
    },
    {
      "cell_type": "markdown",
      "metadata": {
        "id": "C-E4qGYkKi6d"
      },
      "source": [
        "## u16 - 구구단 출력하기\n",
        "표준 입력으로 정수가 입력됩니다.<br> 입력된 정수의 구구단을 출력하는 프로그램을 만드세요(input에서 안내 문자열은 출력하지 않아야 합니다).<br> 출력 형식은 숫자 * 숫자 = 숫자처럼 만들고 숫자와 *, = 사이는 공백을 한 칸 띄웁니다."
      ]
    },
    {
      "cell_type": "code",
      "metadata": {
        "colab": {
          "base_uri": "https://localhost:8080/"
        },
        "id": "u4PpNFwoKoir",
        "outputId": "3d3628a1-4c8c-4e69-b410-a1b263e54d6c"
      },
      "source": [
        "num = int(input())\n",
        "for i in range(1,10):\n",
        "    print(num,\"*\",i,\"=\",num*i)      # print(f'{num} * {i} = {num}*{i}')"
      ],
      "execution_count": null,
      "outputs": [
        {
          "output_type": "stream",
          "text": [
            "2\n",
            "2 * 1 = 2\n",
            "2 * 2 = 4\n",
            "2 * 3 = 6\n",
            "2 * 4 = 8\n",
            "2 * 5 = 10\n",
            "2 * 6 = 12\n",
            "2 * 7 = 14\n",
            "2 * 8 = 16\n",
            "2 * 9 = 18\n"
          ],
          "name": "stdout"
        }
      ]
    },
    {
      "cell_type": "markdown",
      "metadata": {
        "id": "0nxPeLlFL-Lf"
      },
      "source": [
        "## u17 - 교통카드 잔액 출력하기\n",
        "표준 입력으로 금액(정수)이 입력됩니다.<br> 1회당 요금은 1,350원이고, 교통카드를 사용했을 때마다의 잔액을 각 줄에 출력하는 프로그램을 만드세요(input에서 안내 문자열은 출력하지 않아야 합니다).<br> 단, 최초 금액은 출력하지 않아야 합니다. 그리고 잔액은 음수가 될 수 없으며 잔액이 부족하면 출력을 끝냅니다."
      ]
    },
    {
      "cell_type": "code",
      "metadata": {
        "colab": {
          "base_uri": "https://localhost:8080/"
        },
        "id": "qd76NkL4LR_V",
        "outputId": "d6262099-4ce1-4fa8-f331-8837d1277d00"
      },
      "source": [
        "balance = int(input())\n",
        "while balance >= 1350:\n",
        "    balance -= 1350\n",
        "    print(balance)"
      ],
      "execution_count": null,
      "outputs": [
        {
          "output_type": "stream",
          "text": [
            "13500\n",
            "12150\n",
            "10800\n",
            "9450\n",
            "8100\n",
            "6750\n",
            "5400\n",
            "4050\n",
            "2700\n",
            "1350\n",
            "0\n"
          ],
          "name": "stdout"
        }
      ]
    },
    {
      "cell_type": "code",
      "metadata": {
        "id": "NfCaxq9OvcH1"
      },
      "source": [
        "# 객체지향\n",
        "class Tmoney:\n",
        "    def __init__(self,balance):\n",
        "        self.balance = balance\n",
        "\n",
        "    def pay(self, fare):\n",
        "        if self.balance >= fare :\n",
        "            self.balance -= fare\n",
        "            print(self.balance)\n",
        "        else:\n",
        "            print('지불 불가')"
      ],
      "execution_count": null,
      "outputs": []
    },
    {
      "cell_type": "code",
      "metadata": {
        "colab": {
          "base_uri": "https://localhost:8080/"
        },
        "id": "yF9H1iOBvzXN",
        "outputId": "994897c4-bf66-48be-af5d-7b632ad1cc15"
      },
      "source": [
        "balance = int(input())\n",
        "fare = 1350\n",
        "card = Tmoney(balance)\n",
        "\n",
        "while True:\n",
        "    if card.balance < fare:\n",
        "        break\n",
        "    card.pay(fare)"
      ],
      "execution_count": null,
      "outputs": [
        {
          "output_type": "stream",
          "text": [
            "8650\n",
            "7300\n",
            "5950\n",
            "4600\n",
            "3250\n",
            "1900\n",
            "550\n"
          ],
          "name": "stdout"
        }
      ]
    },
    {
      "cell_type": "markdown",
      "metadata": {
        "id": "5hiiacfIM20H"
      },
      "source": [
        "## u18 - 두 수 사이의 숫자 중 3으로 끝나지 않는 숫자 출력하기\n",
        "표준 입력으로 정수 두 개가 입력됩니다(첫 번째 입력 값의 범위는 1\\~200, 두 번째 입력 값의 범위는 10\\~200이며 첫 번째 입력 값은 두 번째 입력 값보다 항상 작습니다).<br> 다음 소스 코드를 완성하여 첫 번째 정수와 두 번째 정수 사이의 숫자 중 3으로 끝나지 않는 숫자가 출력되게 만드세요.<br> 정답에 코드를 작성할 때는 while True:에 맞춰서 들여쓰기를 해주세요."
      ]
    },
    {
      "cell_type": "code",
      "metadata": {
        "colab": {
          "base_uri": "https://localhost:8080/"
        },
        "id": "X6BQ0_KDMssG",
        "outputId": "cdea12b1-d7ed-4bdd-8a06-57c25c73c05e"
      },
      "source": [
        "start, stop = map(int, input().split())\n",
        " \n",
        "i = start\n",
        " \n",
        "while True:\n",
        "    if i > stop:\n",
        "        break\n",
        "    if str(i)[-1] == '3':\n",
        "        i += 1\n",
        "        continue\n",
        "    print(i, end=' ')\n",
        "    i += 1"
      ],
      "execution_count": null,
      "outputs": [
        {
          "output_type": "stream",
          "text": [
            "1 20\n",
            "1 2 4 5 6 7 8 9 10 11 12 14 15 16 17 18 19 20 "
          ],
          "name": "stdout"
        }
      ]
    },
    {
      "cell_type": "markdown",
      "metadata": {
        "id": "ZJ3TEABpQzie"
      },
      "source": [
        "## u19 - 산 모양으로 별 출력하기\n",
        "표준 입력으로 삼각형의 높이가 입력됩니다.<br> 입력된 높이만큼 산 모양으로 별을 출력하는 프로그램을 만드세요(input에서 안내 문자열은 출력하지 않아야 합니다).<br> 이때 출력 결과는 예제와 정확히 일치해야 합니다. 모양이 같더라도 공백이나 빈 줄이 더 들어가면 틀린 것으로 처리됩니다."
      ]
    },
    {
      "cell_type": "code",
      "metadata": {
        "colab": {
          "base_uri": "https://localhost:8080/"
        },
        "id": "sKPHbfYePghA",
        "outputId": "998ff1a0-5571-4ffe-f026-103a1b80cb81"
      },
      "source": [
        "height = int(input())\n",
        "for i in range(height):\n",
        "    print(\" \"*(height-i-1),end='')\n",
        "    print(\"*\"*(2*i+1))"
      ],
      "execution_count": null,
      "outputs": [
        {
          "output_type": "stream",
          "text": [
            "5\n",
            "    *\n",
            "   ***\n",
            "  *****\n",
            " *******\n",
            "*********\n"
          ],
          "name": "stdout"
        }
      ]
    }
  ]
}