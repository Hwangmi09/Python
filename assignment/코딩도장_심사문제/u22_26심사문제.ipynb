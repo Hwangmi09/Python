{
  "nbformat": 4,
  "nbformat_minor": 0,
  "metadata": {
    "colab": {
      "name": "u22-26심사문제.ipynb",
      "provenance": [],
      "collapsed_sections": []
    },
    "kernelspec": {
      "name": "python3",
      "display_name": "Python 3"
    },
    "language_info": {
      "name": "python"
    }
  },
  "cells": [
    {
      "cell_type": "markdown",
      "metadata": {
        "id": "8PTdR4R1AuFo"
      },
      "source": [
        "# Unit 22\\~26 심사문제"
      ]
    },
    {
      "cell_type": "markdown",
      "metadata": {
        "id": "PuhZzv2CA5K9"
      },
      "source": [
        "## 22장 심사문제 - 2의 거듭제곱 리스트 생성하기\n",
        "표준 입력으로 정수 두 개가 입력됩니다(첫 번째 입력 값의 범위는 1\\~20, 두 번째 입력 값의 범위는 10\\~30이며 첫 번째 입력 값은 두 번째 입력 값보다 항상 작습니다).<br> 첫 번째 정수부터 두 번째 정수까지를 지수로 하는 2의 거듭제곱 리스트를 출력하는 프로그램을 만드세요(input에서 안내 문자열은 출력하지 않아야 합니다).<br> 단, 리스트의 두 번째 요소와 뒤에서 두 번째 요소는 삭제한 뒤 출력하세요. 출력 결과는 리스트 형태라야 합니다."
      ]
    },
    {
      "cell_type": "code",
      "metadata": {
        "colab": {
          "base_uri": "https://localhost:8080/"
        },
        "id": "9whUUUihAcKa",
        "outputId": "4310a822-0692-41be-9d61-af597bc9e9ce"
      },
      "source": [
        "num = list(map(int,input().split()))\n",
        "power_list = [2**i for i in range(num[0],num[1]+1)] \n",
        "del power_list[1], power_list[-2]\n",
        "print(power_list)"
      ],
      "execution_count": null,
      "outputs": [
        {
          "output_type": "stream",
          "text": [
            "1 10\n",
            "[2, 8, 16, 32, 64, 128, 256, 1024]\n"
          ],
          "name": "stdout"
        }
      ]
    },
    {
      "cell_type": "markdown",
      "metadata": {
        "id": "igHW7FhKCOYj"
      },
      "source": [
        "## 23장 심사문제 - 지뢰찾기\n",
        "표준 입력으로 2차원 리스트의 가로(col)와 세로(row)가 입력되고 그 다음 줄부터 리스트의 요소로 들어갈 문자가 입력됩니다.<br> 이때 2차원 리스트 안에서 *는 지뢰이고 .은 지뢰가 아닙니다.<br> 지뢰가 아닌 요소에는 인접한 지뢰의 개수를 출력하는 프로그램을 만드세요(input에서 안내 문자열은 출력하지 않아야 합니다).<br>\n",
        "\n",
        "여러 줄을 입력 받으려면 다음과 같이 for 반복문에서 input을 호출한 뒤 append로 각 줄을 추가하면 됩니다(list 안에 문자열을 넣으면 문자열이 문자 리스트로 변환됩니다)."
      ]
    },
    {
      "cell_type": "code",
      "metadata": {
        "id": "wL7v1KPDjoGE",
        "colab": {
          "base_uri": "https://localhost:8080/"
        },
        "outputId": "4eff48c7-6272-4497-ea80-9cd68824579a"
      },
      "source": [
        "col, row = map(int,input().split())\n",
        "matrix = []\n",
        "for i in range(row):\n",
        "    matrix.append(list(input()))\n",
        "\n",
        "matrix2 = [['.']*(row+2)] + [['.']+m_list+['.'] for m_list in matrix]\n",
        "matrix2.append(['.']*(row+2))\n",
        "\n",
        "result_matrix = [[0 for i in range(row)] for k in range(row)]\n",
        "for r in range(1,row+1):\n",
        "    for c in range(1,row+1):\n",
        "        count = 0\n",
        "        for r_move in range(r-1,r+2):\n",
        "            for c_move in range(c-1,c+2):\n",
        "                if r_move == r and c_move == c:\n",
        "                    continue\n",
        "                if matrix2[r_move][c_move] == '*':\n",
        "                    count += 1\n",
        "        if matrix[r-1][c-1] == \"*\":\n",
        "            result_matrix[r-1][c-1] = \"*\"\n",
        "        else:\n",
        "            result_matrix[r-1][c-1] = count\n",
        "        print(result_matrix[r-1][c-1], end='')\n",
        "    print()"
      ],
      "execution_count": null,
      "outputs": [
        {
          "output_type": "stream",
          "text": [
            "5 5\n",
            "..*..\n",
            "...*.\n",
            ".*...\n",
            ".***.\n",
            "*.*..\n",
            "01*21\n",
            "123*1\n",
            "2*532\n",
            "3***1\n",
            "*4*31\n"
          ],
          "name": "stdout"
        }
      ]
    },
    {
      "cell_type": "markdown",
      "metadata": {
        "id": "-kh8FvDPD2CV"
      },
      "source": [
        "## 24장 심사문제"
      ]
    },
    {
      "cell_type": "markdown",
      "metadata": {
        "id": "6oojFOu2DV-x"
      },
      "source": [
        "### 24_1 - 특정 단어 개수 세기\n",
        "표준 입력으로 문자열이 입력됩니다. 입력된 문자열에서 'the'의 개수를 출력하는 프로그램을 만드세요(input에서 안내 문자열은 출력하지 않아야 합니다). 단, 모든 문자가 소문자인 'the'만 찾으면 되며 'them', 'there', 'their' 등은 포함하지 않아야 합니다."
      ]
    },
    {
      "cell_type": "code",
      "metadata": {
        "colab": {
          "base_uri": "https://localhost:8080/"
        },
        "id": "27g4kOANB6hj",
        "outputId": "0eda5615-87e3-4f63-ab89-3b3a3d736728"
      },
      "source": [
        "import string \n",
        "letter= input().split()\n",
        "count_the = 0\n",
        "for word in letter:\n",
        "    if 'the' == word.strip(string.punctuation):\n",
        "        count_the += 1\n",
        "print(count_the)"
      ],
      "execution_count": null,
      "outputs": [
        {
          "output_type": "stream",
          "text": [
            "the grown-ups' response, this time, was to advise me to lay aside my drawings of boa constrictors, whether from the inside or the outside, and devote myself instead to geography, history, arithmetic, and grammar. That is why, at the, age of six, I gave up what might have been a magnificent career as a painter. I had been disheartened by the failure of my Drawing Number One and my Drawing Number Two. Grown-ups never understand anything by themselves, and it is tiresome for children to be always and forever explaining things to the.\n",
            "6\n"
          ],
          "name": "stdout"
        }
      ]
    },
    {
      "cell_type": "markdown",
      "metadata": {
        "id": "o7rDHUa7Md7c"
      },
      "source": [
        "### 24_2 - 높은 가격순으로 출력하기\n",
        "표준 입력으로 물품 가격 여러 개가 문자열 한 줄로 입력되고, 각 가격은 ;(세미콜론)으로 구분되어 있습니다.<br> 입력된 가격을 높은 가격순으로 출력하는 프로그램을 만드세요(input에서 안내 문자열은 출력하지 않아야 합니다).<br> 이때 가격은 길이를 9로 만든 뒤 오른쪽으로 정렬하고 천단위로 ,(콤마)를 넣으세요."
      ]
    },
    {
      "cell_type": "code",
      "metadata": {
        "colab": {
          "base_uri": "https://localhost:8080/"
        },
        "id": "harKeEA5LmQc",
        "outputId": "8d51f372-2973-4614-ce2b-3a0a18e5a4e7"
      },
      "source": [
        "prices = sorted(list(map(int,input().split(';'))),reverse=True)   # prices = list(map(int,input().split(';')))  ; prices.sort(reverse=True)\n",
        "for price in prices:\n",
        "    print(f'{price:9,d}')"
      ],
      "execution_count": null,
      "outputs": [
        {
          "output_type": "stream",
          "text": [
            "51900;83000;158000;367500;250000;59200;128500;1304000\n",
            "1,304,000\n",
            "  367,500\n",
            "  250,000\n",
            "  158,000\n",
            "  128,500\n",
            "   83,000\n",
            "   59,200\n",
            "   51,900\n"
          ],
          "name": "stdout"
        }
      ]
    },
    {
      "cell_type": "code",
      "metadata": {
        "colab": {
          "base_uri": "https://localhost:8080/"
        },
        "id": "w4o4av48POhj",
        "outputId": "4d658c8c-5103-4f11-8b50-7d8b790b2a51"
      },
      "source": [
        "x = {'python':100}\n",
        "x.pop('python')"
      ],
      "execution_count": null,
      "outputs": [
        {
          "output_type": "execute_result",
          "data": {
            "text/plain": [
              "100"
            ]
          },
          "metadata": {
            "tags": []
          },
          "execution_count": 46
        }
      ]
    },
    {
      "cell_type": "markdown",
      "metadata": {
        "id": "ToV0C3mtTANQ"
      },
      "source": [
        "## 25장 심사문제 - 딕셔너리에서 특정 값 삭제하기\n",
        "표준 입력으로 문자열 여러 개와 숫자 여러 개가 두 줄로 입력되고, 첫 번째 줄은 키, 두 번째 줄은 값으로 하여 딕셔너리를 생성합니다.<br>다음 코드를 완성하여 딕셔너리에서 키가 'delta'인 키-값 쌍과 값이 30인 키-값 쌍을 삭제하도록 만드세요."
      ]
    },
    {
      "cell_type": "code",
      "metadata": {
        "colab": {
          "base_uri": "https://localhost:8080/"
        },
        "id": "joC5kCS4QZUO",
        "outputId": "aaf67742-4b45-4d98-b616-6bb91d00a325"
      },
      "source": [
        "keys = input().split()\n",
        "values = map(int, input().split())\n",
        " \n",
        "x = dict(zip(keys, values))\n",
        "\n",
        "x = {key:value for key, value in x.items() if key != 'delta' and value != 30}\n",
        "x"
      ],
      "execution_count": null,
      "outputs": [
        {
          "output_type": "stream",
          "text": [
            "alpha bravo charlie delta\n",
            "10 20 30 40\n"
          ],
          "name": "stdout"
        },
        {
          "output_type": "execute_result",
          "data": {
            "text/plain": [
              "{'alpha': 10, 'bravo': 20}"
            ]
          },
          "metadata": {
            "tags": []
          },
          "execution_count": 60
        }
      ]
    },
    {
      "cell_type": "markdown",
      "metadata": {
        "id": "Sk92fo-4gT4Z"
      },
      "source": [
        "## 26장 심사문제 - 공약수 구하기\n",
        "표준 입력으로 양의 정수 두 개가 입력됩니다.<br> 다음 소스 코드를 완성하여 두 숫자의 공약수를 세트 형태로 구하도록 만드세요.<br> 단, 최종 결과는 공약수의 합으로 판단합니다."
      ]
    },
    {
      "cell_type": "code",
      "metadata": {
        "colab": {
          "base_uri": "https://localhost:8080/"
        },
        "id": "CsK1OAv2e1uq",
        "outputId": "15beb754-40ff-468d-fed5-b7202eb2c4d9"
      },
      "source": [
        "num1, num2 = map(int,input().split())\n",
        "a = set([i for i in range(1,num1+1) if num1 % i == 0])\n",
        "b = set([i for i in range(1,num2+1) if num2 % i == 0])\n",
        "\n",
        "divisor = a & b\n",
        " \n",
        "result = 0\n",
        "if type(divisor) == set:\n",
        "    result = sum(divisor)\n",
        " \n",
        "print(result)"
      ],
      "execution_count": null,
      "outputs": [
        {
          "output_type": "stream",
          "text": [
            "100 200\n",
            "217\n"
          ],
          "name": "stdout"
        }
      ]
    }
  ]
}