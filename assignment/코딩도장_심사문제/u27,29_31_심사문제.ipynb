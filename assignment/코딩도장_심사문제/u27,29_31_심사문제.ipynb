{
  "nbformat": 4,
  "nbformat_minor": 0,
  "metadata": {
    "colab": {
      "name": "u27,29-31 심사문제.ipynb",
      "provenance": [],
      "collapsed_sections": []
    },
    "kernelspec": {
      "name": "python3",
      "display_name": "Python 3"
    },
    "language_info": {
      "name": "python"
    }
  },
  "cells": [
    {
      "cell_type": "markdown",
      "metadata": {
        "id": "aDe7rgOY5Ozn"
      },
      "source": [
        "# Unit 27, 29\\~31장 심사문제"
      ]
    },
    {
      "cell_type": "markdown",
      "metadata": {
        "id": "9FljLcel5ZZ0"
      },
      "source": [
        "## 27장 연습문제 - 파일에서 10자 이하인 단어 개수 세기\n"
      ]
    },
    {
      "cell_type": "code",
      "metadata": {
        "id": "4DgYBuJT2Wyr"
      },
      "source": [
        "with open('words.txt','w') as file:\n",
        "    file.write(\"\"\"anonymously\n",
        "compatibility\n",
        "dashboard\n",
        "experience\n",
        "photography\n",
        "spotlight\n",
        "warehouse\"\"\")"
      ],
      "execution_count": 5,
      "outputs": []
    },
    {
      "cell_type": "code",
      "metadata": {
        "colab": {
          "base_uri": "https://localhost:8080/"
        },
        "id": "HjGdhsBh6A5N",
        "outputId": "c809e4de-35d0-4a72-b4fc-1adc8fb124d2"
      },
      "source": [
        "!cat words.txt"
      ],
      "execution_count": 6,
      "outputs": [
        {
          "output_type": "stream",
          "text": [
            "anonymously\n",
            "compatibility\n",
            "dashboard\n",
            "experience\n",
            "photography\n",
            "spotlight\n",
            "warehouse"
          ],
          "name": "stdout"
        }
      ]
    },
    {
      "cell_type": "code",
      "metadata": {
        "colab": {
          "base_uri": "https://localhost:8080/"
        },
        "id": "q_e-Lvgn6F3O",
        "outputId": "c9cb2aff-99af-4ad4-ca13-6d987eb29ccb"
      },
      "source": [
        "with open('words.txt') as file:\n",
        "    count = 0\n",
        "    words = file.readlines()\n",
        "    for word in words:\n",
        "        if len(word.strip('\\n')) <= 10:\n",
        "            count += 1\n",
        "count"
      ],
      "execution_count": null,
      "outputs": [
        {
          "output_type": "execute_result",
          "data": {
            "text/plain": [
              "4"
            ]
          },
          "metadata": {
            "tags": []
          },
          "execution_count": 10
        }
      ]
    },
    {
      "cell_type": "markdown",
      "metadata": {
        "id": "1OFEMJsT-hRV"
      },
      "source": [
        "## 27장 심사문제 - 특정 문자가 들어있는 단어 찾기\n",
        "문자열이 저장된 words.txt 파일이 주어집니다(문자열은 한 줄로 저장되어 있습니다).<br> words.txt 파일에서 문자 c가 포함된 단어를 각 줄에 출력하는 프로그램을 만드세요.<br> 단어를 출력할 때는 등장한 순서대로 출력해야 하며 ,(콤마)와 .(점)은 출력하지 않아야 합니다."
      ]
    },
    {
      "cell_type": "code",
      "metadata": {
        "id": "QXUiGzIu6lUC"
      },
      "source": [
        "with open('words.txt','w') as file:\n",
        "    file.write('Fortunately, however, for the reputation of Asteroid B-612, a Turkish dictator made a law that his subjects, under pain of death, should change to European costume. So in 1920 the astronomer gave his demonstration all over again, dressed with impressive style and elegance. And this time everybody accepted his report.')"
      ],
      "execution_count": 7,
      "outputs": []
    },
    {
      "cell_type": "code",
      "metadata": {
        "colab": {
          "base_uri": "https://localhost:8080/"
        },
        "id": "bDM97rxC_O_n",
        "outputId": "3c59c954-907d-456a-b42c-f59b3abf9757"
      },
      "source": [
        "!cat words.txt"
      ],
      "execution_count": null,
      "outputs": [
        {
          "output_type": "stream",
          "text": [
            "Fortunately, however, for the reputation of Asteroid B-612, a Turkish dictator made a law that his subjects, under pain of death, should change to European costume. So in 1920 the astronomer gave his demonstration all over again, dressed with impressive style and elegance. And this time everybody accepted his report."
          ],
          "name": "stdout"
        }
      ]
    },
    {
      "cell_type": "code",
      "metadata": {
        "colab": {
          "base_uri": "https://localhost:8080/"
        },
        "id": "TVk-OHwU_RKB",
        "outputId": "32ca9ee8-a1a2-45c5-aa00-88400035a00d"
      },
      "source": [
        "# 풀이1\n",
        "import re\n",
        "with open('words.txt') as file:\n",
        "    words = file.read()\n",
        "    words = re.sub('[^A-Za-z ]','',words)\n",
        "    words = words.split()\n",
        "    for word in words:\n",
        "        if 'c' in word:\n",
        "            print(word)"
      ],
      "execution_count": null,
      "outputs": [
        {
          "output_type": "stream",
          "text": [
            "dictator\n",
            "subjects\n",
            "change\n",
            "costume\n",
            "elegance\n",
            "accepted\n"
          ],
          "name": "stdout"
        }
      ]
    },
    {
      "cell_type": "code",
      "metadata": {
        "colab": {
          "base_uri": "https://localhost:8080/"
        },
        "id": "TAArYa1V_qY1",
        "outputId": "5e0bd34d-328b-4039-acc5-43fdadc18ba3"
      },
      "source": [
        "# 풀이2\n",
        "with open('words.txt') as file:\n",
        "    words = file.read().split()         # words = file.read()\n",
        "    for word in words:                  # for word in words.split():\n",
        "        if 'c' in word:\n",
        "            print(word.strip(',.'))"
      ],
      "execution_count": null,
      "outputs": [
        {
          "output_type": "stream",
          "text": [
            "dictator\n",
            "subjects\n",
            "change\n",
            "costume\n",
            "elegance\n",
            "accepted\n"
          ],
          "name": "stdout"
        }
      ]
    },
    {
      "cell_type": "markdown",
      "metadata": {
        "id": "QNNL0Hc8Deqo"
      },
      "source": [
        "## 29장 심사문제 - 사칙 연산 함수 만들기\n",
        "표준 입력으로 숫자 두 개가 입력됩니다. 다음 소스 코드를 완성하여 두 숫자의 덧셈, 뺄셈, 곱셈, 나눗셈의 결과가 출력되게 만드세요. 이때 나눗셈의 결과는 실수라야 합니다."
      ]
    },
    {
      "cell_type": "code",
      "metadata": {
        "colab": {
          "base_uri": "https://localhost:8080/"
        },
        "id": "lAdKVpHFCoEA",
        "outputId": "f5e12855-8cd3-4019-ec0d-dd7d2e42cbf0"
      },
      "source": [
        "x, y = map(int, input().split())\n",
        "def calc(x,y):\n",
        "    return x+y,x-y,x*y,float(x/y)       # x/y의 결과가 정수일 수 있으므로 float()로 자료형 변환하기\n",
        "a, s, m, d = calc(x, y)\n",
        "print('덧셈: {0}, 뺄셈: {1}, 곱셈: {2}, 나눗셈: {3}'.format(a, s, m, d))"
      ],
      "execution_count": 1,
      "outputs": [
        {
          "output_type": "stream",
          "text": [
            "10 20\n",
            "덧셈: 30, 뺄셈: -10, 곱셈: 200, 나눗셈: 0.5\n"
          ],
          "name": "stdout"
        }
      ]
    },
    {
      "cell_type": "markdown",
      "metadata": {
        "id": "LTBfNOWXKIsR"
      },
      "source": [
        "## 30장 심사문제 - 가장 낮은 점수, 높은 점수와 평균 점수를 구하는 함수 만들기\n",
        "표준 입력으로 국어, 영어, 수학, 과학 점수가 입력됩니다. 다음 소스 코드를 완성하여 가장 높은 점수, 가장 낮은 점수, 평균 점수가 출력되게 만드세요. 평균 점수는 실수로 출력되어야 합니다."
      ]
    },
    {
      "cell_type": "code",
      "metadata": {
        "colab": {
          "base_uri": "https://localhost:8080/"
        },
        "id": "dRQxeiPwHwMP",
        "outputId": "dadb10be-dd28-43b1-9773-f5f1dae76bff"
      },
      "source": [
        "korean, english, mathematics, science = map(int, input().split())\n",
        "\n",
        "def get_min_max_score(*args):\n",
        "    return min(args), max(args)\n",
        "def get_average(**kwargs):\n",
        "    return sum(kwargs.values())/len(kwargs)\n",
        "\n",
        "min_score, max_score = get_min_max_score(korean, english, mathematics, science)\n",
        "average_score = get_average(korean=korean, english=english,\n",
        "                            mathematics=mathematics, science=science)\n",
        "print('낮은 점수: {0:.2f}, 높은 점수: {1:.2f}, 평균 점수: {2:.2f}'\n",
        "      .format(min_score, max_score, average_score))\n",
        " \n",
        "min_score, max_score = get_min_max_score(english, science)\n",
        "average_score = get_average(english=english, science=science)\n",
        "print('낮은 점수: {0:.2f}, 높은 점수: {1:.2f}, 평균 점수: {2:.2f}'\n",
        "      .format(min_score, max_score, average_score))"
      ],
      "execution_count": null,
      "outputs": [
        {
          "output_type": "stream",
          "text": [
            "76 82 89 84\n",
            "낮은 점수: 76.00, 높은 점수: 89.00, 평균 점수: 82.75\n",
            "낮은 점수: 82.00, 높은 점수: 84.00, 평균 점수: 83.00\n"
          ],
          "name": "stdout"
        }
      ]
    },
    {
      "cell_type": "markdown",
      "metadata": {
        "id": "7pyHAWGML0fz"
      },
      "source": [
        "## 31장 연습문제 - 재귀호출로 회문 판별하기\n",
        "다음 소스 코드를 완성하여 문자열이 회문인지 판별하고 결과를 True, False로 출력되게 만드세요.<br> 여기서는 재귀호출을 사용해야 합니다."
      ]
    },
    {
      "cell_type": "code",
      "metadata": {
        "colab": {
          "base_uri": "https://localhost:8080/"
        },
        "id": "yypxpNcEL8Tx",
        "outputId": "a378d9df-7525-4a36-d703-e601a2d8252a"
      },
      "source": [
        "def is_palindrome(word):\n",
        "    if len(word) < 2:\n",
        "        return True\n",
        "    elif word[0] != word[-1]:\n",
        "        return False\n",
        "    else:\n",
        "        return is_palindrome(word[1:-1])\n",
        "\n",
        "\n",
        "print(is_palindrome('hello'))\n",
        "print(is_palindrome('level'))"
      ],
      "execution_count": null,
      "outputs": [
        {
          "output_type": "stream",
          "text": [
            "False\n",
            "True\n"
          ],
          "name": "stdout"
        }
      ]
    },
    {
      "cell_type": "markdown",
      "metadata": {
        "id": "_uMflFu9Qu7-"
      },
      "source": [
        "## 31장 심사문제 - 재귀호출로 피보나치 수 구하기\n",
        "표준 입력으로 정수 한 개가 입력됩니다(입력 값의 범위는 10~30). 다음 소스 코드를 완성하여 입력된 정수에 해당하는 피보나치 수가 출력되게 만드세요.\n",
        "\n",
        "피보나치 수는 0과 1로 시작하며, 다음 번 피보나치 수는 바로 앞의 두 피보나치 수의 합입니다."
      ]
    },
    {
      "cell_type": "code",
      "metadata": {
        "colab": {
          "base_uri": "https://localhost:8080/"
        },
        "id": "V_0YKHh5NxfI",
        "outputId": "01b32e0a-c64a-444b-9e51-fdcb74cc427b"
      },
      "source": [
        "def fib(n):\n",
        "    if n == 0: return 0\n",
        "    elif n == 1: return 1\n",
        "    else:\n",
        "        return fib(n-1)+fib(n-2)\n",
        "        \n",
        "n = int(input())\n",
        "print(fib(n))"
      ],
      "execution_count": null,
      "outputs": [
        {
          "output_type": "stream",
          "text": [
            "20\n",
            "6765\n"
          ],
          "name": "stdout"
        }
      ]
    }
  ]
}