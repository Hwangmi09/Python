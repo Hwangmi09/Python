{
  "nbformat": 4,
  "nbformat_minor": 0,
  "metadata": {
    "colab": {
      "name": "u32-37심사문제.ipynb",
      "provenance": [],
      "collapsed_sections": []
    },
    "kernelspec": {
      "name": "python3",
      "display_name": "Python 3"
    },
    "language_info": {
      "name": "python"
    }
  },
  "cells": [
    {
      "cell_type": "markdown",
      "metadata": {
        "id": "284uma5TXWVb"
      },
      "source": [
        "# 32\\~37장 심사문제"
      ]
    },
    {
      "cell_type": "markdown",
      "metadata": {
        "id": "YFmi9B0hfkQX"
      },
      "source": [
        "## 32장 연습문제 - 이미지 파일만 가져오기\n",
        "다음 소스 코드를 완성하여 확장자가 .jpg, .png인 이미지 파일만 출력되게 만드세요. 여기서는 람다 표현식을 사용해야 하며 출력 결과는 리스트 형태라야 합니다. 람다 표현식에서 확장자를 검사할 때는 문자열 메서드를 활용하세요."
      ]
    },
    {
      "cell_type": "code",
      "metadata": {
        "colab": {
          "base_uri": "https://localhost:8080/"
        },
        "id": "TbcePbYjU_7i",
        "outputId": "e72660ef-2e66-4812-b8bc-2aa8d0168e27"
      },
      "source": [
        "files = ['font', '1.png', '10.jpg', '11.gif', '2.jpg', '3.png', 'table.xslx', 'spec.docx']\n",
        " \n",
        "print(list(filter(lambda x:x[-4:]=='.jpg' or x[-4:]=='.png',files)))    # list(filter(lambda x: x.find('.jpg') != -1 or x.find('.png') != -1, files))"
      ],
      "execution_count": 1,
      "outputs": [
        {
          "output_type": "stream",
          "text": [
            "['1.png', '10.jpg', '2.jpg', '3.png']\n"
          ],
          "name": "stdout"
        }
      ]
    },
    {
      "cell_type": "markdown",
      "metadata": {
        "id": "Tkvpc-YBf3H5"
      },
      "source": [
        "## 32장 심사문제 - 파일 이름을 한꺼번에 바꾸기\n",
        "표준 입력으로 숫자.확장자 형식으로 된 파일 이름 여러 개가 입력됩니다. 다음 소스 코드를 완성하여 파일 이름이 숫자 3개이면서 앞에 0이 들어가는 형식으로 출력되게 만드세요.<br> 예를 들어 1.png는 001.png, 99.docx는 099.docx, 100.xlsx는 100.xlsx처럼 출력되어야 합니다. 그리고 람다 표현식을 사용해야 하며 출력 결과는 리스트 형태라야 합니다. 람다 표현식에서 파일명을 처리할 때는 문자열 포매팅과 문자열 메서드를 활용하세요."
      ]
    },
    {
      "cell_type": "code",
      "metadata": {
        "colab": {
          "base_uri": "https://localhost:8080/"
        },
        "id": "Y1Y6ADJpWDJd",
        "outputId": "a6851cbf-cd93-4541-d64d-9edf2042b893"
      },
      "source": [
        "files = input().split()\n",
        "# print(list(map(lambda x : f'{int(x[:x.find(\".\")]):03d}{x[x.find(\".\"):]}' , files)))         # ''와 \"\" 주의\n",
        "print(list(map(lambda x : f'{int(x.split(\".\")[0]):03d}.{x.split(\".\")[1]}' , files))) "
      ],
      "execution_count": 36,
      "outputs": [
        {
          "output_type": "stream",
          "text": [
            " 97.xlsx 98.docx 99.docx 100.xlsx 101.docx 102.docx\n",
            "['097.xlsx', '098.docx', '099.docx', '100.xlsx', '101.docx', '102.docx']\n"
          ],
          "name": "stdout"
        }
      ]
    },
    {
      "cell_type": "markdown",
      "metadata": {
        "id": "lctL2lvKpx-o"
      },
      "source": [
        "## 33장 연습문제 - 호출 횟수를 세는 함수 만들기\n",
        "다음 소스 코드를 완성하여 함수 c를 호출할 때마다 호출 횟수가 출력되게 만드세요. 여기서는 함수를 클로저로 만들어야 합니다."
      ]
    },
    {
      "cell_type": "code",
      "metadata": {
        "colab": {
          "base_uri": "https://localhost:8080/"
        },
        "id": "AR_MF34Imn7P",
        "outputId": "e33d105f-c9ed-4096-fbd9-315e40b285d7"
      },
      "source": [
        "def counter():\n",
        "    i = 0\n",
        "    def count():\n",
        "        nonlocal i\n",
        "        i += 1\n",
        "        return i\n",
        "    return count\n",
        "                       \n",
        " \n",
        "c = counter()\n",
        "for i in range(10):\n",
        "    print(c(), end=' ')"
      ],
      "execution_count": 39,
      "outputs": [
        {
          "output_type": "stream",
          "text": [
            "1 2 3 4 5 6 7 8 9 10 "
          ],
          "name": "stdout"
        }
      ]
    },
    {
      "cell_type": "markdown",
      "metadata": {
        "id": "B8gm-4NVqpk8"
      },
      "source": [
        "## 33장 심사문제 - 카운트다운 함수 만들기\n",
        "표준 입력으로 정수가 입력됩니다. 다음 소스 코드를 완성하여 함수 c를 호출할 때마다 숫자가 1씩 줄어들게 만드세요. 여기서는 함수를 클로저로 만들어야 합니다. 정답에 코드를 작성할 때는 def countdown(n):에 맞춰서 들여쓰기를 해주세요."
      ]
    },
    {
      "cell_type": "code",
      "metadata": {
        "colab": {
          "base_uri": "https://localhost:8080/"
        },
        "id": "RLA3S_SZqdjG",
        "outputId": "526a9f74-4ad3-4e72-a9fe-08cea922c86d"
      },
      "source": [
        "def countdown(n):\n",
        "    i = n+1\n",
        "    def count():\n",
        "        nonlocal i\n",
        "        i -= 1\n",
        "        return i\n",
        "    return count\n",
        "\n",
        "n = int(input())\n",
        " \n",
        "c = countdown(n)\n",
        "for i in range(n):\n",
        "    print(c(), end=' ')"
      ],
      "execution_count": 48,
      "outputs": [
        {
          "output_type": "stream",
          "text": [
            "20\n",
            "20 19 18 17 16 15 14 13 12 11 10 9 8 7 6 5 4 3 2 1 "
          ],
          "name": "stdout"
        }
      ]
    },
    {
      "cell_type": "code",
      "metadata": {
        "colab": {
          "base_uri": "https://localhost:8080/"
        },
        "id": "U4flUrKQrCrI",
        "outputId": "16d31744-5cfa-432f-ccf9-e8f8d03f8677"
      },
      "source": [
        "def countdown(n):\n",
        "    def count():\n",
        "        nonlocal n\n",
        "        n -= 1\n",
        "        return n+1\n",
        "    return count\n",
        "\n",
        "n = int(input())\n",
        " \n",
        "c = countdown(n)\n",
        "for i in range(n):\n",
        "    print(c(), end=' ')"
      ],
      "execution_count": 51,
      "outputs": [
        {
          "output_type": "stream",
          "text": [
            "20\n",
            "20 19 18 17 16 15 14 13 12 11 10 9 8 7 6 5 4 3 2 1 "
          ],
          "name": "stdout"
        }
      ]
    },
    {
      "cell_type": "markdown",
      "metadata": {
        "id": "rXuRrihVtjKT"
      },
      "source": [
        "## 34장 심사문제 - 게임 캐릭터 클래스 만들기\n",
        "표준 입력으로 게임 캐릭터 능력치(체력, 마나, AP)가 입력됩니다. 다음 소스 코드에서 애니(Annie) 클래스를 작성하여 티버(tibbers) 스킬의 피해량이 출력되게 만드세요. 티버의 피해량은 AP * 0.65 + 400이며 AP(Ability Power, 주문력)는 마법 능력치를 뜻합니다."
      ]
    },
    {
      "cell_type": "code",
      "metadata": {
        "colab": {
          "base_uri": "https://localhost:8080/"
        },
        "id": "kAYzN3hYruH9",
        "outputId": "f7852beb-da94-4d05-dc12-1ddbf47d09f7"
      },
      "source": [
        "class Annie:\n",
        "    def __init__(self,health,mana,ability_power):\n",
        "        self.health = health\n",
        "        self.mana = mana\n",
        "        self.ability_power = ability_power\n",
        "    \n",
        "    def tibbers(self):\n",
        "        print('티버: 피해량',self.ability_power*0.65+400)\n",
        "\n",
        "\n",
        "health, mana, ability_power = map(float, input().split())\n",
        " \n",
        "x = Annie(health=health, mana=mana, ability_power=ability_power)\n",
        "x.tibbers()"
      ],
      "execution_count": 57,
      "outputs": [
        {
          "output_type": "stream",
          "text": [
            "511.68 334.0 298\n",
            "티버: 피해량 593.7\n"
          ],
          "name": "stdout"
        }
      ]
    },
    {
      "cell_type": "markdown",
      "metadata": {
        "id": "vnKTZzRPvPV4"
      },
      "source": [
        "## 35장 심사문제 - 시간 클래스 만들기\n",
        "표준 입력으로 시:분:초 형식의 시간이 입력됩니다. 다음 소스 코드에서 Time 클래스를 완성하여 시, 분, 초가 출력되게 만드세요.<br> from_string은 문자열로 인스턴스를 만드는 메서드이며 is_time_valid는 문자열이 올바른 시간인지 검사하는 메서드입니다.<br> 시간은 24시까지, 분은 59분까지, 초는 60초까지 있어야 합니다. 정답에 코드를 작성할 때는 class Time:에 맞춰서 들여쓰기를 해주세요."
      ]
    },
    {
      "cell_type": "code",
      "metadata": {
        "colab": {
          "base_uri": "https://localhost:8080/"
        },
        "id": "gSRv2Z6l4e68",
        "outputId": "88a5924e-e633-4147-bffe-0cb4e5cdef93"
      },
      "source": [
        "class Time:\n",
        "    def __init__(self, hour, minute, second):\n",
        "        self.hour = hour\n",
        "        self.minute = minute\n",
        "        self.second = second\n",
        "\n",
        "    @classmethod\n",
        "    def from_string(cls,time_string):\n",
        "        time_list = list(map(int,time_string.split(':')))\n",
        "        return cls(time_list[0],time_list[1],time_list[2])      # cls를 사용하면 메서드 안에서 현재 클래스의 인스턴스를 만들 수 있다\n",
        "\n",
        "    @staticmethod\n",
        "    def is_time_valid(time_string):\n",
        "        h, m, s = map(int,time_string.split(':'))\n",
        "        return h <= 24 and m <= 59 and s <=60 \n",
        "\n",
        "time_string = input()\n",
        " \n",
        "if Time.is_time_valid(time_string):             # 클래스명.메서드명() => 클래스 메서드 또는 정적 메서드로 정의\n",
        "    t = Time.from_string(time_string)           # 클래스명().메서드() => 인스턴스 메서드로 정의\n",
        "        print(t.hour, t.minute, t.second)\n",
        "else:\n",
        "    print('잘못된 시간 형식입니다.')"
      ],
      "execution_count": 89,
      "outputs": [
        {
          "output_type": "stream",
          "text": [
            "12:62:43\n",
            "잘못된 시간 형식입니다.\n"
          ],
          "name": "stdout"
        }
      ]
    },
    {
      "cell_type": "code",
      "metadata": {
        "id": "C-X7FGYx-rk4"
      },
      "source": [
        "# 인스턴스를 통하지 않고 클래스에서 바로 호출할 수 있는 정적 메서드와 클래스 메서드\n",
        "# 정적 메서드 내에서는 인스턴스 속성에 접근할 수 없다. (인스턴스 속성과 인스턴스 메소드가 필요하지 않을 때 사용)\n",
        "# cls를 사용하면 메서드 안에서 현재 클래스의 인스턴스를 만들 수 있다."
      ],
      "execution_count": 1,
      "outputs": []
    },
    {
      "cell_type": "code",
      "metadata": {
        "colab": {
          "base_uri": "https://localhost:8080/"
        },
        "id": "tcvbK8-2UP5K",
        "outputId": "3d73a977-65bc-4601-e581-85898fbc4152"
      },
      "source": [
        "class Time:\n",
        "    def __init__(self, hour, minute, second):\n",
        "        self.hour = hour\n",
        "        self.minute = minute\n",
        "        self.second = second\n",
        "\n",
        "    @staticmethod\n",
        "    def from_string(time_string):\n",
        "        time_list = list(map(int,time_string.split(':')))\n",
        "        return Time(time_list[0],time_list[1],time_list[2])      # cls대신 Time()\n",
        "\n",
        "    @staticmethod\n",
        "    def is_time_valid(time_string):\n",
        "        h = Time.from_string(time_string)                       # from_string() 이용\n",
        "        return h.hour <= 24 and h.minute <= 59 and h.second <=60 \n",
        "\n",
        "time_string = input()\n",
        " \n",
        "if Time.is_time_valid(time_string):             \n",
        "    t = Time.from_string(time_string)           \n",
        "    print(t.hour, t.minute, t.second)\n",
        "else:\n",
        "    print('잘못된 시간 형식입니다.')"
      ],
      "execution_count": 8,
      "outputs": [
        {
          "output_type": "stream",
          "text": [
            "12:59:43\n",
            "12 59 43\n"
          ],
          "name": "stdout"
        }
      ]
    },
    {
      "cell_type": "markdown",
      "metadata": {
        "id": "m2C5Vx44UQhl"
      },
      "source": [
        "## 36장 연습문제 - 리스트에 기능 추가하기\n",
        "다음 소스 코드에서 리스트(list)에 replace 메서드를 추가한 AdvancedList 클래스를 작성하세요. AdvancedList는 list를 상속받아서 만들고, replace 메서드는 리스트에서 특정 값으로 된 요소를 찾아서 다른 값으로 바꾸도록 만드세요."
      ]
    },
    {
      "cell_type": "code",
      "metadata": {
        "colab": {
          "base_uri": "https://localhost:8080/"
        },
        "id": "vQRTL6oEWeDx",
        "outputId": "3f1839ad-5398-4464-f515-0345ab4c0693"
      },
      "source": [
        "class AdvancedList(list):\n",
        "    def replace(self,a,b):\n",
        "        while a in self:\n",
        "            self[self.index(a)] = b\n",
        "\n",
        "x = AdvancedList([1, 2, 3, 1, 2, 3, 1, 2, 3])\n",
        "x.replace(1, 100)\n",
        "print(x)"
      ],
      "execution_count": 33,
      "outputs": [
        {
          "output_type": "stream",
          "text": [
            "[100, 2, 3, 100, 2, 3, 100, 2, 3]\n"
          ],
          "name": "stdout"
        }
      ]
    },
    {
      "cell_type": "markdown",
      "metadata": {
        "id": "hAsT_dZvd3kc"
      },
      "source": [
        "## 36장 심사문제 - 다중 상속 사용하기\n",
        "다음 소스 코드에서 동물 클래스 Animal과 날개 클래스 Wing을 상속받아 새 클래스 Bird를 작성하여 '먹다', '파닥거리다', '날다', True, True가 각 줄에 출력되게 만드세요."
      ]
    },
    {
      "cell_type": "code",
      "metadata": {
        "colab": {
          "base_uri": "https://localhost:8080/"
        },
        "id": "7aacUsbNbJIu",
        "outputId": "34ead7c1-95d5-4d22-d022-34febff72232"
      },
      "source": [
        "class Animal:\n",
        "    def eat(self):\n",
        "        print('먹다')\n",
        " \n",
        "class Wing:\n",
        "    def flap(self):\n",
        "        print('파닥거리다')\n",
        "\n",
        "class Bird(Animal,Wing):\n",
        "    def fly(self):\n",
        "        print('날다')\n",
        "\n",
        "b = Bird()\n",
        "b.eat()\n",
        "b.flap()\n",
        "b.fly()\n",
        "print(issubclass(Bird, Animal))\n",
        "print(issubclass(Bird, Wing))"
      ],
      "execution_count": 34,
      "outputs": [
        {
          "output_type": "stream",
          "text": [
            "먹다\n",
            "파닥거리다\n",
            "날다\n",
            "True\n",
            "True\n"
          ],
          "name": "stdout"
        }
      ]
    },
    {
      "cell_type": "markdown",
      "metadata": {
        "id": "UBRgnW8dhqPs"
      },
      "source": [
        "## 37장 심사문제 - 두 점 사이의 거리 구하기\n",
        "표준 입력으로 x, y 좌표 4개가 입력되어 Point2D 클래스의 인스턴스 리스트에 저장됩니다. 여기서 점 4개는 첫 번째 점부터 마지막 점까지 순서대로 이어져 있습니다. 다음 소스 코드를 완성하여 첫 번째 점부터 마지막 점까지 연결된 선의 길이가 출력되게 만드세요."
      ]
    },
    {
      "cell_type": "code",
      "metadata": {
        "colab": {
          "base_uri": "https://localhost:8080/"
        },
        "id": "HHeXLbcTfkzu",
        "outputId": "406d1155-11b3-48d2-b6e9-26a7ca2b0957"
      },
      "source": [
        "import math\n",
        " \n",
        "class Point2D:\n",
        "    def __init__(self, x=0, y=0):\n",
        "        self.x = x\n",
        "        self.y = y\n",
        " \n",
        "length = 0.0\n",
        "p = [Point2D(), Point2D(), Point2D(), Point2D()]\n",
        "p[0].x, p[0].y, p[1].x, p[1].y, p[2].x, p[2].y, p[3].x, p[3].y = map(int, input().split())\n",
        "\n",
        "for i in range(len(p)-1):\n",
        "    length += math.sqrt((p[i+1].x-p[i].x)**2 + (p[i+1].y-p[i].y)**2)\n",
        "\n",
        "print(length)"
      ],
      "execution_count": 38,
      "outputs": [
        {
          "output_type": "stream",
          "text": [
            "10 10 20 20 30 30 40 40\n",
            "42.42640687119285\n"
          ],
          "name": "stdout"
        }
      ]
    }
  ]
}