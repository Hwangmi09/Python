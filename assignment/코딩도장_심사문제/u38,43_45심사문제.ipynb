{
  "nbformat": 4,
  "nbformat_minor": 0,
  "metadata": {
    "colab": {
      "name": "u38,43-45심사문제.ipynb",
      "provenance": [],
      "collapsed_sections": []
    },
    "kernelspec": {
      "name": "python3",
      "display_name": "Python 3"
    },
    "language_info": {
      "name": "python"
    }
  },
  "cells": [
    {
      "cell_type": "code",
      "metadata": {
        "colab": {
          "base_uri": "https://localhost:8080/"
        },
        "id": "4tykpL5EHImG",
        "outputId": "b6612ec9-bb67-4980-b99c-47e289834ddc"
      },
      "source": [
        "def 함수A():\n",
        "    try:\n",
        "        raise Exception('에러메시지')    # 예외를 발생시킴\n",
        "    except Exception as e:             # 함수 안에서 예외를 처리함\n",
        "        raise                          # raise만 사용하면 현재 예외를 다시 상위 코드 블록으로 넘김\n",
        " \n",
        "try:\n",
        "    함수A()\n",
        "except Exception as e:                 # 하위 코드 블록에서 예외가 발생해도 실행됨\n",
        "    print(e)"
      ],
      "execution_count": 1,
      "outputs": [
        {
          "output_type": "stream",
          "text": [
            "에러메시지\n"
          ],
          "name": "stdout"
        }
      ]
    },
    {
      "cell_type": "code",
      "metadata": {
        "colab": {
          "base_uri": "https://localhost:8080/"
        },
        "id": "SJ8Glx74Mi1w",
        "outputId": "b149d070-6c4d-4fca-97e6-d312292e0e24"
      },
      "source": [
        "def three_multiple():\n",
        "    x = int(input('3의 배수를 입력하세요: '))\n",
        "    if x % 3 != 0:                                 # x가 3의 배수가 아니면\n",
        "        raise Exception('3의 배수가 아닙니다.')    # 예외를 발생시킴\n",
        "    print(x)                                       # 현재 함수 안에는 except가 없으므로\n",
        "                                                   # 예외를 상위 코드 블록으로 넘김\n",
        "try:\n",
        "    three_multiple()\n",
        "except Exception as e:\n",
        "    print(e)"
      ],
      "execution_count": 4,
      "outputs": [
        {
          "output_type": "stream",
          "text": [
            "3의 배수를 입력하세요: 5\n",
            "3의 배수가 아닙니다.\n"
          ],
          "name": "stdout"
        }
      ]
    },
    {
      "cell_type": "markdown",
      "metadata": {
        "id": "OmOSfMTvp8z-"
      },
      "source": [
        "# 38,43\\~45장 심사문제"
      ]
    },
    {
      "cell_type": "markdown",
      "metadata": {
        "id": "3yO205I2Tskh"
      },
      "source": [
        "## 38장 심사문제 - 회문이 아니면 예외 발생시키기\n",
        "표준 입력으로 문자열이 입력됩니다. 다음 소스 코드를 완성하여 입력된 문자열이 회문이면 문자열을 그대로 출력하고, 회문이 아니면 '회문이 아닙니다.'를 출력하도록 만드세요. palindrome 함수와 NotPalindromeError 예외를 작성해야 합니다."
      ]
    },
    {
      "cell_type": "code",
      "metadata": {
        "colab": {
          "base_uri": "https://localhost:8080/"
        },
        "id": "A-GW_MyTOtO4",
        "outputId": "53ff8a94-9ca8-479f-cb01-e2f3d88ac38d"
      },
      "source": [
        "class NotPalindromeError(Exception):\n",
        "    def __init__(self):\n",
        "        super().__init__('회문이 아닙니다.')\n",
        "\n",
        "def palindrome(word):\n",
        "    if word == word[::-1]:\n",
        "        print(word)\n",
        "    else:\n",
        "        raise NotPalindromeError()\n",
        "\n",
        "try:\n",
        "    word = input()\n",
        "    palindrome(word)\n",
        "except NotPalindromeError as e:\n",
        "    print(e)"
      ],
      "execution_count": 15,
      "outputs": [
        {
          "output_type": "stream",
          "text": [
            "sfaga\n",
            "회문이 아닙니다.\n"
          ],
          "name": "stdout"
        }
      ]
    },
    {
      "cell_type": "markdown",
      "metadata": {
        "id": "LrjH1XlfWD42"
      },
      "source": [
        "## 43장 심사문제 - URL 검사하기\n",
        "표준 입력으로 URL 문자열이 입력 입력됩니다. 입력된 URL이 올바르면 True, 잘못되었으면 False를 출력하는 프로그램을 만드세요. 이 심사문제에서 판단해야 할 URL의 규칙은 다음과 같습니다.\n",
        "\n",
        "- http:// 또는 https://로 시작\n",
        "- 도메인은 도메인.최상위도메인 형식이며 영문 대소문자, 숫자, -로 되어 있어야 함\n",
        "- 도메인 이하 경로는 /로 구분하고, 영문 대소문자, 숫자, -, _, ., ?, =을 사용함"
      ]
    },
    {
      "cell_type": "code",
      "metadata": {
        "colab": {
          "base_uri": "https://localhost:8080/"
        },
        "id": "EDES9xLoUPlR",
        "outputId": "7d4d8c03-9658-42ef-ddae-e49c4b6b60d0"
      },
      "source": [
        "import re\n",
        "url = input()\n",
        "print(True if re.match('^http://|https://[A-Za-z0-9-]+\\.[A-Za-z0-9-.]+/[A-Za-z0-9-/_.?=]*',url) else False)"
      ],
      "execution_count": 15,
      "outputs": [
        {
          "output_type": "stream",
          "text": [
            "https://example/hello/world.html\n",
            "False\n"
          ],
          "name": "stdout"
        }
      ]
    },
    {
      "cell_type": "code",
      "metadata": {
        "id": "wAwBqBkBcwsc"
      },
      "source": [
        "import re\n",
        "url = input()\n",
        "print(True if re.match('^http://|https://[A-Za-z0-9-]+[.]+[A-Za-z0-9-]+[A-Za-z0-9/-_.?=]*',url) else False)"
      ],
      "execution_count": null,
      "outputs": []
    },
    {
      "cell_type": "markdown",
      "metadata": {
        "id": "ujDIAwj4fGFE"
      },
      "source": [
        "## 44장 - 원의 넓이 구하기\n",
        "표준 입력으로 원의 반지름(실수)이 입력됩니다. 입력된 반지름을 이용하여 원의 넓이를 출력하는 프로그램을 만드세요(input에서 안내 문자열은 출력하지 않아야 합니다). 원의 넓이는 반지름 * 반지름 * 원주율로 구합니다."
      ]
    },
    {
      "cell_type": "code",
      "metadata": {
        "colab": {
          "base_uri": "https://localhost:8080/"
        },
        "id": "7cJTPFDdfKi8",
        "outputId": "31b1c08f-1ee0-4009-dc30-cb7ad9c62211"
      },
      "source": [
        "from math import pi\n",
        "r = float(input())\n",
        "print(r*r*pi)"
      ],
      "execution_count": 16,
      "outputs": [
        {
          "output_type": "stream",
          "text": [
            "10.0\n",
            "314.1592653589793\n"
          ],
          "name": "stdout"
        }
      ]
    },
    {
      "cell_type": "markdown",
      "metadata": {
        "id": "BFSdp9a8iw3y"
      },
      "source": [
        "## 45장 - 패키지 사용하기\n",
        "표준 입력으로 정수가 입력됩니다. 주어진 calcpkg 패키지를 활용하여 입력된 정수의 제곱근과 입력된 정수를 반지름으로 하는 원의 넓이가 출력되게 만드세요. 제곱근은 calcpkg 패키지에서 operation 모듈의 squareroot 함수를 사용하고, 원의 넓이는 calcpkg 패키지에서 geometry 모듈의 circle_area 함수를 사용하세요(calcpkg 패키지를 사용하지 않고 계산하면 결과가 맞더라도 틀린 것으로 처리됩니다. 반드시 calcpkg 패키지를 사용하세요)."
      ]
    },
    {
      "cell_type": "code",
      "metadata": {
        "id": "GVgFsu82pQPA"
      },
      "source": [
        "from calcpkg.operation import squareroot\n",
        "from calcpkg.geometry import circle_area\n",
        "n = int(input())\n",
        "print(squareroot(n))\n",
        "print(circle_area(n))"
      ],
      "execution_count": null,
      "outputs": []
    },
    {
      "cell_type": "code",
      "metadata": {
        "id": "npWrhGIhpR_d"
      },
      "source": [
        "import calcpkg.operation\n",
        "import calcpkg.geometry\n",
        "n = int(input())\n",
        "print(calcpkg.operation.squareroot(n))\n",
        "print(calcpkg.geometry.circle_area(n))"
      ],
      "execution_count": null,
      "outputs": []
    }
  ]
}