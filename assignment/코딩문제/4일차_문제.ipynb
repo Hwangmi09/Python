{
  "nbformat": 4,
  "nbformat_minor": 0,
  "metadata": {
    "colab": {
      "name": "4일차_문제.ipynb",
      "provenance": [],
      "collapsed_sections": []
    },
    "kernelspec": {
      "name": "python3",
      "display_name": "Python 3"
    },
    "language_info": {
      "name": "python"
    }
  },
  "cells": [
    {
      "cell_type": "markdown",
      "metadata": {
        "id": "IMiTKgP1KmO5"
      },
      "source": [
        "## 피타고라스 문제\n",
        "- a + b + c = 1000 (a < b < c)\n",
        "- a*a + b*b = c*c인 피타고라스 수는?"
      ]
    },
    {
      "cell_type": "code",
      "metadata": {
        "colab": {
          "base_uri": "https://localhost:8080/"
        },
        "id": "Yz-vQzp7KTgn",
        "outputId": "04d70ff1-d200-424c-c07f-e360e27bb108"
      },
      "source": [
        "num_count = 0\n",
        "for a in range(1,333):\n",
        "    for b in range(a+1,500):\n",
        "        c = 1000-a-b\n",
        "        if a*a + b*b == c*c:          \n",
        "            num_count += 1\n",
        "print(num_count)"
      ],
      "execution_count": 2,
      "outputs": [
        {
          "output_type": "stream",
          "text": [
            "1\n"
          ],
          "name": "stdout"
        }
      ]
    },
    {
      "cell_type": "code",
      "metadata": {
        "colab": {
          "base_uri": "https://localhost:8080/"
        },
        "id": "AUd-ajsUKpAi",
        "outputId": "8023e045-2370-41fd-bc9f-7dcd92ff57a0"
      },
      "source": [
        "[(a,b,1000-a-b) for a in range(1,333) for b in range(a+1,500) if a*a + b*b == (1000-a-b)*(1000-a-b)]"
      ],
      "execution_count": 1,
      "outputs": [
        {
          "output_type": "execute_result",
          "data": {
            "text/plain": [
              "[(200, 375, 425)]"
            ]
          },
          "metadata": {
            "tags": []
          },
          "execution_count": 1
        }
      ]
    },
    {
      "cell_type": "markdown",
      "metadata": {
        "id": "UYTs66Y_K0Q8"
      },
      "source": [
        "## 오늘 날짜의 만 나이를 구하는 프로그램\n",
        "본인의 생일을 년, 월, 일로 입력받아 오늘 날짜의 만 나이를 구하는 프로그램을 작성하시오."
      ]
    },
    {
      "cell_type": "code",
      "metadata": {
        "colab": {
          "base_uri": "https://localhost:8080/"
        },
        "id": "O0z9K2MVKvHg",
        "outputId": "2698578f-866b-4452-b24a-f5f1eef7de2f"
      },
      "source": [
        "# 날짜 메서드\n",
        "from datetime import date\n",
        "today = date.today()\n",
        "today.year, today.month, today.day"
      ],
      "execution_count": null,
      "outputs": [
        {
          "output_type": "execute_result",
          "data": {
            "text/plain": [
              "(2021, 7, 29)"
            ]
          },
          "metadata": {
            "tags": []
          },
          "execution_count": 3
        }
      ]
    },
    {
      "cell_type": "code",
      "metadata": {
        "colab": {
          "base_uri": "https://localhost:8080/"
        },
        "id": "NWsGPagIK2ww",
        "outputId": "d3dedea6-112a-4d83-9df9-fb77fbd1dd12"
      },
      "source": [
        "from datetime import date\n",
        "birth = list(map(int,input('생년월일을 입력하세요> ').split()))\n",
        "today = date.today()\n",
        "if today.month > birth[1]:   \n",
        "    age = today.year-birth[0]\n",
        "elif today.month == birth[1] and today.day >= birth[2]:\n",
        "    age = today.year-birth[0]\n",
        "else:\n",
        "    age = today.year-birth[0]-1\n",
        "print(\"만 \",age,\"세\",sep='')"
      ],
      "execution_count": 4,
      "outputs": [
        {
          "output_type": "stream",
          "text": [
            "생년월일을 입력하세요> 1998 9 30\n",
            "만 22세\n"
          ],
          "name": "stdout"
        }
      ]
    },
    {
      "cell_type": "markdown",
      "metadata": {
        "id": "GjRm_XFoLKk2"
      },
      "source": [
        "## 디지털 시계\n",
        "디지털 시계에 하루동안(00:00\\~23:59) 3이 표시되는 시간을 초로 환산하면 총 몇 초(second)일까요? (디지털 시계는 하루동안 다음과 같이 시:분(00:00\\~23:59)으로 표시됨.)"
      ]
    },
    {
      "cell_type": "code",
      "metadata": {
        "colab": {
          "base_uri": "https://localhost:8080/"
        },
        "id": "DhRY1mrpK9Bg",
        "outputId": "6305691b-c261-442d-b52f-4c612b378ffe"
      },
      "source": [
        "sec = 0\n",
        "for h in range(24):\n",
        "    for m in range(60):\n",
        "        if '3' in str(h) or '3' in str(m):\n",
        "            sec += 60\n",
        "print(sec)"
      ],
      "execution_count": 3,
      "outputs": [
        {
          "output_type": "stream",
          "text": [
            "29700\n"
          ],
          "name": "stdout"
        }
      ]
    },
    {
      "cell_type": "code",
      "metadata": {
        "id": "PRe3rUFYLNQI"
      },
      "source": [
        ""
      ],
      "execution_count": null,
      "outputs": []
    }
  ]
}