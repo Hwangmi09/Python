{
  "nbformat": 4,
  "nbformat_minor": 0,
  "metadata": {
    "colab": {
      "name": "u05_숫자계산.ipynb",
      "provenance": [],
      "collapsed_sections": [],
      "toc_visible": true
    },
    "kernelspec": {
      "name": "python3",
      "display_name": "Python 3"
    },
    "language_info": {
      "name": "python"
    }
  },
  "cells": [
    {
      "cell_type": "markdown",
      "metadata": {
        "id": "UDuS-Ecvo6uq"
      },
      "source": [
        "# Unit5. 숫자 계산하기"
      ]
    },
    {
      "cell_type": "markdown",
      "metadata": {
        "id": "08JGrgtBpC2C"
      },
      "source": [
        "## 5.1 정수"
      ]
    },
    {
      "cell_type": "code",
      "metadata": {
        "colab": {
          "base_uri": "https://localhost:8080/"
        },
        "id": "7py0vX0Wo1eh",
        "outputId": "c6ae4386-f856-4951-9fea-7375aeff8779"
      },
      "source": [
        "# 4칙 연산, +,-,*,/,%,//\n",
        "5/2"
      ],
      "execution_count": 1,
      "outputs": [
        {
          "output_type": "execute_result",
          "data": {
            "text/plain": [
              "2.5"
            ]
          },
          "metadata": {
            "tags": []
          },
          "execution_count": 1
        }
      ]
    },
    {
      "cell_type": "code",
      "metadata": {
        "colab": {
          "base_uri": "https://localhost:8080/"
        },
        "id": "a91e0ilptht-",
        "outputId": "5418497a-3878-4764-f2ba-14d0682443bb"
      },
      "source": [
        "# % - modulo, 나머지\n",
        "5%2"
      ],
      "execution_count": 2,
      "outputs": [
        {
          "output_type": "execute_result",
          "data": {
            "text/plain": [
              "1"
            ]
          },
          "metadata": {
            "tags": []
          },
          "execution_count": 2
        }
      ]
    },
    {
      "cell_type": "code",
      "metadata": {
        "colab": {
          "base_uri": "https://localhost:8080/"
        },
        "id": "ht8lnfmitmE9",
        "outputId": "40f44daf-f36c-4966-bf45-368590a68d55"
      },
      "source": [
        "# // - 몫\n",
        "5 // 2"
      ],
      "execution_count": 3,
      "outputs": [
        {
          "output_type": "execute_result",
          "data": {
            "text/plain": [
              "2"
            ]
          },
          "metadata": {
            "tags": []
          },
          "execution_count": 3
        }
      ]
    },
    {
      "cell_type": "code",
      "metadata": {
        "colab": {
          "base_uri": "https://localhost:8080/"
        },
        "id": "m6pxiz4Ltq-T",
        "outputId": "996e8bb0-0a6b-4538-8144-aa37f37ee84b"
      },
      "source": [
        "# 3의 배수 - 어떤 숫자를 3으로 모듈로 연산을 했을 때 결과가 0\n",
        "6 % 3"
      ],
      "execution_count": 4,
      "outputs": [
        {
          "output_type": "execute_result",
          "data": {
            "text/plain": [
              "0"
            ]
          },
          "metadata": {
            "tags": []
          },
          "execution_count": 4
        }
      ]
    },
    {
      "cell_type": "code",
      "metadata": {
        "colab": {
          "base_uri": "https://localhost:8080/"
        },
        "id": "F1PNj_I_uald",
        "outputId": "0defa400-67be-4a56-c5be-2e395f06556c"
      },
      "source": [
        "# 거듭 제곱\n",
        "2**10"
      ],
      "execution_count": 5,
      "outputs": [
        {
          "output_type": "execute_result",
          "data": {
            "text/plain": [
              "1024"
            ]
          },
          "metadata": {
            "tags": []
          },
          "execution_count": 5
        }
      ]
    },
    {
      "cell_type": "markdown",
      "metadata": {
        "id": "73mshnvrvDaQ"
      },
      "source": [
        "### 값을 정수로 변환"
      ]
    },
    {
      "cell_type": "code",
      "metadata": {
        "colab": {
          "base_uri": "https://localhost:8080/"
        },
        "id": "as0MjPQmuzL5",
        "outputId": "abf930b7-2c5b-491c-ee42-3f87b6d5ed6c"
      },
      "source": [
        "int(3.14)"
      ],
      "execution_count": 6,
      "outputs": [
        {
          "output_type": "execute_result",
          "data": {
            "text/plain": [
              "3"
            ]
          },
          "metadata": {
            "tags": []
          },
          "execution_count": 6
        }
      ]
    },
    {
      "cell_type": "code",
      "metadata": {
        "colab": {
          "base_uri": "https://localhost:8080/"
        },
        "id": "SOrBg092vOzD",
        "outputId": "d3d2d66b-1bfb-416d-bd32-3277c6ba0579"
      },
      "source": [
        "int(5/2)"
      ],
      "execution_count": 7,
      "outputs": [
        {
          "output_type": "execute_result",
          "data": {
            "text/plain": [
              "2"
            ]
          },
          "metadata": {
            "tags": []
          },
          "execution_count": 7
        }
      ]
    },
    {
      "cell_type": "code",
      "metadata": {
        "colab": {
          "base_uri": "https://localhost:8080/"
        },
        "id": "7a9tYLaEvWEu",
        "outputId": "3305550d-d1d0-4d1c-d6cb-f9dc0e274917"
      },
      "source": [
        "# 'single quote', \"double quote\"\n",
        "int('55')"
      ],
      "execution_count": 8,
      "outputs": [
        {
          "output_type": "execute_result",
          "data": {
            "text/plain": [
              "55"
            ]
          },
          "metadata": {
            "tags": []
          },
          "execution_count": 8
        }
      ]
    },
    {
      "cell_type": "code",
      "metadata": {
        "colab": {
          "base_uri": "https://localhost:8080/"
        },
        "id": "fU3hEUHNvXNU",
        "outputId": "0ba5960f-ef09-412c-9b56-c57c9b9e4798"
      },
      "source": [
        "string = '55'\n",
        "value  = int(string)\n",
        "string, value"
      ],
      "execution_count": 9,
      "outputs": [
        {
          "output_type": "execute_result",
          "data": {
            "text/plain": [
              "('55', 55)"
            ]
          },
          "metadata": {
            "tags": []
          },
          "execution_count": 9
        }
      ]
    },
    {
      "cell_type": "code",
      "metadata": {
        "colab": {
          "base_uri": "https://localhost:8080/"
        },
        "id": "thmCF0aZwIp8",
        "outputId": "54713a39-87e9-45fb-c64f-3fab0b7bb9bc"
      },
      "source": [
        "type(string), type(value), type(3.14) # ,로 구분 => 튜플"
      ],
      "execution_count": 11,
      "outputs": [
        {
          "output_type": "execute_result",
          "data": {
            "text/plain": [
              "(str, int, float)"
            ]
          },
          "metadata": {
            "tags": []
          },
          "execution_count": 11
        }
      ]
    },
    {
      "cell_type": "code",
      "metadata": {
        "colab": {
          "base_uri": "https://localhost:8080/"
        },
        "id": "JS9xSW9Awa3R",
        "outputId": "9028ddd3-aa20-45ca-edc4-13f7d5566c4d"
      },
      "source": [
        "# 몫과 나머지를 동시에 계산 divmod(5,2)\n",
        "q, r = 5//2, 5%2\n",
        "print(q,r)\n",
        "q2, r2 = divmod(5,2)\n",
        "print(q2,r2)"
      ],
      "execution_count": 12,
      "outputs": [
        {
          "output_type": "stream",
          "text": [
            "2 1\n",
            "2 1\n"
          ],
          "name": "stdout"
        }
      ]
    },
    {
      "cell_type": "markdown",
      "metadata": {
        "id": "WjlUibXzx4mv"
      },
      "source": [
        "### 진수"
      ]
    },
    {
      "cell_type": "code",
      "metadata": {
        "colab": {
          "base_uri": "https://localhost:8080/"
        },
        "id": "VUFaulshxxIE",
        "outputId": "eb30f7f6-d1a1-48b3-dac0-b272d2ac799f"
      },
      "source": [
        "# 2진수, 8진수, 16진수\n",
        "0b101, 0o5, 0x5\n",
        "# 2진수를 3자리씩 나누어 표현 => 8진수\n",
        "# 2진수를 4자리씩 나누어 표현 => 16진수"
      ],
      "execution_count": 14,
      "outputs": [
        {
          "output_type": "execute_result",
          "data": {
            "text/plain": [
              "(5, 5, 5)"
            ]
          },
          "metadata": {
            "tags": []
          },
          "execution_count": 14
        }
      ]
    },
    {
      "cell_type": "markdown",
      "metadata": {
        "id": "V2W7zhqBzuDm"
      },
      "source": [
        "## 5.2 실수"
      ]
    },
    {
      "cell_type": "code",
      "metadata": {
        "colab": {
          "base_uri": "https://localhost:8080/"
        },
        "id": "Rs1TY-_CyfiI",
        "outputId": "fb7e3d2f-a45b-4434-c74d-58e7eb7fc376"
      },
      "source": [
        "3.5+2.1"
      ],
      "execution_count": 15,
      "outputs": [
        {
          "output_type": "execute_result",
          "data": {
            "text/plain": [
              "5.6"
            ]
          },
          "metadata": {
            "tags": []
          },
          "execution_count": 15
        }
      ]
    },
    {
      "cell_type": "code",
      "metadata": {
        "colab": {
          "base_uri": "https://localhost:8080/"
        },
        "id": "YzEKkbmQz0Ul",
        "outputId": "2e22494d-dbbc-426e-9651-b00b35686cdb"
      },
      "source": [
        "4.3-2.7"
      ],
      "execution_count": 16,
      "outputs": [
        {
          "output_type": "execute_result",
          "data": {
            "text/plain": [
              "1.5999999999999996"
            ]
          },
          "metadata": {
            "tags": []
          },
          "execution_count": 16
        }
      ]
    },
    {
      "cell_type": "code",
      "metadata": {
        "colab": {
          "base_uri": "https://localhost:8080/"
        },
        "id": "Cc6BxOUcz2Ep",
        "outputId": "43ecff9d-8acb-4f48-9aa1-203625fd0adb"
      },
      "source": [
        "4.3-2.7 == 1.6  # 실수는 오차 발생"
      ],
      "execution_count": 17,
      "outputs": [
        {
          "output_type": "execute_result",
          "data": {
            "text/plain": [
              "False"
            ]
          },
          "metadata": {
            "tags": []
          },
          "execution_count": 17
        }
      ]
    },
    {
      "cell_type": "code",
      "metadata": {
        "colab": {
          "base_uri": "https://localhost:8080/"
        },
        "id": "ZigpR1Tz0qsw",
        "outputId": "8d6326fb-8cda-4e35-fdba-024d1ee307dd"
      },
      "source": [
        "import numpy as np\n",
        "np.abs((4.3-2.7)-1.6) < 1e-10"
      ],
      "execution_count": 18,
      "outputs": [
        {
          "output_type": "execute_result",
          "data": {
            "text/plain": [
              "True"
            ]
          },
          "metadata": {
            "tags": []
          },
          "execution_count": 18
        }
      ]
    },
    {
      "cell_type": "code",
      "metadata": {
        "colab": {
          "base_uri": "https://localhost:8080/"
        },
        "id": "xz7K6hx_04Mc",
        "outputId": "1100d587-878d-4234-8013-42823f4f0458"
      },
      "source": [
        "4.2+5"
      ],
      "execution_count": 19,
      "outputs": [
        {
          "output_type": "execute_result",
          "data": {
            "text/plain": [
              "9.2"
            ]
          },
          "metadata": {
            "tags": []
          },
          "execution_count": 19
        }
      ]
    },
    {
      "cell_type": "code",
      "metadata": {
        "colab": {
          "base_uri": "https://localhost:8080/",
          "height": 176
        },
        "id": "6L2TQXsn2BHt",
        "outputId": "ce51d6fb-b19b-45ec-e2e1-1a8a37168f7b"
      },
      "source": [
        "4.2 + '5'"
      ],
      "execution_count": 20,
      "outputs": [
        {
          "output_type": "error",
          "ename": "TypeError",
          "evalue": "ignored",
          "traceback": [
            "\u001b[0;31m---------------------------------------------------------------------------\u001b[0m",
            "\u001b[0;31mTypeError\u001b[0m                                 Traceback (most recent call last)",
            "\u001b[0;32m<ipython-input-20-6b5378690823>\u001b[0m in \u001b[0;36m<module>\u001b[0;34m()\u001b[0m\n\u001b[0;32m----> 1\u001b[0;31m \u001b[0;36m4.2\u001b[0m \u001b[0;34m+\u001b[0m \u001b[0;34m'5'\u001b[0m\u001b[0;34m\u001b[0m\u001b[0;34m\u001b[0m\u001b[0m\n\u001b[0m",
            "\u001b[0;31mTypeError\u001b[0m: unsupported operand type(s) for +: 'float' and 'str'"
          ]
        }
      ]
    },
    {
      "cell_type": "code",
      "metadata": {
        "colab": {
          "base_uri": "https://localhost:8080/"
        },
        "id": "06hOAFZU2EwJ",
        "outputId": "a5c444f0-0553-4c43-d523-bf7ecf366ab0"
      },
      "source": [
        "4.2 + float('5')"
      ],
      "execution_count": 21,
      "outputs": [
        {
          "output_type": "execute_result",
          "data": {
            "text/plain": [
              "9.2"
            ]
          },
          "metadata": {
            "tags": []
          },
          "execution_count": 21
        }
      ]
    },
    {
      "cell_type": "code",
      "metadata": {
        "colab": {
          "base_uri": "https://localhost:8080/"
        },
        "id": "7q_-1gx22JYp",
        "outputId": "69264f8f-8cbc-4c71-92b6-c355f6cfd1c2"
      },
      "source": [
        "# Shell escape(!)\n",
        "!python practice_5.py"
      ],
      "execution_count": 3,
      "outputs": [
        {
          "output_type": "stream",
          "text": [
            "7\n"
          ],
          "name": "stdout"
        }
      ]
    },
    {
      "cell_type": "code",
      "metadata": {
        "colab": {
          "base_uri": "https://localhost:8080/"
        },
        "id": "Vy-hszzfJ5MW",
        "outputId": "57f36811-b8fe-4e78-e6f5-7477a35b399c"
      },
      "source": [
        "ls -al"
      ],
      "execution_count": 4,
      "outputs": [
        {
          "output_type": "stream",
          "text": [
            "total 24\n",
            "drwxr-xr-x 1 root root 4096 Jul 27 04:10 \u001b[0m\u001b[01;34m.\u001b[0m/\n",
            "drwxr-xr-x 1 root root 4096 Jul 27 03:56 \u001b[01;34m..\u001b[0m/\n",
            "drwxr-xr-x 4 root root 4096 Jul 16 13:19 \u001b[01;34m.config\u001b[0m/\n",
            "drwxr-xr-x 2 root root 4096 Jul 27 04:10 \u001b[01;34m.ipynb_checkpoints\u001b[0m/\n",
            "-rw-r--r-- 1 root root   27 Jul 27 04:10 practice_5.py\n",
            "drwxr-xr-x 1 root root 4096 Jul 16 13:20 \u001b[01;34msample_data\u001b[0m/\n"
          ],
          "name": "stdout"
        }
      ]
    },
    {
      "cell_type": "code",
      "metadata": {
        "colab": {
          "base_uri": "https://localhost:8080/"
        },
        "id": "t5n2o8i-KXyP",
        "outputId": "c3e82882-fb9c-4485-cae8-3461d2edbfac"
      },
      "source": [
        "! ls -l sample_data/"
      ],
      "execution_count": 5,
      "outputs": [
        {
          "output_type": "stream",
          "text": [
            "total 55504\n",
            "-rwxr-xr-x 1 root root     1697 Jan  1  2000 anscombe.json\n",
            "-rw-r--r-- 1 root root   301141 Jul 16 13:20 california_housing_test.csv\n",
            "-rw-r--r-- 1 root root  1706430 Jul 16 13:20 california_housing_train.csv\n",
            "-rw-r--r-- 1 root root 18289443 Jul 16 13:20 mnist_test.csv\n",
            "-rw-r--r-- 1 root root 36523880 Jul 16 13:20 mnist_train_small.csv\n",
            "-rwxr-xr-x 1 root root      930 Jan  1  2000 README.md\n"
          ],
          "name": "stdout"
        }
      ]
    },
    {
      "cell_type": "code",
      "metadata": {
        "id": "T2a7HdQGZoQV"
      },
      "source": [
        ""
      ],
      "execution_count": null,
      "outputs": []
    }
  ]
}