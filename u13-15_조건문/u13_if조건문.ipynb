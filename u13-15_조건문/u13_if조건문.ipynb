{
  "nbformat": 4,
  "nbformat_minor": 0,
  "metadata": {
    "colab": {
      "name": "u13_if조건문.ipynb",
      "provenance": [],
      "collapsed_sections": [],
      "toc_visible": true
    },
    "kernelspec": {
      "name": "python3",
      "display_name": "Python 3"
    },
    "language_info": {
      "name": "python"
    }
  },
  "cells": [
    {
      "cell_type": "markdown",
      "metadata": {
        "id": "CCVxeMlIg0wE"
      },
      "source": [
        "# Unit 13. if조건문"
      ]
    },
    {
      "cell_type": "markdown",
      "metadata": {
        "id": "XihyadfIhdWg"
      },
      "source": [
        "## 13.1 if조건문"
      ]
    },
    {
      "cell_type": "code",
      "metadata": {
        "colab": {
          "base_uri": "https://localhost:8080/"
        },
        "id": "wtwyLlYGgGOa",
        "outputId": "47a26e6d-d606-4c7a-ffba-a99713af5f53"
      },
      "source": [
        "x = 10\n",
        "if x==10:               # 주의 x=10은 오류\n",
        "    print('It is 10.')"
      ],
      "execution_count": 2,
      "outputs": [
        {
          "output_type": "stream",
          "text": [
            "It is 10.\n"
          ],
          "name": "stdout"
        }
      ]
    },
    {
      "cell_type": "code",
      "metadata": {
        "colab": {
          "base_uri": "https://localhost:8080/"
        },
        "id": "npM7qXu9hzdY",
        "outputId": "022fe969-0aa6-41fd-b5df-6eb95eaed5a7"
      },
      "source": [
        "x = 9\n",
        "if x:                    # x가 0이 아니면  True\n",
        "    print('It is 10.')"
      ],
      "execution_count": 3,
      "outputs": [
        {
          "output_type": "stream",
          "text": [
            "It is 10.\n"
          ],
          "name": "stdout"
        }
      ]
    },
    {
      "cell_type": "code",
      "metadata": {
        "id": "Cmr5YCxZiUBm"
      },
      "source": [
        "x = 10\n",
        "if x==10:\n",
        "    pass            # 생략, 나중에 다시 프로그램 작성할 때 사용"
      ],
      "execution_count": 5,
      "outputs": []
    },
    {
      "cell_type": "markdown",
      "metadata": {
        "id": "k9s2ZSFSi1tJ"
      },
      "source": [
        "## 13.2 들여쓰기"
      ]
    },
    {
      "cell_type": "code",
      "metadata": {
        "colab": {
          "base_uri": "https://localhost:8080/",
          "height": 139
        },
        "id": "lwdyAXFfiyZb",
        "outputId": "dbabd455-5a29-4695-ee1a-10283dd72c0e"
      },
      "source": [
        "x = 10\n",
        "\n",
        "if x == 10:\n",
        "    print('x값은')\n",
        "        print('10입니다.')      # 들여쓰기 주의"
      ],
      "execution_count": 6,
      "outputs": [
        {
          "output_type": "error",
          "ename": "IndentationError",
          "evalue": "ignored",
          "traceback": [
            "\u001b[0;36m  File \u001b[0;32m\"<ipython-input-6-71df0b0892b5>\"\u001b[0;36m, line \u001b[0;32m5\u001b[0m\n\u001b[0;31m    print('10입니다.')\u001b[0m\n\u001b[0m    ^\u001b[0m\n\u001b[0;31mIndentationError\u001b[0m\u001b[0;31m:\u001b[0m unexpected indent\n"
          ]
        }
      ]
    },
    {
      "cell_type": "code",
      "metadata": {
        "colab": {
          "base_uri": "https://localhost:8080/"
        },
        "id": "iSrNTlrtjT8B",
        "outputId": "35679981-5a53-48b4-eaa6-8f8f21e6b934"
      },
      "source": [
        "x = 9\n",
        "\n",
        "if x == 10:\n",
        "    print('x값은')\n",
        "    print('10입니다.')  \n",
        "print('언제나 출력됩니다.')"
      ],
      "execution_count": 7,
      "outputs": [
        {
          "output_type": "stream",
          "text": [
            "언제나 출력됩니다.\n"
          ],
          "name": "stdout"
        }
      ]
    },
    {
      "cell_type": "markdown",
      "metadata": {
        "id": "vh7QzrOBkD0S"
      },
      "source": [
        "## 13.3 중첩 if 조건문"
      ]
    },
    {
      "cell_type": "code",
      "metadata": {
        "colab": {
          "base_uri": "https://localhost:8080/"
        },
        "id": "oZlN7nIsjg3r",
        "outputId": "01441915-87fb-47c1-ba84-87b96efcd7a1"
      },
      "source": [
        "x = 15\n",
        "if x>10:\n",
        "    print('10보다 큰 숫자입니다.')\n",
        "    if x == 15:\n",
        "        print('15입니다.')\n",
        "    if x == 20 :\n",
        "        print('20입니다.')"
      ],
      "execution_count": 8,
      "outputs": [
        {
          "output_type": "stream",
          "text": [
            "10보다 큰 숫자입니다.\n",
            "15입니다.\n"
          ],
          "name": "stdout"
        }
      ]
    },
    {
      "cell_type": "code",
      "metadata": {
        "colab": {
          "base_uri": "https://localhost:8080/"
        },
        "id": "oknrnWM_kjv_",
        "outputId": "73aca17b-8e5b-44ff-b3dc-bad41c2592b3"
      },
      "source": [
        "x = int(input('정수를 입력하세요> '))\n",
        "if x>10:\n",
        "    print('10보다 큰 숫자입니다.')\n",
        "    if x == 15:\n",
        "        print('15입니다.')\n",
        "    if x == 20 :\n",
        "        print('20입니다.')"
      ],
      "execution_count": 10,
      "outputs": [
        {
          "output_type": "stream",
          "text": [
            "정수를 입력하세요> 16\n",
            "10보다 큰 숫자입니다.\n"
          ],
          "name": "stdout"
        }
      ]
    },
    {
      "cell_type": "code",
      "metadata": {
        "id": "gvQJyhz6k_XR"
      },
      "source": [
        ""
      ],
      "execution_count": null,
      "outputs": []
    }
  ]
}