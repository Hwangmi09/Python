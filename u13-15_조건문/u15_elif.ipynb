{
  "nbformat": 4,
  "nbformat_minor": 0,
  "metadata": {
    "colab": {
      "name": "u15_elif.ipynb",
      "provenance": [],
      "collapsed_sections": [],
      "toc_visible": true
    },
    "kernelspec": {
      "name": "python3",
      "display_name": "Python 3"
    },
    "language_info": {
      "name": "python"
    }
  },
  "cells": [
    {
      "cell_type": "markdown",
      "metadata": {
        "id": "bdzds2K_oDN-"
      },
      "source": [
        "# Unit 15. elif"
      ]
    },
    {
      "cell_type": "code",
      "metadata": {
        "colab": {
          "base_uri": "https://localhost:8080/"
        },
        "id": "nf-roQ0un_J6",
        "outputId": "031b9a4e-98cb-4da6-bf31-0bcd1b478b75"
      },
      "source": [
        "x = 15\n",
        "if x == 10:\n",
        "    print(\"It is 10.\")\n",
        "elif x == 20:\n",
        "    print('It is 20.')\n",
        "else:\n",
        "    print('10, 20이 아닙니다.')"
      ],
      "execution_count": 2,
      "outputs": [
        {
          "output_type": "stream",
          "text": [
            "10, 20이 아닙니다.\n"
          ],
          "name": "stdout"
        }
      ]
    },
    {
      "cell_type": "code",
      "metadata": {
        "colab": {
          "base_uri": "https://localhost:8080/"
        },
        "id": "8qRc94HwobWd",
        "outputId": "5f99d750-7e78-415a-c3fc-9cab26c10074"
      },
      "source": [
        "# 숫자 - 입력, 3의 배수면 Fizz, 5의 배수면 Buzz, 15의 배수면 FizzBuzz 출력\n",
        "# 주의) 조건문의 범위는 좁은 것에서 넓은 것으로!!\n",
        "num = int(input())\n",
        "\n",
        "if num % 15 == 0:  # 순서 중요\n",
        "    print('FizzBuzz')\n",
        "elif num % 5 == 0:\n",
        "    print('Buzz')\n",
        "elif num % 3 == 0:\n",
        "    print('Fizz')\n",
        "else:\n",
        "    print(num)"
      ],
      "execution_count": 14,
      "outputs": [
        {
          "output_type": "stream",
          "text": [
            "14\n",
            "14\n"
          ],
          "name": "stdout"
        }
      ]
    },
    {
      "cell_type": "code",
      "metadata": {
        "colab": {
          "base_uri": "https://localhost:8080/"
        },
        "id": "j18_reoWq7nk",
        "outputId": "4f4ef78e-50f1-4717-ccb4-89ec11eb311b"
      },
      "source": [
        "'Fizz' * False, 'Buzz' * True"
      ],
      "execution_count": 11,
      "outputs": [
        {
          "output_type": "execute_result",
          "data": {
            "text/plain": [
              "('', 'Buzz')"
            ]
          },
          "metadata": {
            "tags": []
          },
          "execution_count": 11
        }
      ]
    },
    {
      "cell_type": "code",
      "metadata": {
        "colab": {
          "base_uri": "https://localhost:8080/"
        },
        "id": "J52qjScEpQTN",
        "outputId": "f397c80a-1254-4253-f182-b13973d91bb7"
      },
      "source": [
        "# 앞의 문제를 한 줄로 작성\n",
        "print('Fizz'*(num % 3 == 0) + 'Buzz'*(num % 5 == 0) or num)  # or의 성질 이용, A or B에서 A가 True면 A, A가 False면 B 출력"
      ],
      "execution_count": 15,
      "outputs": [
        {
          "output_type": "stream",
          "text": [
            "14\n"
          ],
          "name": "stdout"
        }
      ]
    },
    {
      "cell_type": "code",
      "metadata": {
        "id": "TAdVPvhfrGcr"
      },
      "source": [
        ""
      ],
      "execution_count": null,
      "outputs": []
    }
  ]
}