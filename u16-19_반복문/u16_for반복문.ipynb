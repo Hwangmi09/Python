{
  "nbformat": 4,
  "nbformat_minor": 0,
  "metadata": {
    "colab": {
      "name": "u16_for반복문.ipynb",
      "provenance": [],
      "collapsed_sections": [],
      "toc_visible": true
    },
    "kernelspec": {
      "name": "python3",
      "display_name": "Python 3"
    },
    "language_info": {
      "name": "python"
    }
  },
  "cells": [
    {
      "cell_type": "markdown",
      "metadata": {
        "id": "pmCe1_DBtIZ2"
      },
      "source": [
        "# Unit 16. for반복문"
      ]
    },
    {
      "cell_type": "markdown",
      "metadata": {
        "id": "QvvrEDixtNwy"
      },
      "source": [
        "## 16.1 for와 range"
      ]
    },
    {
      "cell_type": "code",
      "metadata": {
        "colab": {
          "base_uri": "https://localhost:8080/"
        },
        "id": "lfiThsEitC4G",
        "outputId": "874c4dc5-2a34-44da-a8ec-ba224c20c2f7"
      },
      "source": [
        "for i in range(10):\n",
        "    print('Hello, world!')"
      ],
      "execution_count": null,
      "outputs": [
        {
          "output_type": "stream",
          "text": [
            "Hello, world!\n",
            "Hello, world!\n",
            "Hello, world!\n",
            "Hello, world!\n",
            "Hello, world!\n",
            "Hello, world!\n",
            "Hello, world!\n",
            "Hello, world!\n",
            "Hello, world!\n",
            "Hello, world!\n"
          ],
          "name": "stdout"
        }
      ]
    },
    {
      "cell_type": "code",
      "metadata": {
        "colab": {
          "base_uri": "https://localhost:8080/"
        },
        "id": "3u2vqbugtgQo",
        "outputId": "93782c5f-f96f-4866-e3fd-f98943e3dd13"
      },
      "source": [
        "for i in range(10):\n",
        "    print('Hello, world!', i)"
      ],
      "execution_count": null,
      "outputs": [
        {
          "output_type": "stream",
          "text": [
            "Hello, world! 0\n",
            "Hello, world! 1\n",
            "Hello, world! 2\n",
            "Hello, world! 3\n",
            "Hello, world! 4\n",
            "Hello, world! 5\n",
            "Hello, world! 6\n",
            "Hello, world! 7\n",
            "Hello, world! 8\n",
            "Hello, world! 9\n"
          ],
          "name": "stdout"
        }
      ]
    },
    {
      "cell_type": "code",
      "metadata": {
        "colab": {
          "base_uri": "https://localhost:8080/"
        },
        "id": "KKWShHfRvOPD",
        "outputId": "a14896db-eef7-443a-d28c-555cef19fa02"
      },
      "source": [
        "for _ in range(5):   # 변수를 사용하지 않을 때 _사용\n",
        "    print('Hello, world!') "
      ],
      "execution_count": null,
      "outputs": [
        {
          "output_type": "stream",
          "text": [
            "Hello, world!\n",
            "Hello, world!\n",
            "Hello, world!\n",
            "Hello, world!\n",
            "Hello, world!\n"
          ],
          "name": "stdout"
        }
      ]
    },
    {
      "cell_type": "markdown",
      "metadata": {
        "id": "hHVYemqrx52O"
      },
      "source": [
        "## 16.2 for와 range 응용"
      ]
    },
    {
      "cell_type": "code",
      "metadata": {
        "colab": {
          "base_uri": "https://localhost:8080/"
        },
        "id": "X_we_9nwvkDF",
        "outputId": "b8179c5b-faf3-45e1-cc6c-f2ad5f96974f"
      },
      "source": [
        "for i in range(6,10):\n",
        "    print('Hello, world!', i)"
      ],
      "execution_count": null,
      "outputs": [
        {
          "output_type": "stream",
          "text": [
            "Hello, world! 6\n",
            "Hello, world! 7\n",
            "Hello, world! 8\n",
            "Hello, world! 9\n"
          ],
          "name": "stdout"
        }
      ]
    },
    {
      "cell_type": "code",
      "metadata": {
        "colab": {
          "base_uri": "https://localhost:8080/"
        },
        "id": "6HshGZtWyVkr",
        "outputId": "b33eb113-61a0-45f8-f6d8-d65b616153c7"
      },
      "source": [
        "for i in range(0,10,2):\n",
        "    print('Hello, world!', i)"
      ],
      "execution_count": null,
      "outputs": [
        {
          "output_type": "stream",
          "text": [
            "Hello, world! 0\n",
            "Hello, world! 2\n",
            "Hello, world! 4\n",
            "Hello, world! 6\n",
            "Hello, world! 8\n"
          ],
          "name": "stdout"
        }
      ]
    },
    {
      "cell_type": "code",
      "metadata": {
        "colab": {
          "base_uri": "https://localhost:8080/"
        },
        "id": "Icorx_CAyYrL",
        "outputId": "69a61eda-e184-4141-de72-5b67583c94c8"
      },
      "source": [
        "for i in range(10,0,-2):\n",
        "    print('Hello, world!', i)"
      ],
      "execution_count": null,
      "outputs": [
        {
          "output_type": "stream",
          "text": [
            "Hello, world! 10\n",
            "Hello, world! 8\n",
            "Hello, world! 6\n",
            "Hello, world! 4\n",
            "Hello, world! 2\n"
          ],
          "name": "stdout"
        }
      ]
    },
    {
      "cell_type": "code",
      "metadata": {
        "colab": {
          "base_uri": "https://localhost:8080/"
        },
        "id": "M-WC3nk-ydU-",
        "outputId": "7a8354a1-44ad-4b23-c80a-d79ab3091ab5"
      },
      "source": [
        "for i in reversed(range(0,10)):\n",
        "    print(i)"
      ],
      "execution_count": null,
      "outputs": [
        {
          "output_type": "stream",
          "text": [
            "9\n",
            "8\n",
            "7\n",
            "6\n",
            "5\n",
            "4\n",
            "3\n",
            "2\n",
            "1\n",
            "0\n"
          ],
          "name": "stdout"
        }
      ]
    },
    {
      "cell_type": "code",
      "metadata": {
        "colab": {
          "base_uri": "https://localhost:8080/"
        },
        "id": "Y1q7W5DCylC7",
        "outputId": "82c94424-098c-449f-e5f7-df97f124c6b1"
      },
      "source": [
        "for i in range(1,101):\n",
        "    print('Fizz'*(i% 3 == 0) + 'Buzz'*(i % 5 == 0) or i, end = ' ')  \n",
        "    if i % 10 == 0 :\n",
        "        print()"
      ],
      "execution_count": null,
      "outputs": [
        {
          "output_type": "stream",
          "text": [
            "1 2 Fizz 4 Buzz Fizz 7 8 Fizz Buzz \n",
            "11 Fizz 13 14 FizzBuzz 16 17 Fizz 19 Buzz \n",
            "Fizz 22 23 Fizz Buzz 26 Fizz 28 29 FizzBuzz \n",
            "31 32 Fizz 34 Buzz Fizz 37 38 Fizz Buzz \n",
            "41 Fizz 43 44 FizzBuzz 46 47 Fizz 49 Buzz \n",
            "Fizz 52 53 Fizz Buzz 56 Fizz 58 59 FizzBuzz \n",
            "61 62 Fizz 64 Buzz Fizz 67 68 Fizz Buzz \n",
            "71 Fizz 73 74 FizzBuzz 76 77 Fizz 79 Buzz \n",
            "Fizz 82 83 Fizz Buzz 86 Fizz 88 89 FizzBuzz \n",
            "91 92 Fizz 94 Buzz Fizz 97 98 Fizz Buzz \n"
          ],
          "name": "stdout"
        }
      ]
    },
    {
      "cell_type": "markdown",
      "metadata": {
        "id": "eX_ObwEH0CGN"
      },
      "source": [
        "## 16.3 시퀀스 객체 반복"
      ]
    },
    {
      "cell_type": "code",
      "metadata": {
        "colab": {
          "base_uri": "https://localhost:8080/"
        },
        "id": "gex-NRVkzNCk",
        "outputId": "6dfcc552-9f0f-4e8b-e7cd-75e336959bef"
      },
      "source": [
        "fruits = ['apple','banana','cherry']  # 리스트\n",
        "for element in fruits:\n",
        "    print(element)"
      ],
      "execution_count": null,
      "outputs": [
        {
          "output_type": "stream",
          "text": [
            "apple\n",
            "banana\n",
            "cherry\n"
          ],
          "name": "stdout"
        }
      ]
    },
    {
      "cell_type": "code",
      "metadata": {
        "colab": {
          "base_uri": "https://localhost:8080/"
        },
        "id": "YPQO8ozm0OGl",
        "outputId": "5ea9bd82-2976-4506-a341-00e8acf4fd43"
      },
      "source": [
        "fruit_list = ['apple','banana','cherry']\n",
        "for fruit in fruit_list:   # 변수명, 변수명은 소문자로 시작하는 것을 권장\n",
        "    print(fruit)"
      ],
      "execution_count": null,
      "outputs": [
        {
          "output_type": "stream",
          "text": [
            "apple\n",
            "banana\n",
            "cherry\n"
          ],
          "name": "stdout"
        }
      ]
    },
    {
      "cell_type": "code",
      "metadata": {
        "colab": {
          "base_uri": "https://localhost:8080/"
        },
        "id": "q_2195QG0skU",
        "outputId": "152c97a3-ffc0-4518-dabe-54e39dd28787"
      },
      "source": [
        "for letter in 'Python':         # 문자열\n",
        "    print(letter, end = '')"
      ],
      "execution_count": null,
      "outputs": [
        {
          "output_type": "stream",
          "text": [
            "Python"
          ],
          "name": "stdout"
        }
      ]
    },
    {
      "cell_type": "code",
      "metadata": {
        "colab": {
          "base_uri": "https://localhost:8080/"
        },
        "id": "5WZEJHSl2eZq",
        "outputId": "37a31db8-07fa-4db2-f79d-c12657f256c5"
      },
      "source": [
        "for char in reversed('Python'): \n",
        "    print(char, end = ' ')"
      ],
      "execution_count": null,
      "outputs": [
        {
          "output_type": "stream",
          "text": [
            "n o h t y P "
          ],
          "name": "stdout"
        }
      ]
    },
    {
      "cell_type": "code",
      "metadata": {
        "colab": {
          "base_uri": "https://localhost:8080/"
        },
        "id": "FFhlC4AT2tY5",
        "outputId": "d99605ab-4f5a-4559-dc1e-34135096ee9b"
      },
      "source": [
        "for number in (10,20,30):          # 튜플\n",
        "    print(number)"
      ],
      "execution_count": null,
      "outputs": [
        {
          "output_type": "stream",
          "text": [
            "10\n",
            "20\n",
            "30\n"
          ],
          "name": "stdout"
        }
      ]
    },
    {
      "cell_type": "markdown",
      "metadata": {
        "id": "Rj9dBlHM3k-r"
      },
      "source": [
        "### Perfect Number\n",
        "- 자기자신을 제외한 약수의 합이 자기자신과 같은 수\n",
        "- 6의 약수 : 1, 2, 3, 6\n",
        "- 6 = 1 + 2 + 3 : 따라서 6은 Perfect Number\n",
        "- 10000이하의 자연수 중에는 4개 존재"
      ]
    },
    {
      "cell_type": "code",
      "metadata": {
        "colab": {
          "base_uri": "https://localhost:8080/"
        },
        "id": "jUBu32-S41ZK",
        "outputId": "8f38b1f7-e0f2-462e-b417-60e772c14c07"
      },
      "source": [
        "for i in range(2,11):\n",
        "    for k in range(1,i):\n",
        "        if i % k == 0:\n",
        "            print(f'{k}은/는 {i}의 약수')"
      ],
      "execution_count": null,
      "outputs": [
        {
          "output_type": "stream",
          "text": [
            "1은/는 2의 약수\n",
            "1은/는 3의 약수\n",
            "1은/는 4의 약수\n",
            "2은/는 4의 약수\n",
            "1은/는 5의 약수\n",
            "1은/는 6의 약수\n",
            "2은/는 6의 약수\n",
            "3은/는 6의 약수\n",
            "1은/는 7의 약수\n",
            "1은/는 8의 약수\n",
            "2은/는 8의 약수\n",
            "4은/는 8의 약수\n",
            "1은/는 9의 약수\n",
            "3은/는 9의 약수\n",
            "1은/는 10의 약수\n",
            "2은/는 10의 약수\n",
            "5은/는 10의 약수\n"
          ],
          "name": "stdout"
        }
      ]
    },
    {
      "cell_type": "code",
      "metadata": {
        "colab": {
          "base_uri": "https://localhost:8080/"
        },
        "id": "JAAdBEfw3Atq",
        "outputId": "864e519b-4478-462a-8d16-d9f489c3d376"
      },
      "source": [
        "for num in range(2,10001):\n",
        "    sum_of_divisor = 0\n",
        "    for i in range(1,num):\n",
        "        if num % i == 0 : # True인 경우 i는 num의 약수\n",
        "            sum_of_divisor += i\n",
        "    if num == sum_of_divisor :\n",
        "        print(num)"
      ],
      "execution_count": 1,
      "outputs": [
        {
          "output_type": "stream",
          "text": [
            "6\n",
            "28\n",
            "496\n",
            "8128\n"
          ],
          "name": "stdout"
        }
      ]
    },
    {
      "cell_type": "code",
      "metadata": {
        "colab": {
          "base_uri": "https://localhost:8080/"
        },
        "id": "u0hVcidX4rWI",
        "outputId": "37232d57-5155-4d5c-c3f9-33ed4469200f"
      },
      "source": [
        "# 다른 사람 풀이\n",
        "perfect_number_list = []\n",
        "for i in range(2,10001):\n",
        "    sum_of_divisor = 0\n",
        "    for j in range(1,i):\n",
        "        if i%j == 0:\n",
        "            sum_of_divisor += j\n",
        "    if sum_of_divisor == i :\n",
        "        perfect_number_list.append(i)\n",
        "print(perfect_number_list)"
      ],
      "execution_count": 2,
      "outputs": [
        {
          "output_type": "stream",
          "text": [
            "[6, 28, 496, 8128]\n"
          ],
          "name": "stdout"
        }
      ]
    },
    {
      "cell_type": "code",
      "metadata": {
        "colab": {
          "base_uri": "https://localhost:8080/"
        },
        "id": "NlMFtQbl6ELL",
        "outputId": "03694b2d-5f69-4662-c32b-56f07cccd838"
      },
      "source": [
        "# 강사님 풀이 - 1\n",
        "for i in range(2,10001):\n",
        "    sum_of_divisor = 0\n",
        "    for k in range(1,i):\n",
        "        if i % k == 0 :\n",
        "            sum_of_divisor += k\n",
        "\n",
        "    if i == sum_of_divisor :\n",
        "        print(i)"
      ],
      "execution_count": 3,
      "outputs": [
        {
          "output_type": "stream",
          "text": [
            "6\n",
            "28\n",
            "496\n",
            "8128\n"
          ],
          "name": "stdout"
        }
      ]
    },
    {
      "cell_type": "code",
      "metadata": {
        "colab": {
          "base_uri": "https://localhost:8080/"
        },
        "id": "Xclhutn79h4X",
        "outputId": "64ade45b-be07-496b-914c-01d543282a23"
      },
      "source": [
        "# 강사님 풀이 - 2(리스트 사용)\n",
        "perfect_numbers = []\n",
        "for i in range(2,10001):\n",
        "    divisor_list = []\n",
        "    for k in range(1,i):\n",
        "        if i % k == 0:\n",
        "            divisor_list.append(k)\n",
        "        \n",
        "    if i == sum(divisor_list):\n",
        "        perfect_numbers.append(i)\n",
        "\n",
        "print(perfect_numbers)"
      ],
      "execution_count": 4,
      "outputs": [
        {
          "output_type": "stream",
          "text": [
            "[6, 28, 496, 8128]\n"
          ],
          "name": "stdout"
        }
      ]
    }
  ]
}