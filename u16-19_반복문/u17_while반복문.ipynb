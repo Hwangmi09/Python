{
  "nbformat": 4,
  "nbformat_minor": 0,
  "metadata": {
    "colab": {
      "name": "u17_while반복문.ipynb",
      "provenance": [],
      "collapsed_sections": [],
      "toc_visible": true
    },
    "kernelspec": {
      "name": "python3",
      "display_name": "Python 3"
    },
    "language_info": {
      "name": "python"
    }
  },
  "cells": [
    {
      "cell_type": "markdown",
      "metadata": {
        "id": "QMogTNDlAyBq"
      },
      "source": [
        "# Unit 17. while 반복문"
      ]
    },
    {
      "cell_type": "markdown",
      "metadata": {
        "id": "CYekOtRNA4do"
      },
      "source": [
        "## 17.1 while 반복문\n",
        "- 반복 횟수가 정해져 있는 반복문은 while을 쓰지 않는다. (for문 사용)"
      ]
    },
    {
      "cell_type": "code",
      "metadata": {
        "id": "vQLa7uE9AsiB"
      },
      "source": [
        "# 가장 많이 사용하는 방법\n",
        "#while True:\n",
        "    # 조건을 만족하면 loop 탈출"
      ],
      "execution_count": 1,
      "outputs": []
    },
    {
      "cell_type": "code",
      "metadata": {
        "id": "bJoVsI7rBV5b"
      },
      "source": [
        "#while 조건:\n",
        "    # 조건이 참인 동안 loop을 반복"
      ],
      "execution_count": 2,
      "outputs": []
    },
    {
      "cell_type": "markdown",
      "metadata": {
        "id": "67Xd52I9ByWw"
      },
      "source": [
        "## 17.2 반복 횟수가 없는 while 반복문"
      ]
    },
    {
      "cell_type": "code",
      "metadata": {
        "id": "DdnVdTWPBxsC"
      },
      "source": [
        "import random  "
      ],
      "execution_count": 3,
      "outputs": []
    },
    {
      "cell_type": "code",
      "metadata": {
        "colab": {
          "base_uri": "https://localhost:8080/"
        },
        "id": "zM255_rQCUEq",
        "outputId": "a639dc70-64cc-47ba-8873-109e9da58fe0"
      },
      "source": [
        "random.random()     # 0과 1사이의 값을 랜덤하게 출력"
      ],
      "execution_count": 4,
      "outputs": [
        {
          "output_type": "execute_result",
          "data": {
            "text/plain": [
              "0.07554234190090858"
            ]
          },
          "metadata": {
            "tags": []
          },
          "execution_count": 4
        }
      ]
    },
    {
      "cell_type": "code",
      "metadata": {
        "colab": {
          "base_uri": "https://localhost:8080/"
        },
        "id": "2o8S9AHaCWhS",
        "outputId": "e18582c2-bf32-4c9d-c02f-46d7855d57bd"
      },
      "source": [
        "random.randint(1, 6)        # 시작과 끝 사이의 값을 랜덤하게 출력, 끝을 포함"
      ],
      "execution_count": 6,
      "outputs": [
        {
          "output_type": "execute_result",
          "data": {
            "text/plain": [
              "4"
            ]
          },
          "metadata": {
            "tags": []
          },
          "execution_count": 6
        }
      ]
    },
    {
      "cell_type": "code",
      "metadata": {
        "colab": {
          "base_uri": "https://localhost:8080/"
        },
        "id": "hs1lxbodDAVf",
        "outputId": "a71850e2-2808-47e0-de32-5f8a704bea6f"
      },
      "source": [
        "# 주사위의 눈이 3이 나오면 반복을 끝내기\n",
        "i = 0\n",
        "while i != 3:\n",
        "    i = random.randint(1,6)\n",
        "    print(i)"
      ],
      "execution_count": 7,
      "outputs": [
        {
          "output_type": "stream",
          "text": [
            "1\n",
            "5\n",
            "2\n",
            "3\n"
          ],
          "name": "stdout"
        }
      ]
    },
    {
      "cell_type": "code",
      "metadata": {
        "colab": {
          "base_uri": "https://localhost:8080/"
        },
        "id": "dqTE4yr9Cf_P",
        "outputId": "3fbf358d-afc7-4775-db9a-472a45caf5f6"
      },
      "source": [
        "i = 0\n",
        "dice = [1,2,3,4,5,6]        # list(range(1,7))\n",
        "while i != 3:\n",
        "    i = random.choice(dice) # 리스트 내의 요소를 랜덤으로 출력, random.choice(seq)\n",
        "    print(i)"
      ],
      "execution_count": 8,
      "outputs": [
        {
          "output_type": "stream",
          "text": [
            "2\n",
            "6\n",
            "1\n",
            "2\n",
            "6\n",
            "6\n",
            "3\n"
          ],
          "name": "stdout"
        }
      ]
    },
    {
      "cell_type": "code",
      "metadata": {
        "colab": {
          "base_uri": "https://localhost:8080/"
        },
        "id": "D2K2sElIEAFs",
        "outputId": "9a970541-1104-47c3-9769-aa7309f5866b"
      },
      "source": [
        "random.sample(dice, 6)      # 1~6의 숫자를 k개 만큼 랜덤하게 추출, k <= len(dice)"
      ],
      "execution_count": 17,
      "outputs": [
        {
          "output_type": "execute_result",
          "data": {
            "text/plain": [
              "[3, 4, 1, 6, 2, 5]"
            ]
          },
          "metadata": {
            "tags": []
          },
          "execution_count": 17
        }
      ]
    }
  ]
}