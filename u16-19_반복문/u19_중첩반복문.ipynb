{
  "nbformat": 4,
  "nbformat_minor": 0,
  "metadata": {
    "colab": {
      "name": "u19_중첩반복문.ipynb",
      "provenance": [],
      "collapsed_sections": [],
      "toc_visible": true
    },
    "kernelspec": {
      "name": "python3",
      "display_name": "Python 3"
    },
    "language_info": {
      "name": "python"
    }
  },
  "cells": [
    {
      "cell_type": "markdown",
      "metadata": {
        "id": "KhrQt-3obhCt"
      },
      "source": [
        "# Unit 19. 중첩 반복문"
      ]
    },
    {
      "cell_type": "markdown",
      "metadata": {
        "id": "bbXbvZqVbnY-"
      },
      "source": [
        "## 19.1 중첩(Nested) for loop"
      ]
    },
    {
      "cell_type": "code",
      "metadata": {
        "id": "0yX3I9F4I29-"
      },
      "source": [
        "# 2차원일 때 보통 안쪽 루프는 행, 바깥쪽 루프는 열"
      ],
      "execution_count": 1,
      "outputs": []
    },
    {
      "cell_type": "code",
      "metadata": {
        "colab": {
          "base_uri": "https://localhost:8080/"
        },
        "id": "Kd7B3FKecGM_",
        "outputId": "f1844ef1-c1de-4515-a208-e8b46fe9327b"
      },
      "source": [
        "for i in range(1,6):\n",
        "    for k in range(10,60,10):\n",
        "        print(k, end = ' ')\n",
        "    print(i)"
      ],
      "execution_count": 4,
      "outputs": [
        {
          "output_type": "stream",
          "text": [
            "10 20 30 40 50 1\n",
            "10 20 30 40 50 2\n",
            "10 20 30 40 50 3\n",
            "10 20 30 40 50 4\n",
            "10 20 30 40 50 5\n"
          ],
          "name": "stdout"
        }
      ]
    },
    {
      "cell_type": "markdown",
      "metadata": {
        "id": "L3-jQ-bjcqgd"
      },
      "source": [
        "## 19.2 별 사각형"
      ]
    },
    {
      "cell_type": "code",
      "metadata": {
        "colab": {
          "base_uri": "https://localhost:8080/"
        },
        "id": "U5TKtx8acTgg",
        "outputId": "67247382-d924-4845-bf2c-d94222be2efc"
      },
      "source": [
        "for i in range(5):\n",
        "    for _ in range(5):\n",
        "        print(\"*\", end = '')\n",
        "    print()"
      ],
      "execution_count": 6,
      "outputs": [
        {
          "output_type": "stream",
          "text": [
            "*****\n",
            "*****\n",
            "*****\n",
            "*****\n",
            "*****\n"
          ],
          "name": "stdout"
        }
      ]
    },
    {
      "cell_type": "code",
      "metadata": {
        "colab": {
          "base_uri": "https://localhost:8080/"
        },
        "id": "T3Iz5fbVc0gg",
        "outputId": "0b6c817a-0a44-458e-ea76-ae42bbaa4f2c"
      },
      "source": [
        "# 평행사변형\n",
        "for i in range(4):\n",
        "    print(\" \" * i, end =\"\")\n",
        "    for _ in range(5):\n",
        "        print(\"*\", end = \"\")\n",
        "    print()"
      ],
      "execution_count": 9,
      "outputs": [
        {
          "output_type": "stream",
          "text": [
            "*****\n",
            " *****\n",
            "  *****\n",
            "   *****\n"
          ],
          "name": "stdout"
        }
      ]
    },
    {
      "cell_type": "code",
      "metadata": {
        "colab": {
          "base_uri": "https://localhost:8080/"
        },
        "id": "3rDyd7EEeCgQ",
        "outputId": "bd61d366-81e9-4a45-868a-8ea58edfb397"
      },
      "source": [
        "for i in range(4):\n",
        "    print(\" \"* (3-i), end = \"\")\n",
        "    for _ in range(5):\n",
        "        print(\"*\", end = \"\")\n",
        "    print()"
      ],
      "execution_count": 10,
      "outputs": [
        {
          "output_type": "stream",
          "text": [
            "   *****\n",
            "  *****\n",
            " *****\n",
            "*****\n"
          ],
          "name": "stdout"
        }
      ]
    },
    {
      "cell_type": "code",
      "metadata": {
        "colab": {
          "base_uri": "https://localhost:8080/"
        },
        "id": "vxSYf8OceXbo",
        "outputId": "34d9a710-ef5c-4ba0-8a65-32669e0406c6"
      },
      "source": [
        "# 강사님 풀이\n",
        "for i in range(4):\n",
        "    for _ in range(0,i):\n",
        "        print(' ',end = '')\n",
        "    for _ in range(5):\n",
        "        print('*',end = '')\n",
        "    print()"
      ],
      "execution_count": 11,
      "outputs": [
        {
          "output_type": "stream",
          "text": [
            "*****\n",
            " *****\n",
            "  *****\n",
            "   *****\n"
          ],
          "name": "stdout"
        }
      ]
    },
    {
      "cell_type": "code",
      "metadata": {
        "id": "oOmax7Izer34"
      },
      "source": [
        "for i in range(0,0):\n",
        "    print(\"*\")"
      ],
      "execution_count": 13,
      "outputs": []
    },
    {
      "cell_type": "code",
      "metadata": {
        "colab": {
          "base_uri": "https://localhost:8080/"
        },
        "id": "q9QR1fUSewZN",
        "outputId": "fa4bc230-16d9-4f16-84f6-d5ceb4e967e6"
      },
      "source": [
        "for i in range(4):\n",
        "    print(' ' * i, '*'*5,sep = '')"
      ],
      "execution_count": 16,
      "outputs": [
        {
          "output_type": "stream",
          "text": [
            "*****\n",
            " *****\n",
            "  *****\n",
            "   *****\n"
          ],
          "name": "stdout"
        }
      ]
    },
    {
      "cell_type": "markdown",
      "metadata": {
        "id": "Zg5QuXBgfM6e"
      },
      "source": [
        "## 19.3 계단식 별 모양"
      ]
    },
    {
      "cell_type": "code",
      "metadata": {
        "colab": {
          "base_uri": "https://localhost:8080/"
        },
        "id": "NvW-X4HDfex8",
        "outputId": "fbb82fe6-0c00-4a2b-90ad-119ee81bfb8c"
      },
      "source": [
        "for i in range(5):\n",
        "    for _ in range(i+1):\n",
        "        print('*',end = '')\n",
        "    print()"
      ],
      "execution_count": 19,
      "outputs": [
        {
          "output_type": "stream",
          "text": [
            "*\n",
            "**\n",
            "***\n",
            "****\n",
            "*****\n"
          ],
          "name": "stdout"
        }
      ]
    },
    {
      "cell_type": "code",
      "metadata": {
        "colab": {
          "base_uri": "https://localhost:8080/"
        },
        "id": "87G2lH0Mg7K-",
        "outputId": "db595352-2d6e-42fb-a691-5b2ca4a61ee3"
      },
      "source": [
        "for i in range(5):\n",
        "    print('*'*(i+1),sep='')"
      ],
      "execution_count": 50,
      "outputs": [
        {
          "output_type": "stream",
          "text": [
            "*\n",
            "**\n",
            "***\n",
            "****\n",
            "*****\n"
          ],
          "name": "stdout"
        }
      ]
    },
    {
      "cell_type": "code",
      "metadata": {
        "colab": {
          "base_uri": "https://localhost:8080/"
        },
        "id": "madc8i8kfwon",
        "outputId": "24cad0aa-36e9-4c54-d95d-849eff256425"
      },
      "source": [
        "for i in range(5):\n",
        "    for _ in range(i):\n",
        "        print(\" \",end = \"\")\n",
        "    print(\"*\"*(5-i))"
      ],
      "execution_count": 21,
      "outputs": [
        {
          "output_type": "stream",
          "text": [
            "*****\n",
            " ****\n",
            "  ***\n",
            "   **\n",
            "    *\n"
          ],
          "name": "stdout"
        }
      ]
    },
    {
      "cell_type": "code",
      "metadata": {
        "colab": {
          "base_uri": "https://localhost:8080/"
        },
        "id": "JapiDehhgLfV",
        "outputId": "e2c4a211-0090-4815-a5f0-4f3616a20a31"
      },
      "source": [
        "for i in range(5):\n",
        "    for _ in range(i):\n",
        "        print(' ',end='')\n",
        "    for _ in range(5-i):\n",
        "        print('*',end='')\n",
        "    print()"
      ],
      "execution_count": 22,
      "outputs": [
        {
          "output_type": "stream",
          "text": [
            "*****\n",
            " ****\n",
            "  ***\n",
            "   **\n",
            "    *\n"
          ],
          "name": "stdout"
        }
      ]
    },
    {
      "cell_type": "code",
      "metadata": {
        "colab": {
          "base_uri": "https://localhost:8080/"
        },
        "id": "T9huilVWg4UB",
        "outputId": "43ee407c-4f83-4d7d-cb45-f74822561504"
      },
      "source": [
        "for i in range(5):\n",
        "    print(\" \" * i, '*' * (5-i),sep = '')"
      ],
      "execution_count": 26,
      "outputs": [
        {
          "output_type": "stream",
          "text": [
            "*****\n",
            " ****\n",
            "  ***\n",
            "   **\n",
            "    *\n"
          ],
          "name": "stdout"
        }
      ]
    },
    {
      "cell_type": "markdown",
      "metadata": {
        "id": "Q4CDW9v8iH6i"
      },
      "source": [
        "### Diamond 그리기"
      ]
    },
    {
      "cell_type": "code",
      "metadata": {
        "colab": {
          "base_uri": "https://localhost:8080/"
        },
        "id": "eqsV_SObhRRI",
        "outputId": "f18ec4aa-6c54-4d0a-bba8-8bd42221536f"
      },
      "source": [
        "for i in range(5):\n",
        "    for _ in range(4-i):\n",
        "        print(' ',end='')\n",
        "    for _ in range(2*i+1):\n",
        "        print('*',end='')\n",
        "    print()\n",
        "for i in range(4):\n",
        "    for _ in range(i+1):\n",
        "        print(' ',end='')\n",
        "    for _ in range(7-2*i):\n",
        "        print('*',end='')\n",
        "    print()"
      ],
      "execution_count": 43,
      "outputs": [
        {
          "output_type": "stream",
          "text": [
            "    *\n",
            "   ***\n",
            "  *****\n",
            " *******\n",
            "*********\n",
            " *******\n",
            "  *****\n",
            "   ***\n",
            "    *\n"
          ],
          "name": "stdout"
        }
      ]
    },
    {
      "cell_type": "code",
      "metadata": {
        "colab": {
          "base_uri": "https://localhost:8080/"
        },
        "id": "_uWPfY7wi_re",
        "outputId": "b3d1c562-6f81-4c36-94c8-2d57bbc1dd80"
      },
      "source": [
        "for i in range(5):\n",
        "    print(' '*(4-i),'*'*(2*i+1),sep='')\n",
        "for i in range(4):\n",
        "    print(' '*(i+1),'*'*(7-2*i),sep='')"
      ],
      "execution_count": 48,
      "outputs": [
        {
          "output_type": "stream",
          "text": [
            "    *\n",
            "   ***\n",
            "  *****\n",
            " *******\n",
            "*********\n",
            " *******\n",
            "  *****\n",
            "   ***\n",
            "    *\n"
          ],
          "name": "stdout"
        }
      ]
    },
    {
      "cell_type": "code",
      "metadata": {
        "colab": {
          "base_uri": "https://localhost:8080/"
        },
        "id": "2-0wIjkEm3ss",
        "outputId": "e6034977-3d78-46ee-defa-4529e92ffac4"
      },
      "source": [
        "for i in range(-4,5):\n",
        "    print(' '*(abs(i)),'*'*(-2*abs(i)+9),sep='')"
      ],
      "execution_count": 51,
      "outputs": [
        {
          "output_type": "stream",
          "text": [
            "    *\n",
            "   ***\n",
            "  *****\n",
            " *******\n",
            "*********\n",
            " *******\n",
            "  *****\n",
            "   ***\n",
            "    *\n"
          ],
          "name": "stdout"
        }
      ]
    },
    {
      "cell_type": "code",
      "metadata": {
        "id": "sgmf4etkoSj5"
      },
      "source": [
        ""
      ],
      "execution_count": null,
      "outputs": []
    }
  ]
}