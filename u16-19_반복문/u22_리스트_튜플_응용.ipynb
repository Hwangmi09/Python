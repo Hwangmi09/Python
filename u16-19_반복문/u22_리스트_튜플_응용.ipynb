{
  "nbformat": 4,
  "nbformat_minor": 0,
  "metadata": {
    "colab": {
      "name": "u22_리스트_튜플_응용.ipynb",
      "provenance": [],
      "collapsed_sections": [],
      "toc_visible": true
    },
    "kernelspec": {
      "name": "python3",
      "display_name": "Python 3"
    },
    "language_info": {
      "name": "python"
    }
  },
  "cells": [
    {
      "cell_type": "markdown",
      "metadata": {
        "id": "DF0VvMtiqW1y"
      },
      "source": [
        "# Unit 22. 리스트, 튜플 응용"
      ]
    },
    {
      "cell_type": "markdown",
      "metadata": {
        "id": "_-stNs8gqbjU"
      },
      "source": [
        "## 22.1 리스트 조작"
      ]
    },
    {
      "cell_type": "code",
      "metadata": {
        "id": "cc-BqT7tqDu6"
      },
      "source": [
        "# append, extend, insert\n",
        "# append를 98% 사용"
      ],
      "execution_count": 1,
      "outputs": []
    },
    {
      "cell_type": "code",
      "metadata": {
        "colab": {
          "base_uri": "https://localhost:8080/"
        },
        "id": "LgSsTc0irVzt",
        "outputId": "bb711b94-61db-41af-f673-f6b4c0a7266e"
      },
      "source": [
        "# 리스트 맨 뒤에 요소 하나를 추가하는 메서드(method)\n",
        "a = [10,20,30]\n",
        "a.append(500)\n",
        "a"
      ],
      "execution_count": 5,
      "outputs": [
        {
          "output_type": "execute_result",
          "data": {
            "text/plain": [
              "[10, 20, 30, 500]"
            ]
          },
          "metadata": {
            "tags": []
          },
          "execution_count": 5
        }
      ]
    },
    {
      "cell_type": "code",
      "metadata": {
        "colab": {
          "base_uri": "https://localhost:8080/"
        },
        "id": "41K40LE1rh7M",
        "outputId": "3e1d1fc1-db91-4819-99ac-59bb28f604dc"
      },
      "source": [
        "a.append(['x','y'])\n",
        "a"
      ],
      "execution_count": 6,
      "outputs": [
        {
          "output_type": "execute_result",
          "data": {
            "text/plain": [
              "[10, 20, 30, 500, ['x', 'y']]"
            ]
          },
          "metadata": {
            "tags": []
          },
          "execution_count": 6
        }
      ]
    },
    {
      "cell_type": "code",
      "metadata": {
        "colab": {
          "base_uri": "https://localhost:8080/"
        },
        "id": "6oAdf8bFru7M",
        "outputId": "e69f5175-2d7c-437b-bdf6-462cf5be3d5a"
      },
      "source": [
        "b = [10,20,30]\n",
        "b.extend(['x','y'])     # 리스트를 연결하여 확장\n",
        "b"
      ],
      "execution_count": 9,
      "outputs": [
        {
          "output_type": "execute_result",
          "data": {
            "text/plain": [
              "[10, 20, 30, 'x', 'y']"
            ]
          },
          "metadata": {
            "tags": []
          },
          "execution_count": 9
        }
      ]
    },
    {
      "cell_type": "code",
      "metadata": {
        "colab": {
          "base_uri": "https://localhost:8080/"
        },
        "id": "qEnTkto_rxZO",
        "outputId": "eed65f1b-4f09-4e41-a281-6c0c41ca99bb"
      },
      "source": [
        "# append는 주로 반복문에서 사용됨\n",
        "empty_list = []\n",
        "for i in range(5):\n",
        "    empty_list.append(i)\n",
        "empty_list"
      ],
      "execution_count": 10,
      "outputs": [
        {
          "output_type": "execute_result",
          "data": {
            "text/plain": [
              "[0, 1, 2, 3, 4]"
            ]
          },
          "metadata": {
            "tags": []
          },
          "execution_count": 10
        }
      ]
    },
    {
      "cell_type": "code",
      "metadata": {
        "id": "m43SYjaMsUwx"
      },
      "source": [
        "# insert(인덱스, 요소) : 특정 인덱스에 요소 추가"
      ],
      "execution_count": 11,
      "outputs": []
    },
    {
      "cell_type": "code",
      "metadata": {
        "colab": {
          "base_uri": "https://localhost:8080/"
        },
        "id": "MACpo66Ksxzg",
        "outputId": "a40dcd58-6d26-472d-af97-e7ce934b3bd7"
      },
      "source": [
        "# 리스트에서 요소 삭제하는 방법 - 1\n",
        "del a[4]\n",
        "a"
      ],
      "execution_count": 12,
      "outputs": [
        {
          "output_type": "execute_result",
          "data": {
            "text/plain": [
              "[10, 20, 30, 500]"
            ]
          },
          "metadata": {
            "tags": []
          },
          "execution_count": 12
        }
      ]
    },
    {
      "cell_type": "markdown",
      "metadata": {
        "id": "mtaqVzqDuFT0"
      },
      "source": [
        "### Stack and Queue"
      ]
    },
    {
      "cell_type": "code",
      "metadata": {
        "colab": {
          "base_uri": "https://localhost:8080/"
        },
        "id": "7gcQtaNTtH3l",
        "outputId": "e99bd47f-f5a4-4ff3-cbae-c55986815cdf"
      },
      "source": [
        "stack = []\n",
        "# stack에 push\n",
        "stack.append(1) ; stack.append(2) ; stack.append(3);\n",
        "stack"
      ],
      "execution_count": 16,
      "outputs": [
        {
          "output_type": "execute_result",
          "data": {
            "text/plain": [
              "[1, 2, 3]"
            ]
          },
          "metadata": {
            "tags": []
          },
          "execution_count": 16
        }
      ]
    },
    {
      "cell_type": "code",
      "metadata": {
        "colab": {
          "base_uri": "https://localhost:8080/"
        },
        "id": "Wjz1F56UuS63",
        "outputId": "f3a5e2fb-9fcc-40ef-9f0a-0f45fe493e25"
      },
      "source": [
        "# stack으로부터 pop\n",
        "value = stack.pop()     # 리스트에서 요소 삭제하는 방법 - 2\n",
        "print(value, stack)"
      ],
      "execution_count": 17,
      "outputs": [
        {
          "output_type": "stream",
          "text": [
            "3 [1, 2]\n"
          ],
          "name": "stdout"
        }
      ]
    },
    {
      "cell_type": "code",
      "metadata": {
        "colab": {
          "base_uri": "https://localhost:8080/"
        },
        "id": "ntken92nuVaL",
        "outputId": "68d3aecc-45b0-49b3-f54d-a3a8cd36dd19"
      },
      "source": [
        "queue = []\n",
        "# queue에 insert\n",
        "queue.insert(0,1); queue.insert(0,2); queue.insert(0,3);\n",
        "queue"
      ],
      "execution_count": 18,
      "outputs": [
        {
          "output_type": "execute_result",
          "data": {
            "text/plain": [
              "[3, 2, 1]"
            ]
          },
          "metadata": {
            "tags": []
          },
          "execution_count": 18
        }
      ]
    },
    {
      "cell_type": "code",
      "metadata": {
        "colab": {
          "base_uri": "https://localhost:8080/"
        },
        "id": "DbSi61JyvB_M",
        "outputId": "eb208082-4c59-4984-fb6b-123d1ab8ad98"
      },
      "source": [
        "# queue로부터 끄집어내기\n",
        "value = queue.pop()\n",
        "print(value,queue)"
      ],
      "execution_count": 19,
      "outputs": [
        {
          "output_type": "stream",
          "text": [
            "1 [3, 2]\n"
          ],
          "name": "stdout"
        }
      ]
    },
    {
      "cell_type": "markdown",
      "metadata": {
        "id": "9Svb0g3evoVu"
      },
      "source": [
        "### 다양한 메서드(method)"
      ]
    },
    {
      "cell_type": "code",
      "metadata": {
        "colab": {
          "base_uri": "https://localhost:8080/"
        },
        "id": "KZ7jwoG0vT0J",
        "outputId": "d9fc48f5-2fe0-46f7-f896-3c2005be281b"
      },
      "source": [
        "a = [10,20,30,40,50,10]\n",
        "a.index(30)         # 요소를 입력하면 인덱스를 반환"
      ],
      "execution_count": 26,
      "outputs": [
        {
          "output_type": "execute_result",
          "data": {
            "text/plain": [
              "2"
            ]
          },
          "metadata": {
            "tags": []
          },
          "execution_count": 26
        }
      ]
    },
    {
      "cell_type": "code",
      "metadata": {
        "id": "Ysmxifjgvynn"
      },
      "source": [
        "num = 45\n",
        "if num in a:        # 조건문에 a.count(num)을 써도 동일\n",
        "    a.index(num)"
      ],
      "execution_count": 24,
      "outputs": []
    },
    {
      "cell_type": "code",
      "metadata": {
        "colab": {
          "base_uri": "https://localhost:8080/"
        },
        "id": "Qkesj0XNv4rM",
        "outputId": "37c47c5b-c5ac-433d-9e68-b04675c1cbe2"
      },
      "source": [
        "a.count(10)     # 리스트 내에 해당 요소의 개수 반환"
      ],
      "execution_count": 27,
      "outputs": [
        {
          "output_type": "execute_result",
          "data": {
            "text/plain": [
              "2"
            ]
          },
          "metadata": {
            "tags": []
          },
          "execution_count": 27
        }
      ]
    },
    {
      "cell_type": "markdown",
      "metadata": {
        "id": "5a8EbvJXxOLE"
      },
      "source": [
        "### 정렬(Sort)"
      ]
    },
    {
      "cell_type": "code",
      "metadata": {
        "colab": {
          "base_uri": "https://localhost:8080/"
        },
        "id": "Ng7qJ3wnwv72",
        "outputId": "d9ef3a70-05fe-4cba-d399-c6ead9205e46"
      },
      "source": [
        "# 오름차순(ascending order)이 default\n",
        "a = [20, 10, 15, 30, 40]\n",
        "a.sort()            # 메서드를 사용하면 update됨, a = sorted(a)와 동일\n",
        "a"
      ],
      "execution_count": 30,
      "outputs": [
        {
          "output_type": "execute_result",
          "data": {
            "text/plain": [
              "[10, 15, 20, 30, 40]"
            ]
          },
          "metadata": {
            "tags": []
          },
          "execution_count": 30
        }
      ]
    },
    {
      "cell_type": "code",
      "metadata": {
        "colab": {
          "base_uri": "https://localhost:8080/"
        },
        "id": "fssvLn49xVBm",
        "outputId": "3c44c462-7f73-4c5f-8f13-a1d602e264e4"
      },
      "source": [
        "b = [20, 10, 15, 30, 40]\n",
        "sorted(b)           "
      ],
      "execution_count": 31,
      "outputs": [
        {
          "output_type": "execute_result",
          "data": {
            "text/plain": [
              "[10, 15, 20, 30, 40]"
            ]
          },
          "metadata": {
            "tags": []
          },
          "execution_count": 31
        }
      ]
    },
    {
      "cell_type": "code",
      "metadata": {
        "colab": {
          "base_uri": "https://localhost:8080/"
        },
        "id": "mLgLRSc8xqqv",
        "outputId": "a470c5ec-4d7f-402d-9db2-6e9cf7316c2d"
      },
      "source": [
        "b               # 정렬함수 sorted()를 사용하면 update하지 않음"
      ],
      "execution_count": 32,
      "outputs": [
        {
          "output_type": "execute_result",
          "data": {
            "text/plain": [
              "[20, 10, 15, 30, 40]"
            ]
          },
          "metadata": {
            "tags": []
          },
          "execution_count": 32
        }
      ]
    },
    {
      "cell_type": "code",
      "metadata": {
        "colab": {
          "base_uri": "https://localhost:8080/"
        },
        "id": "6ds8W8UsxrJY",
        "outputId": "66b047de-b05b-4ae4-e0d0-6aac54500b1a"
      },
      "source": [
        "b = [20, 10, 15, 30, 40]\n",
        "b = sorted(b)  \n",
        "b"
      ],
      "execution_count": 33,
      "outputs": [
        {
          "output_type": "execute_result",
          "data": {
            "text/plain": [
              "[10, 15, 20, 30, 40]"
            ]
          },
          "metadata": {
            "tags": []
          },
          "execution_count": 33
        }
      ]
    },
    {
      "cell_type": "code",
      "metadata": {
        "colab": {
          "base_uri": "https://localhost:8080/"
        },
        "id": "TdVJ2mJCx-fO",
        "outputId": "44fd9774-e802-4f0a-acb7-1254c0174b3f"
      },
      "source": [
        "# 내림차순(descending order)\n",
        "a = [20, 10, 15, 30, 40]\n",
        "a.sort(reverse=True)    \n",
        "a"
      ],
      "execution_count": 34,
      "outputs": [
        {
          "output_type": "execute_result",
          "data": {
            "text/plain": [
              "[40, 30, 20, 15, 10]"
            ]
          },
          "metadata": {
            "tags": []
          },
          "execution_count": 34
        }
      ]
    },
    {
      "cell_type": "code",
      "metadata": {
        "colab": {
          "base_uri": "https://localhost:8080/"
        },
        "id": "B_hFzyIMyqWr",
        "outputId": "8324b40b-a384-4d46-e16e-e4e3d9bc96ea"
      },
      "source": [
        "a.clear()       # 리스트 비우기\n",
        "a"
      ],
      "execution_count": 36,
      "outputs": [
        {
          "output_type": "execute_result",
          "data": {
            "text/plain": [
              "[]"
            ]
          },
          "metadata": {
            "tags": []
          },
          "execution_count": 36
        }
      ]
    },
    {
      "cell_type": "markdown",
      "metadata": {
        "id": "9CliM7OvzMg6"
      },
      "source": [
        "## 22.2 리스트 할당과 복사"
      ]
    },
    {
      "cell_type": "code",
      "metadata": {
        "colab": {
          "base_uri": "https://localhost:8080/"
        },
        "id": "vN03Ve1EzINd",
        "outputId": "b17ab6ac-7376-4a67-8fb8-6170fc5bd0db"
      },
      "source": [
        "# Shallow copy, pointer만 복사\n",
        "a = [0]*5\n",
        "b = a        # a의 주소를 b의 주소에 할당\n",
        "b"
      ],
      "execution_count": 37,
      "outputs": [
        {
          "output_type": "execute_result",
          "data": {
            "text/plain": [
              "[0, 0, 0, 0, 0]"
            ]
          },
          "metadata": {
            "tags": []
          },
          "execution_count": 37
        }
      ]
    },
    {
      "cell_type": "code",
      "metadata": {
        "colab": {
          "base_uri": "https://localhost:8080/"
        },
        "id": "W8ZwwrqtzfCw",
        "outputId": "66a9e89c-ffae-44b1-e2a9-f87290d8dc22"
      },
      "source": [
        "b[2] = 99\n",
        "b"
      ],
      "execution_count": 38,
      "outputs": [
        {
          "output_type": "execute_result",
          "data": {
            "text/plain": [
              "[0, 0, 99, 0, 0]"
            ]
          },
          "metadata": {
            "tags": []
          },
          "execution_count": 38
        }
      ]
    },
    {
      "cell_type": "code",
      "metadata": {
        "colab": {
          "base_uri": "https://localhost:8080/"
        },
        "id": "Ev7FON_izhW-",
        "outputId": "54137d0b-c12b-4616-9b79-f41843ec3823"
      },
      "source": [
        "a           # b의 영향을 받음"
      ],
      "execution_count": 39,
      "outputs": [
        {
          "output_type": "execute_result",
          "data": {
            "text/plain": [
              "[0, 0, 99, 0, 0]"
            ]
          },
          "metadata": {
            "tags": []
          },
          "execution_count": 39
        }
      ]
    },
    {
      "cell_type": "code",
      "metadata": {
        "colab": {
          "base_uri": "https://localhost:8080/"
        },
        "id": "Y_FKRflyziej",
        "outputId": "b6823355-23af-4565-b7f1-3cb8b5992ba4"
      },
      "source": [
        "# 데이터를 별도의 기억장소에 복사\n",
        "a = [0]*5\n",
        "b = a.copy()            # a의 주소가 아닌 데이터를 b에 복사\n",
        "b"
      ],
      "execution_count": 40,
      "outputs": [
        {
          "output_type": "execute_result",
          "data": {
            "text/plain": [
              "[0, 0, 0, 0, 0]"
            ]
          },
          "metadata": {
            "tags": []
          },
          "execution_count": 40
        }
      ]
    },
    {
      "cell_type": "code",
      "metadata": {
        "colab": {
          "base_uri": "https://localhost:8080/"
        },
        "id": "mecDe0UNz9Ff",
        "outputId": "a441280b-704c-4c87-9c84-8404e89e3faf"
      },
      "source": [
        "b[2] = 99\n",
        "a           # b의 영향을 받지 않음"
      ],
      "execution_count": 41,
      "outputs": [
        {
          "output_type": "execute_result",
          "data": {
            "text/plain": [
              "[0, 0, 0, 0, 0]"
            ]
          },
          "metadata": {
            "tags": []
          },
          "execution_count": 41
        }
      ]
    },
    {
      "cell_type": "markdown",
      "metadata": {
        "id": "y1LgAxSY2xLb"
      },
      "source": [
        "## 22.3 리스트와 반복문"
      ]
    },
    {
      "cell_type": "code",
      "metadata": {
        "colab": {
          "base_uri": "https://localhost:8080/"
        },
        "id": "t_PMvl2X0Hx_",
        "outputId": "e00b1e06-2322-48c6-f4ee-fb11b47a74c3"
      },
      "source": [
        "for fruit in ['apple','banana','cherry']:\n",
        "    print(fruit)"
      ],
      "execution_count": 42,
      "outputs": [
        {
          "output_type": "stream",
          "text": [
            "apple\n",
            "banana\n",
            "cherry\n"
          ],
          "name": "stdout"
        }
      ]
    },
    {
      "cell_type": "code",
      "metadata": {
        "colab": {
          "base_uri": "https://localhost:8080/"
        },
        "id": "FyrEBtYC29ZR",
        "outputId": "d509d953-f630-465d-96ca-ed9f67a629b7"
      },
      "source": [
        "# (중요) enumerate : 인덱스와 요소를 함께 출력, 많이 사용됨!\n",
        "fruits = ['apple','banana','cherry']\n",
        "for index, fruit in enumerate(fruits):       \n",
        "    print(index, fruit)"
      ],
      "execution_count": 43,
      "outputs": [
        {
          "output_type": "stream",
          "text": [
            "0 apple\n",
            "1 banana\n",
            "2 cherry\n"
          ],
          "name": "stdout"
        }
      ]
    },
    {
      "cell_type": "code",
      "metadata": {
        "colab": {
          "base_uri": "https://localhost:8080/"
        },
        "id": "RbYi4kXi3I8p",
        "outputId": "46d8f824-54f4-41e1-8a71-55a3cdd5232f"
      },
      "source": [
        "for i in range(len(fruits)):\n",
        "    print(fruits[i])"
      ],
      "execution_count": 44,
      "outputs": [
        {
          "output_type": "stream",
          "text": [
            "apple\n",
            "banana\n",
            "cherry\n"
          ],
          "name": "stdout"
        }
      ]
    },
    {
      "cell_type": "markdown",
      "metadata": {
        "id": "2TRADDFe4Rvw"
      },
      "source": [
        "## 22.4 리스트에서 min, max, sum 함수 활용\n"
      ]
    },
    {
      "cell_type": "code",
      "metadata": {
        "colab": {
          "base_uri": "https://localhost:8080/"
        },
        "id": "_23JDAef48p2",
        "outputId": "fd653d31-9047-424e-9c29-677553025d40"
      },
      "source": [
        "a = [38, 21, 53, 62, 19]\n",
        "a.sort()\n",
        "a[0]                # min(a)"
      ],
      "execution_count": 52,
      "outputs": [
        {
          "output_type": "execute_result",
          "data": {
            "text/plain": [
              "19"
            ]
          },
          "metadata": {
            "tags": []
          },
          "execution_count": 52
        }
      ]
    },
    {
      "cell_type": "code",
      "metadata": {
        "colab": {
          "base_uri": "https://localhost:8080/"
        },
        "id": "s7VhWP--34Av",
        "outputId": "c609d09b-642c-403a-dc07-364f9c5d1894"
      },
      "source": [
        "sorted(a)[0]           # min(a)"
      ],
      "execution_count": 50,
      "outputs": [
        {
          "output_type": "execute_result",
          "data": {
            "text/plain": [
              "19"
            ]
          },
          "metadata": {
            "tags": []
          },
          "execution_count": 50
        }
      ]
    },
    {
      "cell_type": "code",
      "metadata": {
        "colab": {
          "base_uri": "https://localhost:8080/"
        },
        "id": "PDH98ZA44QhW",
        "outputId": "b05226a0-a717-4dad-ea47-c7ab81b6b27c"
      },
      "source": [
        "a[-1]           # max(a)"
      ],
      "execution_count": 49,
      "outputs": [
        {
          "output_type": "execute_result",
          "data": {
            "text/plain": [
              "62"
            ]
          },
          "metadata": {
            "tags": []
          },
          "execution_count": 49
        }
      ]
    },
    {
      "cell_type": "code",
      "metadata": {
        "colab": {
          "base_uri": "https://localhost:8080/"
        },
        "id": "2tIi5V3X4zFf",
        "outputId": "aaf39bd4-a951-47a8-8b00-115f7888e694"
      },
      "source": [
        "# a 원소의 합\n",
        "sum_of_list = 0\n",
        "for elem in a:\n",
        "    sum_of_list += elem\n",
        "sum_of_list, sum(a)"
      ],
      "execution_count": 53,
      "outputs": [
        {
          "output_type": "execute_result",
          "data": {
            "text/plain": [
              "(193, 193)"
            ]
          },
          "metadata": {
            "tags": []
          },
          "execution_count": 53
        }
      ]
    },
    {
      "cell_type": "code",
      "metadata": {
        "id": "RBa7WxTV5TCu"
      },
      "source": [
        "# 주의할 것, 오류 - sum을 변수명으로 사용하지 말기!\n",
        "sum = 0\n",
        "for elem in a:\n",
        "    sum += elem\n",
        "sum, sum(a)"
      ],
      "execution_count": null,
      "outputs": []
    },
    {
      "cell_type": "markdown",
      "metadata": {
        "id": "pmL_BQ4p5535"
      },
      "source": [
        "## 22.5 리스트 표현식(Comprehension)"
      ]
    },
    {
      "cell_type": "code",
      "metadata": {
        "colab": {
          "base_uri": "https://localhost:8080/"
        },
        "id": "Pv7hoBfq55MP",
        "outputId": "2d6018f2-1662-4f7f-86fa-8642751acfb2"
      },
      "source": [
        "[fruit for fruit in fruits]             # 튜플, 딕셔너리에도 적용 가능"
      ],
      "execution_count": 58,
      "outputs": [
        {
          "output_type": "execute_result",
          "data": {
            "text/plain": [
              "['apple', 'banana', 'cherry']"
            ]
          },
          "metadata": {
            "tags": []
          },
          "execution_count": 58
        }
      ]
    },
    {
      "cell_type": "code",
      "metadata": {
        "colab": {
          "base_uri": "https://localhost:8080/"
        },
        "id": "lhmDmlQf6Eve",
        "outputId": "be724e7c-7d9f-492b-ab96-316aac5e6352"
      },
      "source": [
        "[fruit * index for index, fruit in enumerate(fruits)]   "
      ],
      "execution_count": 60,
      "outputs": [
        {
          "output_type": "execute_result",
          "data": {
            "text/plain": [
              "['', 'banana', 'cherrycherry']"
            ]
          },
          "metadata": {
            "tags": []
          },
          "execution_count": 60
        }
      ]
    },
    {
      "cell_type": "code",
      "metadata": {
        "colab": {
          "base_uri": "https://localhost:8080/"
        },
        "id": "rUXV93Jk6g0w",
        "outputId": "fc2b2029-8f6e-4e65-d4c8-f7d90f21384c"
      },
      "source": [
        "[i*i for i in range(1,11)]          # list(i*i for i in range(1,11)) 동일"
      ],
      "execution_count": 64,
      "outputs": [
        {
          "output_type": "execute_result",
          "data": {
            "text/plain": [
              "[1, 4, 9, 16, 25, 36, 49, 64, 81, 100]"
            ]
          },
          "metadata": {
            "tags": []
          },
          "execution_count": 64
        }
      ]
    },
    {
      "cell_type": "code",
      "metadata": {
        "colab": {
          "base_uri": "https://localhost:8080/"
        },
        "id": "SOVIX35n63nC",
        "outputId": "5dc2c4ab-da12-4ecd-a5ac-7102cdba3b70"
      },
      "source": [
        "sq_list = []\n",
        "for i in range(1,11):\n",
        "    sq_list.append(i*i)\n",
        "    \n",
        "sq_list"
      ],
      "execution_count": 66,
      "outputs": [
        {
          "output_type": "execute_result",
          "data": {
            "text/plain": [
              "[1, 4, 9, 16, 25, 36, 49, 64, 81, 100]"
            ]
          },
          "metadata": {
            "tags": []
          },
          "execution_count": 66
        }
      ]
    },
    {
      "cell_type": "markdown",
      "metadata": {
        "id": "-BK8oeBr7_A0"
      },
      "source": [
        "### 표현식에서 if 조건문 사용하기"
      ]
    },
    {
      "cell_type": "code",
      "metadata": {
        "colab": {
          "base_uri": "https://localhost:8080/"
        },
        "id": "gg8frMey8SeY",
        "outputId": "9caac0bf-fb27-4a4c-a649-40406b1cf34e"
      },
      "source": [
        "[i*i for i in range(1,11,2)]"
      ],
      "execution_count": 67,
      "outputs": [
        {
          "output_type": "execute_result",
          "data": {
            "text/plain": [
              "[1, 9, 25, 49, 81]"
            ]
          },
          "metadata": {
            "tags": []
          },
          "execution_count": 67
        }
      ]
    },
    {
      "cell_type": "code",
      "metadata": {
        "colab": {
          "base_uri": "https://localhost:8080/"
        },
        "id": "h71P-8PS7hmX",
        "outputId": "592dcb11-a805-46e5-bd79-8772ba2a4435"
      },
      "source": [
        "[i*i for i in range(1,11) if i % 2 == 1]"
      ],
      "execution_count": 68,
      "outputs": [
        {
          "output_type": "execute_result",
          "data": {
            "text/plain": [
              "[1, 9, 25, 49, 81]"
            ]
          },
          "metadata": {
            "tags": []
          },
          "execution_count": 68
        }
      ]
    },
    {
      "cell_type": "markdown",
      "metadata": {
        "id": "UBSdFxLZ8_ji"
      },
      "source": [
        "### for 반복문 여러 번 사용"
      ]
    },
    {
      "cell_type": "code",
      "metadata": {
        "colab": {
          "base_uri": "https://localhost:8080/"
        },
        "id": "sBNHQyyu8WVk",
        "outputId": "1f13bc0c-c7d3-48df-ea9b-09274573c47c"
      },
      "source": [
        "# 구구단\n",
        "a = [i*k for i in range(2,10) for k in range(1,10)]\n",
        "print(a)"
      ],
      "execution_count": 73,
      "outputs": [
        {
          "output_type": "stream",
          "text": [
            "[2, 4, 6, 8, 10, 12, 14, 16, 18, 3, 6, 9, 12, 15, 18, 21, 24, 27, 4, 8, 12, 16, 20, 24, 28, 32, 36, 5, 10, 15, 20, 25, 30, 35, 40, 45, 6, 12, 18, 24, 30, 36, 42, 48, 54, 7, 14, 21, 28, 35, 42, 49, 56, 63, 8, 16, 24, 32, 40, 48, 56, 64, 72, 9, 18, 27, 36, 45, 54, 63, 72, 81]\n"
          ],
          "name": "stdout"
        }
      ]
    },
    {
      "cell_type": "code",
      "metadata": {
        "colab": {
          "base_uri": "https://localhost:8080/"
        },
        "id": "mzbHa0Qr9QSM",
        "outputId": "748acfeb-63d3-45f3-df1b-4383bb48704b"
      },
      "source": [
        "a = [i*k for i in range(2,10)\n",
        "            for k in range(1,10)]\n",
        "print(a)"
      ],
      "execution_count": 74,
      "outputs": [
        {
          "output_type": "stream",
          "text": [
            "[2, 4, 6, 8, 10, 12, 14, 16, 18, 3, 6, 9, 12, 15, 18, 21, 24, 27, 4, 8, 12, 16, 20, 24, 28, 32, 36, 5, 10, 15, 20, 25, 30, 35, 40, 45, 6, 12, 18, 24, 30, 36, 42, 48, 54, 7, 14, 21, 28, 35, 42, 49, 56, 63, 8, 16, 24, 32, 40, 48, 56, 64, 72, 9, 18, 27, 36, 45, 54, 63, 72, 81]\n"
          ],
          "name": "stdout"
        }
      ]
    },
    {
      "cell_type": "markdown",
      "metadata": {
        "id": "KU2fzxnT-F1u"
      },
      "source": [
        "## 22.6 map"
      ]
    },
    {
      "cell_type": "code",
      "metadata": {
        "colab": {
          "base_uri": "https://localhost:8080/"
        },
        "id": "4v-3f3E59wwQ",
        "outputId": "985219aa-0640-4375-cbe2-2683d420afad"
      },
      "source": [
        "a = [1.2, 2.3, 3.5, 4.8]\n",
        "for i in range(len(a)):\n",
        "    a[i] = int(a[i])\n",
        "\n",
        "print(a)"
      ],
      "execution_count": 75,
      "outputs": [
        {
          "output_type": "stream",
          "text": [
            "[1, 2, 3, 4]\n"
          ],
          "name": "stdout"
        }
      ]
    },
    {
      "cell_type": "code",
      "metadata": {
        "colab": {
          "base_uri": "https://localhost:8080/"
        },
        "id": "RIYEeQzH-0U2",
        "outputId": "18e24a76-ffec-412c-ca8d-4015b97f61df"
      },
      "source": [
        "a = [1.2, 2.3, 3.5, 4.8]\n",
        "for i, val in enumerate(a):\n",
        "    a[i] = int(val)\n",
        "\n",
        "print(a)"
      ],
      "execution_count": 77,
      "outputs": [
        {
          "output_type": "stream",
          "text": [
            "[1, 2, 3, 4]\n"
          ],
          "name": "stdout"
        }
      ]
    },
    {
      "cell_type": "code",
      "metadata": {
        "colab": {
          "base_uri": "https://localhost:8080/"
        },
        "id": "YRd-fkw5-cc1",
        "outputId": "b76df72b-2c65-423d-df6c-91dbb7ec1a27"
      },
      "source": [
        "a = [1.2, 2.3, 3.5, 4.8]\n",
        "a = list(map(int,a))\n",
        "print(a)"
      ],
      "execution_count": 76,
      "outputs": [
        {
          "output_type": "stream",
          "text": [
            "[1, 2, 3, 4]\n"
          ],
          "name": "stdout"
        }
      ]
    },
    {
      "cell_type": "code",
      "metadata": {
        "colab": {
          "base_uri": "https://localhost:8080/"
        },
        "id": "eMoqWZFz-nYk",
        "outputId": "b46ec151-936d-4bf1-d998-89c90a3968f8"
      },
      "source": [
        "a = [1.2, 2.3, 3.5, 4.8]\n",
        "a = list(map(lambda x: x*x,a))\n",
        "print(a)"
      ],
      "execution_count": 78,
      "outputs": [
        {
          "output_type": "stream",
          "text": [
            "[1.44, 5.289999999999999, 12.25, 23.04]\n"
          ],
          "name": "stdout"
        }
      ]
    },
    {
      "cell_type": "markdown",
      "metadata": {
        "id": "MzNj9w64_4ZM"
      },
      "source": [
        "## 22.7 tuple"
      ]
    },
    {
      "cell_type": "code",
      "metadata": {
        "colab": {
          "base_uri": "https://localhost:8080/"
        },
        "id": "oMxIOUxz_YDT",
        "outputId": "9746d4f6-6517-4e2c-a9d1-5b7baa73d7ab"
      },
      "source": [
        "tuple(i*i for i in range(1,11) if i%2 == 0)      # tuple을 꼭 써야함, 아니면 제너레이터가 됨"
      ],
      "execution_count": 80,
      "outputs": [
        {
          "output_type": "execute_result",
          "data": {
            "text/plain": [
              "(4, 16, 36, 64, 100)"
            ]
          },
          "metadata": {
            "tags": []
          },
          "execution_count": 80
        }
      ]
    },
    {
      "cell_type": "code",
      "metadata": {
        "id": "ieGckNQlAA1v"
      },
      "source": [
        ""
      ],
      "execution_count": null,
      "outputs": []
    }
  ]
}