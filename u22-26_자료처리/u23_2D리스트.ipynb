{
  "nbformat": 4,
  "nbformat_minor": 0,
  "metadata": {
    "colab": {
      "name": "u23_2D리스트.ipynb",
      "provenance": [],
      "collapsed_sections": []
    },
    "kernelspec": {
      "name": "python3",
      "display_name": "Python 3"
    },
    "language_info": {
      "name": "python"
    }
  },
  "cells": [
    {
      "cell_type": "markdown",
      "metadata": {
        "id": "dul9N0bU0tgp"
      },
      "source": [
        "# Unit 23. 2차원 리스트"
      ]
    },
    {
      "cell_type": "markdown",
      "metadata": {
        "id": "UXOKxR1V004e"
      },
      "source": [
        "## 23.1 생성 및 인덱싱"
      ]
    },
    {
      "cell_type": "code",
      "metadata": {
        "colab": {
          "base_uri": "https://localhost:8080/"
        },
        "id": "nZSkPu0M0WnU",
        "outputId": "21f4995b-38a6-4605-c648-24e821938fe9"
      },
      "source": [
        "a = [[10,20],[30,40],[50,60]]\n",
        "a"
      ],
      "execution_count": 1,
      "outputs": [
        {
          "output_type": "execute_result",
          "data": {
            "text/plain": [
              "[[10, 20], [30, 40], [50, 60]]"
            ]
          },
          "metadata": {
            "tags": []
          },
          "execution_count": 1
        }
      ]
    },
    {
      "cell_type": "code",
      "metadata": {
        "colab": {
          "base_uri": "https://localhost:8080/"
        },
        "id": "s7zxqeL71CAi",
        "outputId": "84a1bc42-5a4f-4dc7-ef29-7a1b82c5a27b"
      },
      "source": [
        "# a[행인덱스][열인덱스]\n",
        "a[1][0]"
      ],
      "execution_count": 2,
      "outputs": [
        {
          "output_type": "execute_result",
          "data": {
            "text/plain": [
              "30"
            ]
          },
          "metadata": {
            "tags": []
          },
          "execution_count": 2
        }
      ]
    },
    {
      "cell_type": "code",
      "metadata": {
        "colab": {
          "base_uri": "https://localhost:8080/"
        },
        "id": "WpxsEa0c1Shg",
        "outputId": "221343d6-3af1-42bc-b848-ce2a02b7318d"
      },
      "source": [
        "a[1][-1] = 100          # a[1][1]\n",
        "a"
      ],
      "execution_count": 3,
      "outputs": [
        {
          "output_type": "execute_result",
          "data": {
            "text/plain": [
              "[[10, 20], [30, 100], [50, 60]]"
            ]
          },
          "metadata": {
            "tags": []
          },
          "execution_count": 3
        }
      ]
    },
    {
      "cell_type": "code",
      "metadata": {
        "colab": {
          "base_uri": "https://localhost:8080/"
        },
        "id": "voYvdXEi1eqJ",
        "outputId": "9111ece6-684a-4ef6-ec14-e2b787960a2f"
      },
      "source": [
        "import numpy as np\n",
        "b = np.arange(16).reshape(4,4)\n",
        "b"
      ],
      "execution_count": 4,
      "outputs": [
        {
          "output_type": "execute_result",
          "data": {
            "text/plain": [
              "array([[ 0,  1,  2,  3],\n",
              "       [ 4,  5,  6,  7],\n",
              "       [ 8,  9, 10, 11],\n",
              "       [12, 13, 14, 15]])"
            ]
          },
          "metadata": {
            "tags": []
          },
          "execution_count": 4
        }
      ]
    },
    {
      "cell_type": "code",
      "metadata": {
        "colab": {
          "base_uri": "https://localhost:8080/"
        },
        "id": "EXzd8Oj41wCV",
        "outputId": "1c1f228c-42d6-4f99-845a-0e1cdc5b4fce"
      },
      "source": [
        "b[1,1]"
      ],
      "execution_count": 5,
      "outputs": [
        {
          "output_type": "execute_result",
          "data": {
            "text/plain": [
              "5"
            ]
          },
          "metadata": {
            "tags": []
          },
          "execution_count": 5
        }
      ]
    },
    {
      "cell_type": "code",
      "metadata": {
        "colab": {
          "base_uri": "https://localhost:8080/"
        },
        "id": "ihF88mMY11M5",
        "outputId": "f83d7fc0-3ba9-440f-83b5-6141cdf45ba2"
      },
      "source": [
        "b[1:-1,1:-1]"
      ],
      "execution_count": 8,
      "outputs": [
        {
          "output_type": "execute_result",
          "data": {
            "text/plain": [
              "array([[ 5,  6],\n",
              "       [ 9, 10]])"
            ]
          },
          "metadata": {
            "tags": []
          },
          "execution_count": 8
        }
      ]
    },
    {
      "cell_type": "code",
      "metadata": {
        "colab": {
          "base_uri": "https://localhost:8080/"
        },
        "id": "2bO5iGgF1_iD",
        "outputId": "a8fd99a0-e1d5-403b-9a98-aefc19a30c3e"
      },
      "source": [
        "# 톱니형 리스트 : 사용 빈도 낮음\n",
        "a = [[10, 20],\n",
        "     [500, 600, 700],\n",
        "     [9],\n",
        "     [30, 40],\n",
        "     [8],\n",
        "     [800, 900, 1000]]\n",
        "a"
      ],
      "execution_count": 9,
      "outputs": [
        {
          "output_type": "execute_result",
          "data": {
            "text/plain": [
              "[[10, 20], [500, 600, 700], [9], [30, 40], [8], [800, 900, 1000]]"
            ]
          },
          "metadata": {
            "tags": []
          },
          "execution_count": 9
        }
      ]
    },
    {
      "cell_type": "code",
      "metadata": {
        "colab": {
          "base_uri": "https://localhost:8080/"
        },
        "id": "8lVeBceH3qqj",
        "outputId": "33060a09-9fa5-4dfe-d019-4c4d5738d61a"
      },
      "source": [
        "a = [[i*4+k for k in range(4)] for i in range(4)]\n",
        "a"
      ],
      "execution_count": 13,
      "outputs": [
        {
          "output_type": "execute_result",
          "data": {
            "text/plain": [
              "[[0, 1, 2, 3], [4, 5, 6, 7], [8, 9, 10, 11], [12, 13, 14, 15]]"
            ]
          },
          "metadata": {
            "tags": []
          },
          "execution_count": 13
        }
      ]
    },
    {
      "cell_type": "code",
      "metadata": {
        "colab": {
          "base_uri": "https://localhost:8080/"
        },
        "id": "agz4rYOS4TvN",
        "outputId": "0d0bbeb0-ab34-4fa9-e582-e0c08b6f1d89"
      },
      "source": [
        "from pprint import pprint\n",
        "pprint(a, indent=4, width=30)    "
      ],
      "execution_count": 12,
      "outputs": [
        {
          "output_type": "stream",
          "text": [
            "[   [0, 1, 2, 3],\n",
            "    [4, 5, 6, 7],\n",
            "    [8, 9, 10, 11],\n",
            "    [12, 13, 14, 15]]\n"
          ],
          "name": "stdout"
        }
      ]
    },
    {
      "cell_type": "markdown",
      "metadata": {
        "id": "1XlCJPlj7giJ"
      },
      "source": [
        "## 23.2 for 반복문 사용"
      ]
    },
    {
      "cell_type": "code",
      "metadata": {
        "colab": {
          "base_uri": "https://localhost:8080/"
        },
        "id": "Nnc6mwu74f0E",
        "outputId": "3aa82cd5-5efe-4246-b75b-af0c1e31794f"
      },
      "source": [
        "for row in a:\n",
        "    print(row)"
      ],
      "execution_count": 14,
      "outputs": [
        {
          "output_type": "stream",
          "text": [
            "[0, 1, 2, 3]\n",
            "[4, 5, 6, 7]\n",
            "[8, 9, 10, 11]\n",
            "[12, 13, 14, 15]\n"
          ],
          "name": "stdout"
        }
      ]
    },
    {
      "cell_type": "code",
      "metadata": {
        "colab": {
          "base_uri": "https://localhost:8080/"
        },
        "id": "ZjoezB6J7rvZ",
        "outputId": "b32742eb-a0bc-45c7-bb77-7268fea6388b"
      },
      "source": [
        "for row in a:               # 행\n",
        "    for element in row:     # 열\n",
        "        print(f'{element:2d}', end =' ')\n",
        "    print()"
      ],
      "execution_count": 17,
      "outputs": [
        {
          "output_type": "stream",
          "text": [
            " 0  1  2  3 \n",
            " 4  5  6  7 \n",
            " 8  9 10 11 \n",
            "12 13 14 15 \n"
          ],
          "name": "stdout"
        }
      ]
    },
    {
      "cell_type": "code",
      "metadata": {
        "colab": {
          "base_uri": "https://localhost:8080/"
        },
        "id": "79yACgdQ78Lq",
        "outputId": "e736ccd3-bf84-4b4e-cec1-1976d04497b6"
      },
      "source": [
        "for w,x,y,z in a:       # list unpacking\n",
        "    print(w,x,y,z)"
      ],
      "execution_count": 19,
      "outputs": [
        {
          "output_type": "stream",
          "text": [
            "0 1 2 3\n",
            "4 5 6 7\n",
            "8 9 10 11\n",
            "12 13 14 15\n"
          ],
          "name": "stdout"
        }
      ]
    },
    {
      "cell_type": "markdown",
      "metadata": {
        "id": "tVp849FI9KNK"
      },
      "source": [
        "## 23.4 반복문으로 리스트 만들기"
      ]
    },
    {
      "cell_type": "code",
      "metadata": {
        "colab": {
          "base_uri": "https://localhost:8080/"
        },
        "id": "JHQgZNfv8eXH",
        "outputId": "3ced21bf-f320-4d39-955e-f2adb6a0dd57"
      },
      "source": [
        "# 크롤링(crawling) 할 때 많이 사용되는 형태\n",
        "# for 반복문으로 2차원 리스트 만들기\n",
        "a = []\n",
        "for i in range(4):\n",
        "    t = []\n",
        "    for k in range(4):\n",
        "        t.append(i*4 + k)\n",
        "    a.append(t)\n",
        "\n",
        "a"
      ],
      "execution_count": 20,
      "outputs": [
        {
          "output_type": "execute_result",
          "data": {
            "text/plain": [
              "[[0, 1, 2, 3], [4, 5, 6, 7], [8, 9, 10, 11], [12, 13, 14, 15]]"
            ]
          },
          "metadata": {
            "tags": []
          },
          "execution_count": 20
        }
      ]
    },
    {
      "cell_type": "code",
      "metadata": {
        "colab": {
          "base_uri": "https://localhost:8080/"
        },
        "id": "zh7ufNw09k3F",
        "outputId": "185d03c2-6fdf-4b3c-97c7-854c0db803c7"
      },
      "source": [
        "# 리스트 표현식 사용\n",
        "a = [[0 for _ in range(2)] for _ in range(3)]       # [[0]*2 for _ in range(3)]와 동일\n",
        "a"
      ],
      "execution_count": 22,
      "outputs": [
        {
          "output_type": "execute_result",
          "data": {
            "text/plain": [
              "[[0, 0], [0, 0], [0, 0]]"
            ]
          },
          "metadata": {
            "tags": []
          },
          "execution_count": 22
        }
      ]
    },
    {
      "cell_type": "code",
      "metadata": {
        "colab": {
          "base_uri": "https://localhost:8080/"
        },
        "id": "ovgR8JZQ9rID",
        "outputId": "fed1a072-9a31-4546-85dd-8aa0adf7f7a7"
      },
      "source": [
        "number = [3, 1, 3, 2, 5]\n",
        "b = [[0]*i for i in number]"
      ],
      "execution_count": 25,
      "outputs": [
        {
          "output_type": "execute_result",
          "data": {
            "text/plain": [
              "[[0, 0, 0], [0], [0, 0, 0], [0, 0], [0, 0, 0, 0, 0]]"
            ]
          },
          "metadata": {
            "tags": []
          },
          "execution_count": 25
        }
      ]
    },
    {
      "cell_type": "code",
      "metadata": {
        "colab": {
          "base_uri": "https://localhost:8080/"
        },
        "id": "9Zq3Ub3E9-ri",
        "outputId": "4892445e-b7ae-414b-e3a3-24e2627d441d"
      },
      "source": [
        "b = []\n",
        "for i in number:\n",
        "    line = []\n",
        "    for _ in range(i):\n",
        "        line.append(0)\n",
        "    b.append(line)\n",
        "\n",
        "b"
      ],
      "execution_count": 26,
      "outputs": [
        {
          "output_type": "execute_result",
          "data": {
            "text/plain": [
              "[[0, 0, 0], [0], [0, 0, 0], [0, 0], [0, 0, 0, 0, 0]]"
            ]
          },
          "metadata": {
            "tags": []
          },
          "execution_count": 26
        }
      ]
    },
    {
      "cell_type": "markdown",
      "metadata": {
        "id": "9yBeo_Jw--ef"
      },
      "source": [
        "## 23.4 2차원 리스트의 할당과 복사"
      ]
    },
    {
      "cell_type": "code",
      "metadata": {
        "colab": {
          "base_uri": "https://localhost:8080/"
        },
        "id": "vAAg13HJ-gO2",
        "outputId": "1c0739f5-c3a8-440d-f8b4-954fbade43b2"
      },
      "source": [
        "a = [[10,20],[30,40]]\n",
        "b = a                   # 같은 메모리 장소 사용\n",
        "b[0][0] = 500\n",
        "a"
      ],
      "execution_count": 27,
      "outputs": [
        {
          "output_type": "execute_result",
          "data": {
            "text/plain": [
              "[[500, 20], [30, 40]]"
            ]
          },
          "metadata": {
            "tags": []
          },
          "execution_count": 27
        }
      ]
    },
    {
      "cell_type": "code",
      "metadata": {
        "colab": {
          "base_uri": "https://localhost:8080/"
        },
        "id": "oyt5WfjC_MC4",
        "outputId": "22c69e96-dbaa-4905-a2c2-a58f369cf6bb"
      },
      "source": [
        "# 2차원이상을 완전히 복사할 때는 copy.deepcopy()를 사용함\n",
        "import copy\n",
        "a = [[10,20],[30,40]]\n",
        "b = copy.deepcopy(a)\n",
        "b[0][0] = 500\n",
        "a"
      ],
      "execution_count": 28,
      "outputs": [
        {
          "output_type": "execute_result",
          "data": {
            "text/plain": [
              "[[10, 20], [30, 40]]"
            ]
          },
          "metadata": {
            "tags": []
          },
          "execution_count": 28
        }
      ]
    },
    {
      "cell_type": "code",
      "metadata": {
        "id": "o3nNKlpyAPRl"
      },
      "source": [
        ""
      ],
      "execution_count": null,
      "outputs": []
    }
  ]
}