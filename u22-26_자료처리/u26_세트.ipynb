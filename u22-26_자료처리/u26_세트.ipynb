{
  "nbformat": 4,
  "nbformat_minor": 0,
  "metadata": {
    "colab": {
      "name": "u26_세트.ipynb",
      "provenance": [],
      "collapsed_sections": [],
      "toc_visible": true
    },
    "kernelspec": {
      "name": "python3",
      "display_name": "Python 3"
    },
    "language_info": {
      "name": "python"
    }
  },
  "cells": [
    {
      "cell_type": "markdown",
      "metadata": {
        "id": "8F9SRtXi3pi8"
      },
      "source": [
        "# Unit 26. 세트(집합)"
      ]
    },
    {
      "cell_type": "markdown",
      "metadata": {
        "id": "VXAM6jRQ_ksk"
      },
      "source": [
        "## 26.1 세트(집합) 생성"
      ]
    },
    {
      "cell_type": "code",
      "metadata": {
        "colab": {
          "base_uri": "https://localhost:8080/"
        },
        "id": "hLyCqwf53lW3",
        "outputId": "f243f7f6-9206-42a6-ba29-a73d5335fb76"
      },
      "source": [
        "fruits = {'apple', 'banana', 'cherry','orange','grape'}     # {} 안에 값을 저장, 콤마(,)로 구분\n",
        "fruits      # 순서가 보장되지 않음.                         "
      ],
      "execution_count": 1,
      "outputs": [
        {
          "output_type": "execute_result",
          "data": {
            "text/plain": [
              "{'apple', 'banana', 'cherry', 'grape', 'orange'}"
            ]
          },
          "metadata": {
            "tags": []
          },
          "execution_count": 1
        }
      ]
    },
    {
      "cell_type": "code",
      "metadata": {
        "colab": {
          "base_uri": "https://localhost:8080/"
        },
        "id": "y7LQyXU54Gan",
        "outputId": "4da9e28c-c9ee-4f96-d408-330255c7bce4"
      },
      "source": [
        "type(fruits)"
      ],
      "execution_count": 2,
      "outputs": [
        {
          "output_type": "execute_result",
          "data": {
            "text/plain": [
              "set"
            ]
          },
          "metadata": {
            "tags": []
          },
          "execution_count": 2
        }
      ]
    },
    {
      "cell_type": "code",
      "metadata": {
        "id": "lJf4n9RY4RM6"
      },
      "source": [
        "a= {}       # (주의) 세트가 아닌 빈 딕셔너리"
      ],
      "execution_count": 3,
      "outputs": []
    },
    {
      "cell_type": "code",
      "metadata": {
        "colab": {
          "base_uri": "https://localhost:8080/"
        },
        "id": "RcXyrwir4dw7",
        "outputId": "83ffc60f-bca6-41b6-f6fa-52bfc89f533c"
      },
      "source": [
        "fruits = {'apple', 'banana', 'cherry','orange','grape', 'apple'}\n",
        "fruits          # 집합은 중복을 허용하지 않음"
      ],
      "execution_count": 4,
      "outputs": [
        {
          "output_type": "execute_result",
          "data": {
            "text/plain": [
              "{'apple', 'banana', 'cherry', 'grape', 'orange'}"
            ]
          },
          "metadata": {
            "tags": []
          },
          "execution_count": 4
        }
      ]
    },
    {
      "cell_type": "code",
      "metadata": {
        "colab": {
          "base_uri": "https://localhost:8080/"
        },
        "id": "6EV6U3wA4kMY",
        "outputId": "a8c7351f-e1d9-4f49-b108-e4aa7a2b48dc"
      },
      "source": [
        "'peach' not in fruits"
      ],
      "execution_count": 7,
      "outputs": [
        {
          "output_type": "execute_result",
          "data": {
            "text/plain": [
              "True"
            ]
          },
          "metadata": {
            "tags": []
          },
          "execution_count": 7
        }
      ]
    },
    {
      "cell_type": "code",
      "metadata": {
        "colab": {
          "base_uri": "https://localhost:8080/"
        },
        "id": "o9bmS9J04vX7",
        "outputId": "617356b3-280e-4049-9d44-44d73b719cfb"
      },
      "source": [
        "'orange' in fruits"
      ],
      "execution_count": 6,
      "outputs": [
        {
          "output_type": "execute_result",
          "data": {
            "text/plain": [
              "True"
            ]
          },
          "metadata": {
            "tags": []
          },
          "execution_count": 6
        }
      ]
    },
    {
      "cell_type": "code",
      "metadata": {
        "colab": {
          "base_uri": "https://localhost:8080/"
        },
        "id": "tBHZVql64zWJ",
        "outputId": "248a4875-1d61-4663-e3b0-d5d34e1a8f29"
      },
      "source": [
        "a = set('apple')            # set('apple', 'banana', 'cherry','orange','grape')는 오류\n",
        "a                           # set(['apple', 'banana', 'cherry','orange','grape'])와 동일"
      ],
      "execution_count": 47,
      "outputs": [
        {
          "output_type": "execute_result",
          "data": {
            "text/plain": [
              "{'a', 'e', 'l', 'p'}"
            ]
          },
          "metadata": {
            "tags": []
          },
          "execution_count": 47
        }
      ]
    },
    {
      "cell_type": "code",
      "metadata": {
        "colab": {
          "base_uri": "https://localhost:8080/"
        },
        "id": "C6IkL9PZ5LXC",
        "outputId": "780e7883-e9db-4dfd-8ae6-26e4328aa6df"
      },
      "source": [
        "set('안녕하세요?')"
      ],
      "execution_count": 10,
      "outputs": [
        {
          "output_type": "execute_result",
          "data": {
            "text/plain": [
              "{'?', '녕', '세', '안', '요', '하'}"
            ]
          },
          "metadata": {
            "tags": []
          },
          "execution_count": 10
        }
      ]
    },
    {
      "cell_type": "markdown",
      "metadata": {
        "id": "bmqPjDA95kKp"
      },
      "source": [
        "## 26.2 연산"
      ]
    },
    {
      "cell_type": "code",
      "metadata": {
        "colab": {
          "base_uri": "https://localhost:8080/"
        },
        "id": "hEDVx3_25XIJ",
        "outputId": "57ad73a9-f577-4a1a-a749-f97bf04eda1b"
      },
      "source": [
        "a = set(range(4))\n",
        "b = set(range(2,6))\n",
        "a,b"
      ],
      "execution_count": 40,
      "outputs": [
        {
          "output_type": "execute_result",
          "data": {
            "text/plain": [
              "({0, 1, 2, 3}, {2, 3, 4, 5})"
            ]
          },
          "metadata": {
            "tags": []
          },
          "execution_count": 40
        }
      ]
    },
    {
      "cell_type": "code",
      "metadata": {
        "colab": {
          "base_uri": "https://localhost:8080/"
        },
        "id": "lNxLsnRB5xq9",
        "outputId": "0a794478-9fbe-4607-8767-0195895e75c4"
      },
      "source": [
        "# 합집합(Union)\n",
        "a | b"
      ],
      "execution_count": 14,
      "outputs": [
        {
          "output_type": "execute_result",
          "data": {
            "text/plain": [
              "{0, 1, 2, 3, 4, 5}"
            ]
          },
          "metadata": {
            "tags": []
          },
          "execution_count": 14
        }
      ]
    },
    {
      "cell_type": "code",
      "metadata": {
        "colab": {
          "base_uri": "https://localhost:8080/"
        },
        "id": "qqP2UcbM55D3",
        "outputId": "736538df-59a4-46af-da75-a47bcfe763e7"
      },
      "source": [
        "set.union(a,b)"
      ],
      "execution_count": 15,
      "outputs": [
        {
          "output_type": "execute_result",
          "data": {
            "text/plain": [
              "{0, 1, 2, 3, 4, 5}"
            ]
          },
          "metadata": {
            "tags": []
          },
          "execution_count": 15
        }
      ]
    },
    {
      "cell_type": "code",
      "metadata": {
        "colab": {
          "base_uri": "https://localhost:8080/"
        },
        "id": "GzAOpbts6EML",
        "outputId": "93e33fe4-2292-4e37-b868-df6612f27587"
      },
      "source": [
        "# 교집합(Intersection)\n",
        "a & b"
      ],
      "execution_count": 17,
      "outputs": [
        {
          "output_type": "execute_result",
          "data": {
            "text/plain": [
              "{2, 3}"
            ]
          },
          "metadata": {
            "tags": []
          },
          "execution_count": 17
        }
      ]
    },
    {
      "cell_type": "code",
      "metadata": {
        "colab": {
          "base_uri": "https://localhost:8080/"
        },
        "id": "TNS5mezw6Jev",
        "outputId": "fe7214c8-39da-4606-98b7-e7ac2b50edec"
      },
      "source": [
        "set.intersection(a,b)"
      ],
      "execution_count": 18,
      "outputs": [
        {
          "output_type": "execute_result",
          "data": {
            "text/plain": [
              "{2, 3}"
            ]
          },
          "metadata": {
            "tags": []
          },
          "execution_count": 18
        }
      ]
    },
    {
      "cell_type": "code",
      "metadata": {
        "colab": {
          "base_uri": "https://localhost:8080/"
        },
        "id": "2wo5HCwn6Ul3",
        "outputId": "605e0c9f-f5a8-4108-e40f-99b8ab3273d5"
      },
      "source": [
        "# 차집합(difference)\n",
        "a - b"
      ],
      "execution_count": 19,
      "outputs": [
        {
          "output_type": "execute_result",
          "data": {
            "text/plain": [
              "{0, 1}"
            ]
          },
          "metadata": {
            "tags": []
          },
          "execution_count": 19
        }
      ]
    },
    {
      "cell_type": "code",
      "metadata": {
        "colab": {
          "base_uri": "https://localhost:8080/"
        },
        "id": "oOauDbWV6c7s",
        "outputId": "7b55c018-f00d-4595-ac20-b53472f03ceb"
      },
      "source": [
        "set.difference(a,b)"
      ],
      "execution_count": 20,
      "outputs": [
        {
          "output_type": "execute_result",
          "data": {
            "text/plain": [
              "{0, 1}"
            ]
          },
          "metadata": {
            "tags": []
          },
          "execution_count": 20
        }
      ]
    },
    {
      "cell_type": "code",
      "metadata": {
        "colab": {
          "base_uri": "https://localhost:8080/"
        },
        "id": "6JudaO8P6h5b",
        "outputId": "ba22f1a8-fe19-4ef2-fe97-9d63579e1662"
      },
      "source": [
        "# 대칭차집합(symmetric dieffrence)\n",
        "a ^ b"
      ],
      "execution_count": 21,
      "outputs": [
        {
          "output_type": "execute_result",
          "data": {
            "text/plain": [
              "{0, 1, 4, 5}"
            ]
          },
          "metadata": {
            "tags": []
          },
          "execution_count": 21
        }
      ]
    },
    {
      "cell_type": "code",
      "metadata": {
        "colab": {
          "base_uri": "https://localhost:8080/"
        },
        "id": "Q0Q3qyNy629E",
        "outputId": "107d7e8e-8b17-4716-c73c-96cb682678ed"
      },
      "source": [
        "set.symmetric_difference(a,b)"
      ],
      "execution_count": 22,
      "outputs": [
        {
          "output_type": "execute_result",
          "data": {
            "text/plain": [
              "{0, 1, 4, 5}"
            ]
          },
          "metadata": {
            "tags": []
          },
          "execution_count": 22
        }
      ]
    },
    {
      "cell_type": "markdown",
      "metadata": {
        "id": "lZeyAY0A7XxS"
      },
      "source": [
        "### 부분집합, 상위집합"
      ]
    },
    {
      "cell_type": "code",
      "metadata": {
        "colab": {
          "base_uri": "https://localhost:8080/"
        },
        "id": "jTfeTlGb675b",
        "outputId": "8cfa56d7-385c-47f8-9a4d-78cf1d38e6a5"
      },
      "source": [
        "a <= {0,1,2,3}"
      ],
      "execution_count": 23,
      "outputs": [
        {
          "output_type": "execute_result",
          "data": {
            "text/plain": [
              "True"
            ]
          },
          "metadata": {
            "tags": []
          },
          "execution_count": 23
        }
      ]
    },
    {
      "cell_type": "code",
      "metadata": {
        "colab": {
          "base_uri": "https://localhost:8080/"
        },
        "id": "l3j-EV2M7f2b",
        "outputId": "0ab489cf-d976-4010-ff39-bbabd9195737"
      },
      "source": [
        "a.issubset({0,1,2,3,4})"
      ],
      "execution_count": 24,
      "outputs": [
        {
          "output_type": "execute_result",
          "data": {
            "text/plain": [
              "True"
            ]
          },
          "metadata": {
            "tags": []
          },
          "execution_count": 24
        }
      ]
    },
    {
      "cell_type": "code",
      "metadata": {
        "colab": {
          "base_uri": "https://localhost:8080/"
        },
        "id": "hmoD9CGc7mGj",
        "outputId": "cc1684f3-d565-44f6-94f4-e6fbe8822e10"
      },
      "source": [
        "a >= {1,2,3}\n",
        "a.issuperset({1,2,3})"
      ],
      "execution_count": 25,
      "outputs": [
        {
          "output_type": "execute_result",
          "data": {
            "text/plain": [
              "True"
            ]
          },
          "metadata": {
            "tags": []
          },
          "execution_count": 25
        }
      ]
    },
    {
      "cell_type": "markdown",
      "metadata": {
        "id": "Bhv306eZ8BBO"
      },
      "source": [
        "### 값 비교"
      ]
    },
    {
      "cell_type": "code",
      "metadata": {
        "colab": {
          "base_uri": "https://localhost:8080/"
        },
        "id": "2Gm_PFBG77-x",
        "outputId": "13cbe6b6-3cff-47c8-915e-8c73b7871167"
      },
      "source": [
        "a == {3,1,0,2}      # set는 순서 관계 없음"
      ],
      "execution_count": 26,
      "outputs": [
        {
          "output_type": "execute_result",
          "data": {
            "text/plain": [
              "True"
            ]
          },
          "metadata": {
            "tags": []
          },
          "execution_count": 26
        }
      ]
    },
    {
      "cell_type": "code",
      "metadata": {
        "colab": {
          "base_uri": "https://localhost:8080/"
        },
        "id": "o_Hv6crd8OwX",
        "outputId": "b28c23a4-15f7-49d8-aee4-fbdff23299cb"
      },
      "source": [
        "a.isdisjoint(b)     # 겹치는 것이 있는지 확인"
      ],
      "execution_count": 28,
      "outputs": [
        {
          "output_type": "execute_result",
          "data": {
            "text/plain": [
              "False"
            ]
          },
          "metadata": {
            "tags": []
          },
          "execution_count": 28
        }
      ]
    },
    {
      "cell_type": "code",
      "metadata": {
        "colab": {
          "base_uri": "https://localhost:8080/"
        },
        "id": "aPwN2o2h8WqR",
        "outputId": "e5be2322-d5ac-4df4-d816-79a3aa278188"
      },
      "source": [
        "a.isdisjoint({4,5,6,7})"
      ],
      "execution_count": 29,
      "outputs": [
        {
          "output_type": "execute_result",
          "data": {
            "text/plain": [
              "True"
            ]
          },
          "metadata": {
            "tags": []
          },
          "execution_count": 29
        }
      ]
    },
    {
      "cell_type": "markdown",
      "metadata": {
        "id": "0X7-hs838yXz"
      },
      "source": [
        "## 26.3 세트 조작"
      ]
    },
    {
      "cell_type": "code",
      "metadata": {
        "colab": {
          "base_uri": "https://localhost:8080/"
        },
        "id": "KVHmDtSB8uBN",
        "outputId": "11892f50-e2a1-4a94-cde8-f9fac675d680"
      },
      "source": [
        "a.add(4)        # 요소 추가\n",
        "a"
      ],
      "execution_count": 34,
      "outputs": [
        {
          "output_type": "execute_result",
          "data": {
            "text/plain": [
              "{0, 1, 2, 3, 4}"
            ]
          },
          "metadata": {
            "tags": []
          },
          "execution_count": 34
        }
      ]
    },
    {
      "cell_type": "code",
      "metadata": {
        "id": "D8OSMB6z83Zh"
      },
      "source": [
        "a.remove(4)     # 요소 삭제"
      ],
      "execution_count": 35,
      "outputs": []
    },
    {
      "cell_type": "code",
      "metadata": {
        "colab": {
          "base_uri": "https://localhost:8080/"
        },
        "id": "gfEY_mSB85ry",
        "outputId": "61c88dc4-0517-4dd5-c804-9ffa87e564c8"
      },
      "source": [
        "a.pop()         # 임의의 요소 삭제"
      ],
      "execution_count": 41,
      "outputs": [
        {
          "output_type": "execute_result",
          "data": {
            "text/plain": [
              "0"
            ]
          },
          "metadata": {
            "tags": []
          },
          "execution_count": 41
        }
      ]
    },
    {
      "cell_type": "code",
      "metadata": {
        "colab": {
          "base_uri": "https://localhost:8080/"
        },
        "id": "61pwLRSA9E_Y",
        "outputId": "fa53dc28-3b3c-4bff-faf6-f35a1c8b6abe"
      },
      "source": [
        "a"
      ],
      "execution_count": 42,
      "outputs": [
        {
          "output_type": "execute_result",
          "data": {
            "text/plain": [
              "{1, 2, 3}"
            ]
          },
          "metadata": {
            "tags": []
          },
          "execution_count": 42
        }
      ]
    },
    {
      "cell_type": "code",
      "metadata": {
        "colab": {
          "base_uri": "https://localhost:8080/"
        },
        "id": "HMaThFNK9Nl0",
        "outputId": "e460adb3-49b2-4ec9-c068-ff1cc2dc8b04"
      },
      "source": [
        "len(a)"
      ],
      "execution_count": 44,
      "outputs": [
        {
          "output_type": "execute_result",
          "data": {
            "text/plain": [
              "3"
            ]
          },
          "metadata": {
            "tags": []
          },
          "execution_count": 44
        }
      ]
    },
    {
      "cell_type": "markdown",
      "metadata": {
        "id": "yi8PrDsM9VEB"
      },
      "source": [
        "## 26.4 반복문"
      ]
    },
    {
      "cell_type": "code",
      "metadata": {
        "colab": {
          "base_uri": "https://localhost:8080/"
        },
        "id": "eVbXMs_w9TPH",
        "outputId": "aa3f979e-3f82-44ff-c909-0e6799cd27c5"
      },
      "source": [
        "for element in a:\n",
        "    print(element)"
      ],
      "execution_count": 45,
      "outputs": [
        {
          "output_type": "stream",
          "text": [
            "1\n",
            "2\n",
            "3\n"
          ],
          "name": "stdout"
        }
      ]
    },
    {
      "cell_type": "code",
      "metadata": {
        "id": "dB_Dz0In9949"
      },
      "source": [
        ""
      ],
      "execution_count": null,
      "outputs": []
    }
  ]
}