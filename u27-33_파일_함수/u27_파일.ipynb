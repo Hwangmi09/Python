{
  "nbformat": 4,
  "nbformat_minor": 0,
  "metadata": {
    "colab": {
      "name": "u27_파일.ipynb",
      "provenance": [],
      "collapsed_sections": []
    },
    "kernelspec": {
      "name": "python3",
      "display_name": "Python 3"
    },
    "language_info": {
      "name": "python"
    }
  },
  "cells": [
    {
      "cell_type": "markdown",
      "metadata": {
        "id": "Alneqmq-lKIo"
      },
      "source": [
        "# Unit 27. 파일"
      ]
    },
    {
      "cell_type": "code",
      "metadata": {
        "colab": {
          "base_uri": "https://localhost:8080/"
        },
        "id": "14uIqDWOk-Ft",
        "outputId": "8863e9d5-b77e-4299-edb8-007f09132a83"
      },
      "source": [
        "!ls -l sample_data/"
      ],
      "execution_count": 1,
      "outputs": [
        {
          "output_type": "stream",
          "text": [
            "total 55504\n",
            "-rwxr-xr-x 1 root root     1697 Jan  1  2000 anscombe.json\n",
            "-rw-r--r-- 1 root root   301141 Jul 16 13:20 california_housing_test.csv\n",
            "-rw-r--r-- 1 root root  1706430 Jul 16 13:20 california_housing_train.csv\n",
            "-rw-r--r-- 1 root root 18289443 Jul 16 13:20 mnist_test.csv\n",
            "-rw-r--r-- 1 root root 36523880 Jul 16 13:20 mnist_train_small.csv\n",
            "-rwxr-xr-x 1 root root      930 Jan  1  2000 README.md\n"
          ],
          "name": "stdout"
        }
      ]
    },
    {
      "cell_type": "markdown",
      "metadata": {
        "id": "rSA9xdBEmnRG"
      },
      "source": [
        "## 27.1 문자열 쓰기, 읽기"
      ]
    },
    {
      "cell_type": "code",
      "metadata": {
        "id": "QsD51wLhmY7s"
      },
      "source": [
        "# 파일 모드 : read, write, append\n",
        "file = open('hello.txt','w')    # write, 덮어쓰기가 됨\n",
        "file.write('Hello.world!')\n",
        "file.close()"
      ],
      "execution_count": 2,
      "outputs": []
    },
    {
      "cell_type": "code",
      "metadata": {
        "colab": {
          "base_uri": "https://localhost:8080/"
        },
        "id": "je6hzRatnEI4",
        "outputId": "8e11ac69-c1fd-4210-abc8-fedebfc4ae8e"
      },
      "source": [
        "# cat은 unix 명령어(윈도우에서는 type)\n",
        "!cat hello.txt"
      ],
      "execution_count": 3,
      "outputs": [
        {
          "output_type": "stream",
          "text": [
            "Hello.world!"
          ],
          "name": "stdout"
        }
      ]
    },
    {
      "cell_type": "code",
      "metadata": {
        "colab": {
          "base_uri": "https://localhost:8080/"
        },
        "id": "0EDxArLbnLjT",
        "outputId": "6082bbfc-fd01-4a2c-867c-bd05f37d63f0"
      },
      "source": [
        "file = open('hello.txt')    # read, 'r' mode가 default\n",
        "s = file.read()\n",
        "print(s)\n",
        "file.close()"
      ],
      "execution_count": 4,
      "outputs": [
        {
          "output_type": "stream",
          "text": [
            "Hello.world!\n"
          ],
          "name": "stdout"
        }
      ]
    },
    {
      "cell_type": "markdown",
      "metadata": {
        "id": "eZ2YhP98pncK"
      },
      "source": [
        "### 파이썬 스타일"
      ]
    },
    {
      "cell_type": "code",
      "metadata": {
        "colab": {
          "base_uri": "https://localhost:8080/"
        },
        "id": "eBWnNBEopWAA",
        "outputId": "6fdbd7c6-9a22-4428-9fc6-417308a87785"
      },
      "source": [
        "with open('hello.txt') as file:     # with문이 끝나면 저절로 file.close()가 실행됨\n",
        "    s = file.read()\n",
        "print(s)"
      ],
      "execution_count": 6,
      "outputs": [
        {
          "output_type": "stream",
          "text": [
            "Hello.world!\n"
          ],
          "name": "stdout"
        }
      ]
    },
    {
      "cell_type": "markdown",
      "metadata": {
        "id": "Ku5OZ8U8p_i8"
      },
      "source": [
        "## 27.2 문자열 여러줄"
      ]
    },
    {
      "cell_type": "code",
      "metadata": {
        "id": "5LvqldExpmJr"
      },
      "source": [
        "with open('hello.txt','w') as file:\n",
        "    for i in range(3):\n",
        "        file.write(f'Hello, world! {i+1}\\n')"
      ],
      "execution_count": 7,
      "outputs": []
    },
    {
      "cell_type": "code",
      "metadata": {
        "colab": {
          "base_uri": "https://localhost:8080/"
        },
        "id": "9Za06Yg_q26H",
        "outputId": "626c0697-d4b3-4b71-ebf9-1c3ca809d1fd"
      },
      "source": [
        "!cat hello.txt"
      ],
      "execution_count": 8,
      "outputs": [
        {
          "output_type": "stream",
          "text": [
            "Hello, world! 1\n",
            "Hello, world! 2\n",
            "Hello, world! 3\n"
          ],
          "name": "stdout"
        }
      ]
    },
    {
      "cell_type": "code",
      "metadata": {
        "id": "9mC6dPOiq4ja"
      },
      "source": [
        "lines = ['안녕하세요.\\n', '파이썬\\n', '코딩도장입니다.\\n']\n",
        "with open('hello.txt','w') as file:\n",
        "    file.writelines(lines)"
      ],
      "execution_count": 9,
      "outputs": []
    },
    {
      "cell_type": "code",
      "metadata": {
        "colab": {
          "base_uri": "https://localhost:8080/"
        },
        "id": "jGiBaEBrrshr",
        "outputId": "ec6d30be-a144-4a70-cfcc-a1592318ec42"
      },
      "source": [
        "!cat hello.txt"
      ],
      "execution_count": 10,
      "outputs": [
        {
          "output_type": "stream",
          "text": [
            "안녕하세요.\n",
            "파이썬\n",
            "코딩도장입니다.\n"
          ],
          "name": "stdout"
        }
      ]
    },
    {
      "cell_type": "code",
      "metadata": {
        "id": "2KdBXVdOrvsB"
      },
      "source": [
        "s = \"\"\"안녕하세요.\n",
        "파이썬\n",
        "코딩도장입니다.\"\"\"\n",
        "with open('hello.txt','w') as file:\n",
        "    file.write(s)"
      ],
      "execution_count": 11,
      "outputs": []
    },
    {
      "cell_type": "code",
      "metadata": {
        "colab": {
          "base_uri": "https://localhost:8080/"
        },
        "id": "LTnabcjEs5wT",
        "outputId": "60350fdd-b3b4-4e54-ad59-03fc3dddb1c3"
      },
      "source": [
        "!cat hello.txt"
      ],
      "execution_count": 12,
      "outputs": [
        {
          "output_type": "stream",
          "text": [
            "안녕하세요.\n",
            "파이썬\n",
            "코딩도장입니다."
          ],
          "name": "stdout"
        }
      ]
    },
    {
      "cell_type": "code",
      "metadata": {
        "colab": {
          "base_uri": "https://localhost:8080/"
        },
        "id": "wHviRAq-s7xs",
        "outputId": "c75dea76-6b91-4bea-d7d2-356902efa61a"
      },
      "source": [
        "with open('hello.txt') as file:\n",
        "    s = file.read()        # file.read(size), default = EOF\n",
        "print(s)"
      ],
      "execution_count": 15,
      "outputs": [
        {
          "output_type": "stream",
          "text": [
            "안녕하세요.\n",
            "파이썬\n",
            "코딩도장입니다.\n"
          ],
          "name": "stdout"
        }
      ]
    },
    {
      "cell_type": "code",
      "metadata": {
        "colab": {
          "base_uri": "https://localhost:8080/"
        },
        "id": "3pS7y11vtEZF",
        "outputId": "0116d0c8-c46a-40f0-f318-76b67f59816d"
      },
      "source": [
        "with open('hello.txt') as file:\n",
        "    s = file.readline()     # 한 줄씩 읽어옴\n",
        "print(s)"
      ],
      "execution_count": 17,
      "outputs": [
        {
          "output_type": "stream",
          "text": [
            "안녕하세요.\n",
            "\n"
          ],
          "name": "stdout"
        }
      ]
    },
    {
      "cell_type": "code",
      "metadata": {
        "colab": {
          "base_uri": "https://localhost:8080/"
        },
        "id": "xbvcSba3tVnC",
        "outputId": "a50e6287-0586-4fb9-f4c9-097e6ef46f53"
      },
      "source": [
        "with open('hello.txt') as file:\n",
        "    line = None\n",
        "    while line != '':\n",
        "        line = file.readline()  \n",
        "        print(line.strip('\\n'))"
      ],
      "execution_count": 21,
      "outputs": [
        {
          "output_type": "stream",
          "text": [
            "안녕하세요.\n",
            "파이썬\n",
            "코딩도장입니다.\n",
            "\n"
          ],
          "name": "stdout"
        }
      ]
    },
    {
      "cell_type": "code",
      "metadata": {
        "colab": {
          "base_uri": "https://localhost:8080/"
        },
        "id": "qFLIsakit3th",
        "outputId": "3880a442-ab76-49f3-c55e-6f87397b158e"
      },
      "source": [
        "with open('hello.txt') as file:\n",
        "    for line in file:       #dir()에 __iter__가 정의되어 있으면 for문에 사용가능\n",
        "        print(line.strip('\\n'))"
      ],
      "execution_count": 23,
      "outputs": [
        {
          "output_type": "stream",
          "text": [
            "안녕하세요.\n",
            "파이썬\n",
            "코딩도장입니다.\n"
          ],
          "name": "stdout"
        }
      ]
    },
    {
      "cell_type": "code",
      "metadata": {
        "colab": {
          "base_uri": "https://localhost:8080/"
        },
        "id": "6hLdX8wBxIxW",
        "outputId": "592f3d65-1603-42ef-da40-eba8d99355d4"
      },
      "source": [
        "dir(file)       # 속성과 메소드를 출력"
      ],
      "execution_count": 24,
      "outputs": [
        {
          "output_type": "execute_result",
          "data": {
            "text/plain": [
              "['_CHUNK_SIZE',\n",
              " '__class__',\n",
              " '__del__',\n",
              " '__delattr__',\n",
              " '__dict__',\n",
              " '__dir__',\n",
              " '__doc__',\n",
              " '__enter__',\n",
              " '__eq__',\n",
              " '__exit__',\n",
              " '__format__',\n",
              " '__ge__',\n",
              " '__getattribute__',\n",
              " '__getstate__',\n",
              " '__gt__',\n",
              " '__hash__',\n",
              " '__init__',\n",
              " '__init_subclass__',\n",
              " '__iter__',\n",
              " '__le__',\n",
              " '__lt__',\n",
              " '__ne__',\n",
              " '__new__',\n",
              " '__next__',\n",
              " '__reduce__',\n",
              " '__reduce_ex__',\n",
              " '__repr__',\n",
              " '__setattr__',\n",
              " '__sizeof__',\n",
              " '__str__',\n",
              " '__subclasshook__',\n",
              " '_checkClosed',\n",
              " '_checkReadable',\n",
              " '_checkSeekable',\n",
              " '_checkWritable',\n",
              " '_finalizing',\n",
              " 'buffer',\n",
              " 'close',\n",
              " 'closed',\n",
              " 'detach',\n",
              " 'encoding',\n",
              " 'errors',\n",
              " 'fileno',\n",
              " 'flush',\n",
              " 'isatty',\n",
              " 'line_buffering',\n",
              " 'mode',\n",
              " 'name',\n",
              " 'newlines',\n",
              " 'read',\n",
              " 'readable',\n",
              " 'readline',\n",
              " 'readlines',\n",
              " 'reconfigure',\n",
              " 'seek',\n",
              " 'seekable',\n",
              " 'tell',\n",
              " 'truncate',\n",
              " 'writable',\n",
              " 'write',\n",
              " 'write_through',\n",
              " 'writelines']"
            ]
          },
          "metadata": {
            "tags": []
          },
          "execution_count": 24
        }
      ]
    },
    {
      "cell_type": "code",
      "metadata": {
        "colab": {
          "base_uri": "https://localhost:8080/"
        },
        "id": "s6sh_2IXxTON",
        "outputId": "715a8b12-1faa-44bd-d010-299eded09a4e"
      },
      "source": [
        "x = {'a':10,'b':20}\n",
        "dir(x)"
      ],
      "execution_count": 25,
      "outputs": [
        {
          "output_type": "execute_result",
          "data": {
            "text/plain": [
              "['__class__',\n",
              " '__contains__',\n",
              " '__delattr__',\n",
              " '__delitem__',\n",
              " '__dir__',\n",
              " '__doc__',\n",
              " '__eq__',\n",
              " '__format__',\n",
              " '__ge__',\n",
              " '__getattribute__',\n",
              " '__getitem__',\n",
              " '__gt__',\n",
              " '__hash__',\n",
              " '__init__',\n",
              " '__init_subclass__',\n",
              " '__iter__',\n",
              " '__le__',\n",
              " '__len__',\n",
              " '__lt__',\n",
              " '__ne__',\n",
              " '__new__',\n",
              " '__reduce__',\n",
              " '__reduce_ex__',\n",
              " '__repr__',\n",
              " '__setattr__',\n",
              " '__setitem__',\n",
              " '__sizeof__',\n",
              " '__str__',\n",
              " '__subclasshook__',\n",
              " 'clear',\n",
              " 'copy',\n",
              " 'fromkeys',\n",
              " 'get',\n",
              " 'items',\n",
              " 'keys',\n",
              " 'pop',\n",
              " 'popitem',\n",
              " 'setdefault',\n",
              " 'update',\n",
              " 'values']"
            ]
          },
          "metadata": {
            "tags": []
          },
          "execution_count": 25
        }
      ]
    },
    {
      "cell_type": "code",
      "metadata": {
        "colab": {
          "base_uri": "https://localhost:8080/"
        },
        "id": "oiCLSDQbxvWx",
        "outputId": "d7835e7b-c661-491a-fb80-9e1a829de2d1"
      },
      "source": [
        "for a in x:     # for a in x.keys()와 동일\n",
        "    print(a)"
      ],
      "execution_count": 27,
      "outputs": [
        {
          "output_type": "stream",
          "text": [
            "a\n",
            "b\n"
          ],
          "name": "stdout"
        }
      ]
    },
    {
      "cell_type": "code",
      "metadata": {
        "colab": {
          "base_uri": "https://localhost:8080/"
        },
        "id": "UdR4-Caxx0Dn",
        "outputId": "d419a049-debe-4134-abdc-b2c519975a22"
      },
      "source": [
        "with open('hello.txt') as file:\n",
        "    s = file.readlines()     # 한 줄씩을 요소로 하여 리스트로 저장\n",
        "print(s)"
      ],
      "execution_count": 28,
      "outputs": [
        {
          "output_type": "stream",
          "text": [
            "['안녕하세요.\\n', '파이썬\\n', '코딩도장입니다.']\n"
          ],
          "name": "stdout"
        }
      ]
    },
    {
      "cell_type": "markdown",
      "metadata": {
        "id": "pbIFUGfCzITl"
      },
      "source": [
        "### append"
      ]
    },
    {
      "cell_type": "code",
      "metadata": {
        "id": "5ltS-oNqydkX"
      },
      "source": [
        "with open('hello.txt','a') as file:\n",
        "    file.write('Append\\n')"
      ],
      "execution_count": 30,
      "outputs": []
    },
    {
      "cell_type": "code",
      "metadata": {
        "colab": {
          "base_uri": "https://localhost:8080/"
        },
        "id": "MzlUE5Poy62a",
        "outputId": "7bbdfa46-c7ee-4286-a781-b0c4747c8017"
      },
      "source": [
        "!cat hello.txt"
      ],
      "execution_count": 31,
      "outputs": [
        {
          "output_type": "stream",
          "text": [
            "안녕하세요.\n",
            "파이썬\n",
            "코딩도장입니다.Append\n"
          ],
          "name": "stdout"
        }
      ]
    },
    {
      "cell_type": "markdown",
      "metadata": {
        "id": "AA0q9N8gzc-5"
      },
      "source": [
        "### binary mode"
      ]
    },
    {
      "cell_type": "code",
      "metadata": {
        "colab": {
          "base_uri": "https://localhost:8080/"
        },
        "id": "vz_zeJiyzWMV",
        "outputId": "a1c69dc0-5e11-4a64-e358-81efae1f2fc8"
      },
      "source": [
        "with open('flower.jpg','rb') as bin:        # binary모드 이용 : rb, wb, ab\n",
        "    x = bin.read(10)\n",
        "\n",
        "print(x)"
      ],
      "execution_count": 35,
      "outputs": [
        {
          "output_type": "stream",
          "text": [
            "b'\\xff\\xd8\\xff\\xe0\\x00\\x10JFIF'\n"
          ],
          "name": "stdout"
        }
      ]
    },
    {
      "cell_type": "markdown",
      "metadata": {
        "id": "Ym_pHEzx05E3"
      },
      "source": [
        "## 27.3 파이썬 객체 읽고 쓰기"
      ]
    },
    {
      "cell_type": "code",
      "metadata": {
        "id": "__mZ_p5n0JZs"
      },
      "source": [
        "# 객체를 파일에 저장할 때 사용\n",
        "import pickle\n",
        "\n",
        "scores = {'kor':90,'eng':90,'mat':80}\n",
        "with open('binary.pkl','wb') as file:\n",
        "    pickle.dump(scores, file)       # dump() : 파이썬 객체를 파일에 저장하는 피클링 메서드"
      ],
      "execution_count": 36,
      "outputs": []
    },
    {
      "cell_type": "code",
      "metadata": {
        "colab": {
          "base_uri": "https://localhost:8080/"
        },
        "id": "bIssEN9a1oSd",
        "outputId": "b4a5887e-12cb-46f3-f899-07587efa16fa"
      },
      "source": [
        "!cat binary.pkl"
      ],
      "execution_count": 37,
      "outputs": [
        {
          "output_type": "stream",
          "text": [
            "�\u0003}q\u0000(X\u0003\u0000\u0000\u0000korq\u0001KZX\u0003\u0000\u0000\u0000engq\u0002KZX\u0003\u0000\u0000\u0000matq\u0003KPu."
          ],
          "name": "stdout"
        }
      ]
    },
    {
      "cell_type": "code",
      "metadata": {
        "colab": {
          "base_uri": "https://localhost:8080/"
        },
        "id": "QGj3dVLi1zQf",
        "outputId": "d71edd3d-fcad-4d5c-a5b9-fa9f7badc4a9"
      },
      "source": [
        "with open('binary.pkl','rb') as file:\n",
        "    new_scores = pickle.load(file)  # load() : 파일에서 파이썬 객체를 읽어오는 언피클링 메서드\n",
        "\n",
        "new_scores"
      ],
      "execution_count": 39,
      "outputs": [
        {
          "output_type": "execute_result",
          "data": {
            "text/plain": [
              "{'eng': 90, 'kor': 90, 'mat': 80}"
            ]
          },
          "metadata": {
            "tags": []
          },
          "execution_count": 39
        }
      ]
    }
  ]
}