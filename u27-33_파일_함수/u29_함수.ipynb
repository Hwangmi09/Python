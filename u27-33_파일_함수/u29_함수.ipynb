{
  "nbformat": 4,
  "nbformat_minor": 0,
  "metadata": {
    "colab": {
      "name": "u29_함수.ipynb",
      "provenance": [],
      "collapsed_sections": []
    },
    "kernelspec": {
      "name": "python3",
      "display_name": "Python 3"
    },
    "language_info": {
      "name": "python"
    }
  },
  "cells": [
    {
      "cell_type": "markdown",
      "metadata": {
        "id": "BJ2usq9dM7xe"
      },
      "source": [
        "# Unit 29. 함수"
      ]
    },
    {
      "cell_type": "markdown",
      "metadata": {
        "id": "M7S7I2oTOlJ-"
      },
      "source": [
        "## 29.1 출력 함수 만들기"
      ]
    },
    {
      "cell_type": "code",
      "metadata": {
        "id": "pdu0DFtLMyKv"
      },
      "source": [
        "def hello():                # 함수는 호출하기 전에 정의되어야 함\n",
        "    print('Hello, world!')"
      ],
      "execution_count": 1,
      "outputs": []
    },
    {
      "cell_type": "code",
      "metadata": {
        "colab": {
          "base_uri": "https://localhost:8080/"
        },
        "id": "6YCTU2hiO0wl",
        "outputId": "192c7223-bf45-44c2-e825-909fde326b1d"
      },
      "source": [
        "hello()"
      ],
      "execution_count": 2,
      "outputs": [
        {
          "output_type": "stream",
          "text": [
            "Hello, world!\n"
          ],
          "name": "stdout"
        }
      ]
    },
    {
      "cell_type": "markdown",
      "metadata": {
        "id": "rg5xIukGPycd"
      },
      "source": [
        "## 29.2 덧셈 함수"
      ]
    },
    {
      "cell_type": "code",
      "metadata": {
        "id": "Y_VYGhBMO2Cg"
      },
      "source": [
        "def add(a, b):      # a, b : 매개변수(parameter, argument)\n",
        "    print(a+b)"
      ],
      "execution_count": 3,
      "outputs": []
    },
    {
      "cell_type": "code",
      "metadata": {
        "colab": {
          "base_uri": "https://localhost:8080/"
        },
        "id": "qJ4Y82yRP_yM",
        "outputId": "f7f6e187-8310-4862-84f7-1f655041f5bf"
      },
      "source": [
        "add(4,5)"
      ],
      "execution_count": 6,
      "outputs": [
        {
          "output_type": "stream",
          "text": [
            "9\n"
          ],
          "name": "stdout"
        }
      ]
    },
    {
      "cell_type": "code",
      "metadata": {
        "id": "ItMCr57UQCEh"
      },
      "source": [
        "# Docstrings\n",
        "def add(a, b):     \n",
        "    \"\"\"\n",
        "    이 함수는 a와 b를 더한 뒤 결과를 반환하는 함수입니다.\n",
        "    \"\"\"\n",
        "    print(a+b)"
      ],
      "execution_count": 7,
      "outputs": []
    },
    {
      "cell_type": "code",
      "metadata": {
        "id": "rU7XJ0N8Q179"
      },
      "source": [
        "# 도움말 호출\n",
        "add?"
      ],
      "execution_count": 9,
      "outputs": []
    },
    {
      "cell_type": "markdown",
      "metadata": {
        "id": "UQku55ltRXC7"
      },
      "source": [
        "## 29.3 결과값 반환"
      ]
    },
    {
      "cell_type": "code",
      "metadata": {
        "id": "FPs-hQLdQ84v"
      },
      "source": [
        "def add(a,b):\n",
        "    return a+b"
      ],
      "execution_count": 10,
      "outputs": []
    },
    {
      "cell_type": "code",
      "metadata": {
        "colab": {
          "base_uri": "https://localhost:8080/"
        },
        "id": "_RYex3gHRlCH",
        "outputId": "6f15273f-d89c-40ec-a87a-a48e4a5d8fd8"
      },
      "source": [
        "add(4,5), add(10,20)"
      ],
      "execution_count": 11,
      "outputs": [
        {
          "output_type": "execute_result",
          "data": {
            "text/plain": [
              "(9, 30)"
            ]
          },
          "metadata": {
            "tags": []
          },
          "execution_count": 11
        }
      ]
    },
    {
      "cell_type": "code",
      "metadata": {
        "colab": {
          "base_uri": "https://localhost:8080/"
        },
        "id": "6iC0KJeiRtlJ",
        "outputId": "2fc5d3f4-91e1-4489-8497-d28457169371"
      },
      "source": [
        "x = add(23, 45)\n",
        "x"
      ],
      "execution_count": 12,
      "outputs": [
        {
          "output_type": "execute_result",
          "data": {
            "text/plain": [
              "68"
            ]
          },
          "metadata": {
            "tags": []
          },
          "execution_count": 12
        }
      ]
    },
    {
      "cell_type": "code",
      "metadata": {
        "id": "QV77QJJ9R3GX"
      },
      "source": [
        "def is_ten(x):\n",
        "    return x==10"
      ],
      "execution_count": 13,
      "outputs": []
    },
    {
      "cell_type": "code",
      "metadata": {
        "colab": {
          "base_uri": "https://localhost:8080/"
        },
        "id": "PqkEiswgSIUE",
        "outputId": "2fd10f8e-52a4-48fb-c6a4-8f27d9854372"
      },
      "source": [
        "is_ten(101//10)"
      ],
      "execution_count": 14,
      "outputs": [
        {
          "output_type": "execute_result",
          "data": {
            "text/plain": [
              "True"
            ]
          },
          "metadata": {
            "tags": []
          },
          "execution_count": 14
        }
      ]
    },
    {
      "cell_type": "code",
      "metadata": {
        "id": "wT5poGHgSLXg"
      },
      "source": [
        "def not_ten1(x):\n",
        "    if x== 10:\n",
        "        return\n",
        "    else:\n",
        "        print('It is not 10.')"
      ],
      "execution_count": 22,
      "outputs": []
    },
    {
      "cell_type": "code",
      "metadata": {
        "id": "wE2quIbJS9is"
      },
      "source": [
        "# 위의 코드와 동일한 결과\n",
        "def not_ten2(x):\n",
        "    if x== 10:\n",
        "        return              # return은 함수 중간에서 빠져나올 수 있음\n",
        "    print('It is not 10.')"
      ],
      "execution_count": 23,
      "outputs": []
    },
    {
      "cell_type": "code",
      "metadata": {
        "colab": {
          "base_uri": "https://localhost:8080/"
        },
        "id": "TBhb-N4YSbCr",
        "outputId": "dda3ba39-a33e-4c54-fd97-c079b5e73203"
      },
      "source": [
        "not_ten1(5)"
      ],
      "execution_count": 24,
      "outputs": [
        {
          "output_type": "stream",
          "text": [
            "It is not 10.\n"
          ],
          "name": "stdout"
        }
      ]
    },
    {
      "cell_type": "code",
      "metadata": {
        "id": "4NpdkOC0SfB3"
      },
      "source": [
        "not_ten1(101//10)"
      ],
      "execution_count": 25,
      "outputs": []
    },
    {
      "cell_type": "code",
      "metadata": {
        "colab": {
          "base_uri": "https://localhost:8080/"
        },
        "id": "hQLZmH5KSg0w",
        "outputId": "79f50af2-9b8d-4adc-d2d8-cbbbc36d5b85"
      },
      "source": [
        "not_ten2(5)"
      ],
      "execution_count": 26,
      "outputs": [
        {
          "output_type": "stream",
          "text": [
            "It is not 10.\n"
          ],
          "name": "stdout"
        }
      ]
    },
    {
      "cell_type": "code",
      "metadata": {
        "id": "GLymjo-lTTNC"
      },
      "source": [
        "not_ten2(10)"
      ],
      "execution_count": 27,
      "outputs": []
    },
    {
      "cell_type": "markdown",
      "metadata": {
        "id": "durl_JdFTXoH"
      },
      "source": [
        "## 29.4 여러개의 결과값 반환"
      ]
    },
    {
      "cell_type": "code",
      "metadata": {
        "id": "k9o0zYz9TUqq"
      },
      "source": [
        "# 파이썬만 가능\n",
        "def add_sub(a,b):\n",
        "    return a+b, a-b         # 튜플"
      ],
      "execution_count": 31,
      "outputs": []
    },
    {
      "cell_type": "code",
      "metadata": {
        "id": "DFJBsdGATj_x"
      },
      "source": [
        "x,y = add_sub(15,7)         # 튜플 언패킹"
      ],
      "execution_count": 32,
      "outputs": []
    },
    {
      "cell_type": "code",
      "metadata": {
        "colab": {
          "base_uri": "https://localhost:8080/"
        },
        "id": "7zW6kqu1TmvS",
        "outputId": "1cc52163-868f-48b5-81cc-d8c8e0575806"
      },
      "source": [
        "x, y"
      ],
      "execution_count": 33,
      "outputs": [
        {
          "output_type": "execute_result",
          "data": {
            "text/plain": [
              "(22, 8)"
            ]
          },
          "metadata": {
            "tags": []
          },
          "execution_count": 33
        }
      ]
    },
    {
      "cell_type": "markdown",
      "metadata": {
        "id": "R8i61tfvUH0t"
      },
      "source": [
        "## 29.5 함수의 호출 과정"
      ]
    },
    {
      "cell_type": "code",
      "metadata": {
        "id": "nU-2YjNBTo5j"
      },
      "source": [
        "# Stack을 이용한다"
      ],
      "execution_count": null,
      "outputs": []
    },
    {
      "cell_type": "markdown",
      "metadata": {
        "id": "yNm4T-FqVNBN"
      },
      "source": [
        "## 연습문제\n",
        "- 3자리수 정수(100\\~999) 2개를 곱해서 나온 결과가 팔린드롬(Palindrome)이 되도록 할 때, 가장 큰 숫자는?"
      ]
    },
    {
      "cell_type": "code",
      "metadata": {
        "id": "kxT4tYjKbiQ_"
      },
      "source": [
        "def is_palindrome(x):\n",
        "    s = str(x)\n",
        "    return s == s[::-1]"
      ],
      "execution_count": 36,
      "outputs": []
    },
    {
      "cell_type": "code",
      "metadata": {
        "colab": {
          "base_uri": "https://localhost:8080/"
        },
        "id": "cUAKdZi7db-N",
        "outputId": "8c31e769-8b5e-4d63-b8d2-b1f75157ae83"
      },
      "source": [
        "is_palindrome(12345), is_palindrome(906609)"
      ],
      "execution_count": 41,
      "outputs": [
        {
          "output_type": "execute_result",
          "data": {
            "text/plain": [
              "(False, True)"
            ]
          },
          "metadata": {
            "tags": []
          },
          "execution_count": 41
        }
      ]
    },
    {
      "cell_type": "code",
      "metadata": {
        "colab": {
          "base_uri": "https://localhost:8080/"
        },
        "id": "1BEY-hy4bQmr",
        "outputId": "882add86-f44c-402d-d9d7-78bcd36eb88b"
      },
      "source": [
        "max_pal, m, n = 0, 0, 0\n",
        "for i in range(100,1000):\n",
        "    for k in range(i,1000):\n",
        "        if is_palindrome(i*k):        # i*k 곱한 값이 팔린드롬인지를 확인\n",
        "            if i*k > max_pal:       # 팔린드롬이면 max_pal과 비교\n",
        "                max_pal,m,n = i*k, i,k\n",
        "                \n",
        "print(f'{m} x {n} = {max_pal}')"
      ],
      "execution_count": 49,
      "outputs": [
        {
          "output_type": "stream",
          "text": [
            "913 x 993 = 906609\n"
          ],
          "name": "stdout"
        }
      ]
    }
  ]
}