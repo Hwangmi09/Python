{
  "nbformat": 4,
  "nbformat_minor": 0,
  "metadata": {
    "colab": {
      "name": "u30_위치인수_키워드인수.ipynb",
      "provenance": [],
      "collapsed_sections": []
    },
    "kernelspec": {
      "name": "python3",
      "display_name": "Python 3"
    },
    "language_info": {
      "name": "python"
    }
  },
  "cells": [
    {
      "cell_type": "markdown",
      "metadata": {
        "id": "tlN9als6fpw5"
      },
      "source": [
        "# Unit 30. 위치 인수와 키워드 인수"
      ]
    },
    {
      "cell_type": "markdown",
      "metadata": {
        "id": "6M9MAvMTnmVU"
      },
      "source": [
        "## 30.1 위치 인수와 리스트 언패킹"
      ]
    },
    {
      "cell_type": "code",
      "metadata": {
        "id": "md5WI3lkg4nf"
      },
      "source": [
        "def print_numbers(a,b,c):\n",
        "    print(a)\n",
        "    print(b)\n",
        "    print(c)"
      ],
      "execution_count": 4,
      "outputs": []
    },
    {
      "cell_type": "code",
      "metadata": {
        "colab": {
          "base_uri": "https://localhost:8080/"
        },
        "id": "ztBCkl3HfkLc",
        "outputId": "29c01cf6-7b2c-4edd-b13f-f0e242eb09f6"
      },
      "source": [
        "print_numbers(10,20,30)"
      ],
      "execution_count": 5,
      "outputs": [
        {
          "output_type": "stream",
          "text": [
            "10\n",
            "20\n",
            "30\n"
          ],
          "name": "stdout"
        }
      ]
    },
    {
      "cell_type": "code",
      "metadata": {
        "colab": {
          "base_uri": "https://localhost:8080/"
        },
        "id": "JmkbVL8zf5Uw",
        "outputId": "910a2e4d-5b03-4c4c-fd5a-9454ec36290d"
      },
      "source": [
        "# *x, *y - 리스트/튜플 언패킹\n",
        "x,y = [10,20,30],(40,50,60)\n",
        "print_numbers(*x)\n",
        "print_numbers(*y)"
      ],
      "execution_count": 7,
      "outputs": [
        {
          "output_type": "stream",
          "text": [
            "10\n",
            "20\n",
            "30\n",
            "40\n",
            "50\n",
            "60\n"
          ],
          "name": "stdout"
        }
      ]
    },
    {
      "cell_type": "markdown",
      "metadata": {
        "id": "cb-GNuajhx6z"
      },
      "source": [
        "### 가변 인수 함수"
      ]
    },
    {
      "cell_type": "code",
      "metadata": {
        "id": "uY9jV8n2hVen"
      },
      "source": [
        "def print_numbers2(*args):\n",
        "    for arg in args:\n",
        "        print(arg)"
      ],
      "execution_count": 12,
      "outputs": []
    },
    {
      "cell_type": "code",
      "metadata": {
        "colab": {
          "base_uri": "https://localhost:8080/"
        },
        "id": "_boIxiUNh7Xi",
        "outputId": "28835585-1fd0-4a44-bb99-836cb2369267"
      },
      "source": [
        "print_numbers2(10,20,30,40)"
      ],
      "execution_count": 13,
      "outputs": [
        {
          "output_type": "stream",
          "text": [
            "10\n",
            "20\n",
            "30\n",
            "40\n"
          ],
          "name": "stdout"
        }
      ]
    },
    {
      "cell_type": "markdown",
      "metadata": {
        "id": "20IiE8xZiT7m"
      },
      "source": [
        "### 고정 인수와 가변 인수"
      ]
    },
    {
      "cell_type": "code",
      "metadata": {
        "id": "0P_d-yGniFxs"
      },
      "source": [
        "def print_numbers3(a, *args):\n",
        "    print(a)\n",
        "    print(args)"
      ],
      "execution_count": 14,
      "outputs": []
    },
    {
      "cell_type": "code",
      "metadata": {
        "colab": {
          "base_uri": "https://localhost:8080/"
        },
        "id": "CWEuTPKFithx",
        "outputId": "ef58188e-dc2d-418c-823b-9b7e20822e9f"
      },
      "source": [
        "print_numbers3(1,10,20)"
      ],
      "execution_count": 15,
      "outputs": [
        {
          "output_type": "stream",
          "text": [
            "1\n",
            "(10, 20)\n"
          ],
          "name": "stdout"
        }
      ]
    },
    {
      "cell_type": "code",
      "metadata": {
        "colab": {
          "base_uri": "https://localhost:8080/"
        },
        "id": "4fRyvECjjAhG",
        "outputId": "ef73bae6-3436-4c1f-d223-e0ce0e256423"
      },
      "source": [
        "print_numbers3(*x)"
      ],
      "execution_count": 18,
      "outputs": [
        {
          "output_type": "stream",
          "text": [
            "10\n",
            "(20, 30)\n"
          ],
          "name": "stdout"
        }
      ]
    },
    {
      "cell_type": "code",
      "metadata": {
        "id": "eAaS2nrfjHhy"
      },
      "source": [
        "# 고정 위치 인수가 가변 위치 인수보다 먼저 나와야 한다.\n",
        "def print_number4(*args,a):     \n",
        "    print(args)\n",
        "    print(a)"
      ],
      "execution_count": 19,
      "outputs": []
    },
    {
      "cell_type": "code",
      "metadata": {
        "colab": {
          "base_uri": "https://localhost:8080/",
          "height": 176
        },
        "id": "_wIpwjzfjboP",
        "outputId": "1fa2d1f2-7c09-4695-d173-3b9907883f7b"
      },
      "source": [
        "print_number4(*x)"
      ],
      "execution_count": 20,
      "outputs": [
        {
          "output_type": "error",
          "ename": "TypeError",
          "evalue": "ignored",
          "traceback": [
            "\u001b[0;31m---------------------------------------------------------------------------\u001b[0m",
            "\u001b[0;31mTypeError\u001b[0m                                 Traceback (most recent call last)",
            "\u001b[0;32m<ipython-input-20-b96f5e308dfd>\u001b[0m in \u001b[0;36m<module>\u001b[0;34m()\u001b[0m\n\u001b[0;32m----> 1\u001b[0;31m \u001b[0mprint_number4\u001b[0m\u001b[0;34m(\u001b[0m\u001b[0;34m*\u001b[0m\u001b[0mx\u001b[0m\u001b[0;34m)\u001b[0m\u001b[0;34m\u001b[0m\u001b[0;34m\u001b[0m\u001b[0m\n\u001b[0m",
            "\u001b[0;31mTypeError\u001b[0m: print_number4() missing 1 required keyword-only argument: 'a'"
          ]
        }
      ]
    },
    {
      "cell_type": "markdown",
      "metadata": {
        "id": "Dha3dpT7mVo_"
      },
      "source": [
        "## 30.2 키워드 인수"
      ]
    },
    {
      "cell_type": "code",
      "metadata": {
        "id": "5PRyUYGRjel4"
      },
      "source": [
        "def personal_info(name, age, addr):\n",
        "    print('이름:', name)\n",
        "    print('나이:', age)\n",
        "    print('주소:', addr)"
      ],
      "execution_count": 32,
      "outputs": []
    },
    {
      "cell_type": "code",
      "metadata": {
        "colab": {
          "base_uri": "https://localhost:8080/"
        },
        "id": "7Sb-SC2EmvLt",
        "outputId": "4daaaac2-e260-4005-8c2b-280c49a71e11"
      },
      "source": [
        "personal_info('홍길동',30,'서울 강남구 도곡동')"
      ],
      "execution_count": 29,
      "outputs": [
        {
          "output_type": "stream",
          "text": [
            "이름: 홍길동\n",
            "나이: 30\n",
            "주소: 서울 강남구 도곡동\n"
          ],
          "name": "stdout"
        }
      ]
    },
    {
      "cell_type": "code",
      "metadata": {
        "colab": {
          "base_uri": "https://localhost:8080/"
        },
        "id": "mrNuhQptm5S7",
        "outputId": "3b50956d-d048-45b2-b6d7-c5df53bc3a53"
      },
      "source": [
        "personal_info(age=30, addr='서울 강남구 도곡동',name='홍길동')"
      ],
      "execution_count": 33,
      "outputs": [
        {
          "output_type": "stream",
          "text": [
            "이름: 홍길동\n",
            "나이: 30\n",
            "주소: 서울 강남구 도곡동\n"
          ],
          "name": "stdout"
        }
      ]
    },
    {
      "cell_type": "markdown",
      "metadata": {
        "id": "X1Osilrnnabw"
      },
      "source": [
        "## 30.3 키워드 인수와 딕셔너리 언패킹"
      ]
    },
    {
      "cell_type": "code",
      "metadata": {
        "colab": {
          "base_uri": "https://localhost:8080/"
        },
        "id": "VybpXNbhnH-m",
        "outputId": "b9b41fe3-e2e0-4a84-a498-d5c95bd0074c"
      },
      "source": [
        "x = {'name':'홍길동','age':30,'addr':'서울 강남구 도곡동'}\n",
        "personal_info(**x)      # 딕셔너리 언패킹"
      ],
      "execution_count": 34,
      "outputs": [
        {
          "output_type": "stream",
          "text": [
            "이름: 홍길동\n",
            "나이: 30\n",
            "주소: 서울 강남구 도곡동\n"
          ],
          "name": "stdout"
        }
      ]
    },
    {
      "cell_type": "code",
      "metadata": {
        "colab": {
          "base_uri": "https://localhost:8080/"
        },
        "id": "Db5UcEfVn6z1",
        "outputId": "0dbea95b-95fa-4006-8062-5c6958ce44dd"
      },
      "source": [
        "# *x는 x의 키를 불러냄\n",
        "personal_info(*x)"
      ],
      "execution_count": 35,
      "outputs": [
        {
          "output_type": "stream",
          "text": [
            "이름: name\n",
            "나이: age\n",
            "주소: addr\n"
          ],
          "name": "stdout"
        }
      ]
    },
    {
      "cell_type": "markdown",
      "metadata": {
        "id": "bwBOEiWFonZx"
      },
      "source": [
        "### 가변 키워드 인수"
      ]
    },
    {
      "cell_type": "code",
      "metadata": {
        "id": "Rrx7yIzXodbN"
      },
      "source": [
        "def personal_info2(**kwargs):\n",
        "    for key, value in kwargs.items():\n",
        "        print(f'{key} : {value}')"
      ],
      "execution_count": 38,
      "outputs": []
    },
    {
      "cell_type": "code",
      "metadata": {
        "colab": {
          "base_uri": "https://localhost:8080/"
        },
        "id": "6GmDwSc7o_XH",
        "outputId": "bf1b3f39-3ffc-4c57-bec3-69956c851102"
      },
      "source": [
        "personal_info2(**x)"
      ],
      "execution_count": 39,
      "outputs": [
        {
          "output_type": "stream",
          "text": [
            "name : 홍길동\n",
            "age : 30\n",
            "addr : 서울 강남구 도곡동\n"
          ],
          "name": "stdout"
        }
      ]
    },
    {
      "cell_type": "code",
      "metadata": {
        "colab": {
          "base_uri": "https://localhost:8080/"
        },
        "id": "tM25QwxWpCGU",
        "outputId": "ae5231e0-43d8-4df7-b1d5-07429fc2b4bc"
      },
      "source": [
        "personal_info2(name = '홍길동', age = 30)"
      ],
      "execution_count": 40,
      "outputs": [
        {
          "output_type": "stream",
          "text": [
            "name : 홍길동\n",
            "age : 30\n"
          ],
          "name": "stdout"
        }
      ]
    },
    {
      "cell_type": "markdown",
      "metadata": {
        "id": "k1DmQwv2pqOR"
      },
      "source": [
        "### 고정 인수와 가변 키워드 인수"
      ]
    },
    {
      "cell_type": "code",
      "metadata": {
        "id": "bWxaA08xpae_"
      },
      "source": [
        "def personal_info3(name,**kwargs):\n",
        "    print(name)\n",
        "    print(kwargs)"
      ],
      "execution_count": 42,
      "outputs": []
    },
    {
      "cell_type": "code",
      "metadata": {
        "colab": {
          "base_uri": "https://localhost:8080/"
        },
        "id": "_RQcfDZNqCkE",
        "outputId": "1ad7b2ab-8c6f-41ba-ab1f-28a701d1fdf4"
      },
      "source": [
        "personal_info3(**x)"
      ],
      "execution_count": 43,
      "outputs": [
        {
          "output_type": "stream",
          "text": [
            "홍길동\n",
            "{'age': 30, 'addr': '서울 강남구 도곡동'}\n"
          ],
          "name": "stdout"
        }
      ]
    },
    {
      "cell_type": "markdown",
      "metadata": {
        "id": "kMwLCIYAqWq_"
      },
      "source": [
        "### 위치 인수와 키워드 인수"
      ]
    },
    {
      "cell_type": "code",
      "metadata": {
        "id": "2M_p4vRMqGqR"
      },
      "source": [
        "# 위치 인수가 키워드 인수보다 먼저 나와야 한다.\n",
        "def my_print(*args,**kwargs):\n",
        "    print(*args,**kwargs)"
      ],
      "execution_count": 47,
      "outputs": []
    },
    {
      "cell_type": "code",
      "metadata": {
        "colab": {
          "base_uri": "https://localhost:8080/"
        },
        "id": "8q6a9cNgqtWI",
        "outputId": "9c002516-452e-40e2-e759-ff5ba4e6865a"
      },
      "source": [
        "my_print(10,20,30,sep=', ')"
      ],
      "execution_count": 48,
      "outputs": [
        {
          "output_type": "stream",
          "text": [
            "10, 20, 30\n"
          ],
          "name": "stdout"
        }
      ]
    },
    {
      "cell_type": "markdown",
      "metadata": {
        "id": "6CWuJo9ErXWN"
      },
      "source": [
        "## 30.4 매개변수의 초기값 지정"
      ]
    },
    {
      "cell_type": "code",
      "metadata": {
        "id": "THrWFUg3qy7s"
      },
      "source": [
        "# 초기값을 지정한 매개변수는 뒤쪽에 위치하도록 한다.\n",
        "def personal_info4(name,age,addr = '비공개'):\n",
        "    print('이름:', name)\n",
        "    print('나이:', age)\n",
        "    print('주소:', addr)"
      ],
      "execution_count": 49,
      "outputs": []
    },
    {
      "cell_type": "code",
      "metadata": {
        "colab": {
          "base_uri": "https://localhost:8080/"
        },
        "id": "H_AOkF1NrzKl",
        "outputId": "1d6509e9-c113-4a0b-eb5b-f9af3e3b6c96"
      },
      "source": [
        "personal_info4('홍길동',30)"
      ],
      "execution_count": 50,
      "outputs": [
        {
          "output_type": "stream",
          "text": [
            "이름: 홍길동\n",
            "나이: 30\n",
            "주소: 비공개\n"
          ],
          "name": "stdout"
        }
      ]
    },
    {
      "cell_type": "code",
      "metadata": {
        "colab": {
          "base_uri": "https://localhost:8080/"
        },
        "id": "SGKEOMUxr4CX",
        "outputId": "3c803973-981b-41a9-d777-063047cb989e"
      },
      "source": [
        "personal_info4(**x)"
      ],
      "execution_count": 51,
      "outputs": [
        {
          "output_type": "stream",
          "text": [
            "이름: 홍길동\n",
            "나이: 30\n",
            "주소: 서울 강남구 도곡동\n"
          ],
          "name": "stdout"
        }
      ]
    }
  ]
}