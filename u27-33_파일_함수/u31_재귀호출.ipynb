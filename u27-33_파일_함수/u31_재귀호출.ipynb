{
  "nbformat": 4,
  "nbformat_minor": 0,
  "metadata": {
    "colab": {
      "name": "u31_재귀호출.ipynb",
      "provenance": [],
      "collapsed_sections": []
    },
    "kernelspec": {
      "name": "python3",
      "display_name": "Python 3"
    },
    "language_info": {
      "name": "python"
    }
  },
  "cells": [
    {
      "cell_type": "markdown",
      "metadata": {
        "id": "27i8xS43uCgZ"
      },
      "source": [
        "# Unit 31. 재귀호출(Recursive Call)"
      ]
    },
    {
      "cell_type": "markdown",
      "metadata": {
        "id": "7zmJOKI0ubos"
      },
      "source": [
        "## factorial 함수를 재귀호출로 구현"
      ]
    },
    {
      "cell_type": "code",
      "metadata": {
        "id": "L2RmcSjNt-xq"
      },
      "source": [
        "def factorial(n):\n",
        "    if n==0:            # n==1:\n",
        "        return 1\n",
        "    return n*factorial(n-1)"
      ],
      "execution_count": 1,
      "outputs": []
    },
    {
      "cell_type": "code",
      "metadata": {
        "colab": {
          "base_uri": "https://localhost:8080/"
        },
        "id": "OFn7BRU_vD51",
        "outputId": "4926209a-fc75-44a0-8f63-3d6689212efe"
      },
      "source": [
        "factorial(5)"
      ],
      "execution_count": 2,
      "outputs": [
        {
          "output_type": "execute_result",
          "data": {
            "text/plain": [
              "120"
            ]
          },
          "metadata": {
            "tags": []
          },
          "execution_count": 2
        }
      ]
    },
    {
      "cell_type": "markdown",
      "metadata": {
        "id": "7y7BYLf1wohT"
      },
      "source": [
        "## fibonacci 수열\n",
        "- f(n) = f(n-1) + f(n-2), n>=3일때\n",
        "- f(1) = 1, f(2) = 1"
      ]
    },
    {
      "cell_type": "code",
      "metadata": {
        "id": "q6OabVmLvLdZ"
      },
      "source": [
        "def fibo(n):\n",
        "    if n == 1 or n == 2 :\n",
        "        return 1\n",
        "    return fibo(n-1)+fibo(n-2)"
      ],
      "execution_count": 11,
      "outputs": []
    },
    {
      "cell_type": "code",
      "metadata": {
        "colab": {
          "base_uri": "https://localhost:8080/"
        },
        "id": "uG6zz6x7wZa8",
        "outputId": "c996d721-6bae-415c-883c-0dbf6773774d"
      },
      "source": [
        "[fibo(i) for i in range(1,11)]"
      ],
      "execution_count": 12,
      "outputs": [
        {
          "output_type": "execute_result",
          "data": {
            "text/plain": [
              "[1, 1, 2, 3, 5, 8, 13, 21, 34, 55]"
            ]
          },
          "metadata": {
            "tags": []
          },
          "execution_count": 12
        }
      ]
    }
  ]
}