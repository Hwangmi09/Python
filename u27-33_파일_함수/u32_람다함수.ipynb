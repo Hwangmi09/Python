{
  "nbformat": 4,
  "nbformat_minor": 0,
  "metadata": {
    "colab": {
      "name": "u32_람다함수.ipynb",
      "provenance": [],
      "collapsed_sections": []
    },
    "kernelspec": {
      "name": "python3",
      "display_name": "Python 3"
    },
    "language_info": {
      "name": "python"
    }
  },
  "cells": [
    {
      "cell_type": "markdown",
      "metadata": {
        "id": "kxvGvZXhg9QX"
      },
      "source": [
        "# Unit 32. 람다 함수 - 익명(Anonymous) 함수"
      ]
    },
    {
      "cell_type": "code",
      "metadata": {
        "id": "K1YgAcmxg5pO"
      },
      "source": [
        "def plus_ten(x):\n",
        "    return x+10"
      ],
      "execution_count": 1,
      "outputs": []
    },
    {
      "cell_type": "code",
      "metadata": {
        "colab": {
          "base_uri": "https://localhost:8080/"
        },
        "id": "C_IXg8nLhiwa",
        "outputId": "1b85d16b-de0b-4720-e68e-52d153666004"
      },
      "source": [
        "plus_ten(5)"
      ],
      "execution_count": 2,
      "outputs": [
        {
          "output_type": "execute_result",
          "data": {
            "text/plain": [
              "15"
            ]
          },
          "metadata": {
            "tags": []
          },
          "execution_count": 2
        }
      ]
    },
    {
      "cell_type": "code",
      "metadata": {
        "colab": {
          "base_uri": "https://localhost:8080/"
        },
        "id": "ZDUaom0LiCT8",
        "outputId": "6e1e97fb-4fd0-4365-80ef-32d7b3505483"
      },
      "source": [
        "plus_ten2 = lambda x : x+10\n",
        "plus_ten2(5)"
      ],
      "execution_count": 3,
      "outputs": [
        {
          "output_type": "execute_result",
          "data": {
            "text/plain": [
              "15"
            ]
          },
          "metadata": {
            "tags": []
          },
          "execution_count": 3
        }
      ]
    },
    {
      "cell_type": "code",
      "metadata": {
        "colab": {
          "base_uri": "https://localhost:8080/"
        },
        "id": "80DYwmQpiKmM",
        "outputId": "d894aafb-6e05-4a24-c697-f8333088ece7"
      },
      "source": [
        "(lambda x : x+10)(5)        # lambda함수에 변수명을 지정하지 않아도 사용 가능"
      ],
      "execution_count": 4,
      "outputs": [
        {
          "output_type": "execute_result",
          "data": {
            "text/plain": [
              "15"
            ]
          },
          "metadata": {
            "tags": []
          },
          "execution_count": 4
        }
      ]
    },
    {
      "cell_type": "code",
      "metadata": {
        "colab": {
          "base_uri": "https://localhost:8080/"
        },
        "id": "D4sW2hY1ih7m",
        "outputId": "d064a2ee-9fba-4f1d-9541-35ce97492d9e"
      },
      "source": [
        "list(map(lambda x : int(x)+10,input().split()))     # 자주 사용하지 않는 연산이나 함수명을 지정하지 않아도 될 때 lambda함수 사용"
      ],
      "execution_count": 7,
      "outputs": [
        {
          "output_type": "stream",
          "text": [
            "2 5 10\n"
          ],
          "name": "stdout"
        },
        {
          "output_type": "execute_result",
          "data": {
            "text/plain": [
              "[12, 15, 20]"
            ]
          },
          "metadata": {
            "tags": []
          },
          "execution_count": 7
        }
      ]
    },
    {
      "cell_type": "code",
      "metadata": {
        "colab": {
          "base_uri": "https://localhost:8080/"
        },
        "id": "TGTNhiWji3S0",
        "outputId": "fb81bcc0-bf4d-4734-db0a-96d2bf76c2c6"
      },
      "source": [
        "def plus_ten(x):\n",
        "    return int(x)+10\n",
        "list(map(plus_ten,input().split()))"
      ],
      "execution_count": 9,
      "outputs": [
        {
          "output_type": "stream",
          "text": [
            "2 5 10\n"
          ],
          "name": "stdout"
        },
        {
          "output_type": "execute_result",
          "data": {
            "text/plain": [
              "[12, 15, 20]"
            ]
          },
          "metadata": {
            "tags": []
          },
          "execution_count": 9
        }
      ]
    },
    {
      "cell_type": "markdown",
      "metadata": {
        "id": "jOAGibblkEH9"
      },
      "source": [
        "### 제약 사항"
      ]
    },
    {
      "cell_type": "code",
      "metadata": {
        "colab": {
          "base_uri": "https://localhost:8080/",
          "height": 139
        },
        "id": "a2YXvOuajSZr",
        "outputId": "fc6158ee-33c1-4ffb-889e-37bfd1fc9504"
      },
      "source": [
        "# 람다함수에서 변수를 만들 수 없음\n",
        "(lambda x: y=10 ; x+y)(3)"
      ],
      "execution_count": 10,
      "outputs": [
        {
          "output_type": "error",
          "ename": "SyntaxError",
          "evalue": "ignored",
          "traceback": [
            "\u001b[0;36m  File \u001b[0;32m\"<ipython-input-10-f3e6a47a8b0a>\"\u001b[0;36m, line \u001b[0;32m2\u001b[0m\n\u001b[0;31m    (lambda x: y=10 ; x+y)(3)\u001b[0m\n\u001b[0m                ^\u001b[0m\n\u001b[0;31mSyntaxError\u001b[0m\u001b[0;31m:\u001b[0m invalid syntax\n"
          ]
        }
      ]
    },
    {
      "cell_type": "code",
      "metadata": {
        "colab": {
          "base_uri": "https://localhost:8080/"
        },
        "id": "X3Tgy-AgkM3q",
        "outputId": "88382c06-739d-4370-efea-2d0a6d01a689"
      },
      "source": [
        "y=10\n",
        "(lambda x: x+y)(3)      # 함수 밖에서 변수 정의는 가능"
      ],
      "execution_count": 11,
      "outputs": [
        {
          "output_type": "execute_result",
          "data": {
            "text/plain": [
              "13"
            ]
          },
          "metadata": {
            "tags": []
          },
          "execution_count": 11
        }
      ]
    },
    {
      "cell_type": "code",
      "metadata": {
        "colab": {
          "base_uri": "https://localhost:8080/"
        },
        "id": "a3ltgEeUkQOl",
        "outputId": "7715f111-36db-49c6-97ac-fe58052aebfc"
      },
      "source": [
        "(lambda x,y:x+y)(1,4)"
      ],
      "execution_count": 12,
      "outputs": [
        {
          "output_type": "execute_result",
          "data": {
            "text/plain": [
              "5"
            ]
          },
          "metadata": {
            "tags": []
          },
          "execution_count": 12
        }
      ]
    },
    {
      "cell_type": "markdown",
      "metadata": {
        "id": "TVa_kO23kzFL"
      },
      "source": [
        "### 조건부 함수"
      ]
    },
    {
      "cell_type": "code",
      "metadata": {
        "colab": {
          "base_uri": "https://localhost:8080/"
        },
        "id": "iHPKOKawkcuq",
        "outputId": "1bc14795-8932-4bd6-f3f7-5dd804603a0f"
      },
      "source": [
        "# 리스트 a에서 3의 배수를 문자열로 변환\n",
        "a = list(range(1,11))\n",
        "list(map(lambda x:str(x) if x%3==0 else x,a))       # 삼항 연산자 이용"
      ],
      "execution_count": 14,
      "outputs": [
        {
          "output_type": "execute_result",
          "data": {
            "text/plain": [
              "[1, 2, '3', 4, 5, '6', 7, 8, '9', 10]"
            ]
          },
          "metadata": {
            "tags": []
          },
          "execution_count": 14
        }
      ]
    },
    {
      "cell_type": "code",
      "metadata": {
        "colab": {
          "base_uri": "https://localhost:8080/"
        },
        "id": "-jonjXd9lTVu",
        "outputId": "6e52370e-276a-4d38-8fa4-15d014278d87"
      },
      "source": [
        "# 리스트 a에서 3의 배수는 문자열로, 5의 배수는 실수로 변환\n",
        "list(map(lambda x : str(x) if x%3 == 0 else float(x) if x%5 == 0 else x, a))\n",
        "# 람다 표현식에서 if를 사용했다면 반드시 else를 사용해야 한다\n",
        "# 람다 표현식 안에서는 elif를 사용할 수 없다"
      ],
      "execution_count": 15,
      "outputs": [
        {
          "output_type": "execute_result",
          "data": {
            "text/plain": [
              "[1, 2, '3', 4, 5.0, '6', 7, 8, '9', 10.0]"
            ]
          },
          "metadata": {
            "tags": []
          },
          "execution_count": 15
        }
      ]
    },
    {
      "cell_type": "markdown",
      "metadata": {
        "id": "EmHL7RB_np6h"
      },
      "source": [
        "### map에 여러개의 객체 넣기"
      ]
    },
    {
      "cell_type": "code",
      "metadata": {
        "colab": {
          "base_uri": "https://localhost:8080/"
        },
        "id": "Sgsy--5qmR1J",
        "outputId": "8997e465-c062-455b-a86f-4626f2dcae53"
      },
      "source": [
        "a = [1,2,3,4,5]\n",
        "b = [6,7,8,9,10]\n",
        "list(map(lambda x, y : x*y,a,b)) "
      ],
      "execution_count": 17,
      "outputs": [
        {
          "output_type": "execute_result",
          "data": {
            "text/plain": [
              "[6, 14, 24, 36, 50]"
            ]
          },
          "metadata": {
            "tags": []
          },
          "execution_count": 17
        }
      ]
    },
    {
      "cell_type": "markdown",
      "metadata": {
        "id": "HJsVi8P9oMsM"
      },
      "source": [
        "### filter"
      ]
    },
    {
      "cell_type": "code",
      "metadata": {
        "colab": {
          "base_uri": "https://localhost:8080/"
        },
        "id": "0w2ip2kAn7sQ",
        "outputId": "850fb865-8736-420a-a262-d8434487f723"
      },
      "source": [
        "# lambda에서는 filter는 잘 사용하지 않음\n",
        "# dateframe에서는 filter 사용 : 행 선택시\n",
        "a = list(range(1,11))\n",
        "list(filter(lambda x : 4 <= x < 8, a))"
      ],
      "execution_count": 19,
      "outputs": [
        {
          "output_type": "execute_result",
          "data": {
            "text/plain": [
              "[4, 5, 6, 7]"
            ]
          },
          "metadata": {
            "tags": []
          },
          "execution_count": 19
        }
      ]
    },
    {
      "cell_type": "code",
      "metadata": {
        "id": "ayuI2dyhop0U"
      },
      "source": [
        "# reduce 생략"
      ],
      "execution_count": null,
      "outputs": []
    }
  ]
}