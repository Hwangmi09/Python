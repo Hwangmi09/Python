{
  "nbformat": 4,
  "nbformat_minor": 0,
  "metadata": {
    "colab": {
      "name": "u34_클래스.ipynb",
      "provenance": [],
      "collapsed_sections": []
    },
    "kernelspec": {
      "name": "python3",
      "display_name": "Python 3"
    },
    "language_info": {
      "name": "python"
    }
  },
  "cells": [
    {
      "cell_type": "markdown",
      "metadata": {
        "id": "7uDvN5KS62dE"
      },
      "source": [
        "# Unit 34. 클래스(Class)"
      ]
    },
    {
      "cell_type": "markdown",
      "metadata": {
        "id": "CeJ1L-Ko7aO4"
      },
      "source": [
        "## 34.1 클래스와 메서드 만들기"
      ]
    },
    {
      "cell_type": "code",
      "metadata": {
        "id": "ZX_6xN-j6wCn"
      },
      "source": [
        "class Person:           # 클래스 이름은 대문자로 시작\n",
        "    def greeting(self): # 클래스의 메서드의 첫 번째 매개변수는 반드시 self이어야 함\n",
        "        print('Hello')"
      ],
      "execution_count": null,
      "outputs": []
    },
    {
      "cell_type": "code",
      "metadata": {
        "id": "1EGm3TqQ75H8"
      },
      "source": [
        "# 인스턴스를 만들어야 클래스를 사용할 수 있다\n",
        "james = Person()\n",
        "maria = Person()"
      ],
      "execution_count": null,
      "outputs": []
    },
    {
      "cell_type": "code",
      "metadata": {
        "colab": {
          "base_uri": "https://localhost:8080/"
        },
        "id": "8IvZcLbu8FRc",
        "outputId": "e61040fc-c8e1-4dc8-bad5-642412a47949"
      },
      "source": [
        "james.greeting()"
      ],
      "execution_count": null,
      "outputs": [
        {
          "output_type": "stream",
          "text": [
            "Hello\n"
          ],
          "name": "stdout"
        }
      ]
    },
    {
      "cell_type": "code",
      "metadata": {
        "colab": {
          "base_uri": "https://localhost:8080/"
        },
        "id": "eHOacjk08GR6",
        "outputId": "0cf25737-3fc8-479e-d923-55c2ec817899"
      },
      "source": [
        "maria.greeting()"
      ],
      "execution_count": null,
      "outputs": [
        {
          "output_type": "stream",
          "text": [
            "Hello\n"
          ],
          "name": "stdout"
        }
      ]
    },
    {
      "cell_type": "code",
      "metadata": {
        "colab": {
          "base_uri": "https://localhost:8080/"
        },
        "id": "mfliRnd08dcb",
        "outputId": "97e63016-3be5-42b4-8389-3dabf376d882"
      },
      "source": [
        "Person().greeting()     # 인스턴스는 변수명을 정하지않고 사용할 수 있음"
      ],
      "execution_count": null,
      "outputs": [
        {
          "output_type": "stream",
          "text": [
            "Hello\n"
          ],
          "name": "stdout"
        }
      ]
    },
    {
      "cell_type": "code",
      "metadata": {
        "id": "0uR8sHRg8gEm"
      },
      "source": [
        "# 클래스 내에서 메서드 호출하기 : self.메서드명()\n",
        "class Person:\n",
        "    def greeting(self):\n",
        "        print('Hello')\n",
        "\n",
        "    def hello(self):\n",
        "        self.greeting()    "
      ],
      "execution_count": null,
      "outputs": []
    },
    {
      "cell_type": "code",
      "metadata": {
        "colab": {
          "base_uri": "https://localhost:8080/"
        },
        "id": "xF146gzg-Y_9",
        "outputId": "e8f05cd4-b65f-44c7-e007-de7fb3835c21"
      },
      "source": [
        "james = Person()\n",
        "james.hello()"
      ],
      "execution_count": null,
      "outputs": [
        {
          "output_type": "stream",
          "text": [
            "Hello\n"
          ],
          "name": "stdout"
        }
      ]
    },
    {
      "cell_type": "code",
      "metadata": {
        "colab": {
          "base_uri": "https://localhost:8080/"
        },
        "id": "12FllnJW-cdx",
        "outputId": "7992df5d-6d0e-40ec-9203-356f30adbffd"
      },
      "source": [
        "isinstance(james, Person)"
      ],
      "execution_count": null,
      "outputs": [
        {
          "output_type": "execute_result",
          "data": {
            "text/plain": [
              "True"
            ]
          },
          "metadata": {
            "tags": []
          },
          "execution_count": 11
        }
      ]
    },
    {
      "cell_type": "code",
      "metadata": {
        "id": "2OgDTpj8-r8k"
      },
      "source": [
        "def factorial(n):\n",
        "    if not isinstance(n,int) or n < 0:\n",
        "        return None\n",
        "    if n == 0:\n",
        "        return 1\n",
        "    return n*factorial(n-1)"
      ],
      "execution_count": null,
      "outputs": []
    },
    {
      "cell_type": "code",
      "metadata": {
        "id": "4gEFzcK5_F3R"
      },
      "source": [
        "factorial(3.14)"
      ],
      "execution_count": null,
      "outputs": []
    },
    {
      "cell_type": "code",
      "metadata": {
        "colab": {
          "base_uri": "https://localhost:8080/"
        },
        "id": "VqtMzKTg_bpb",
        "outputId": "fc841b74-6b9b-4d68-a988-20ac4ae2cfee"
      },
      "source": [
        "factorial(6)"
      ],
      "execution_count": null,
      "outputs": [
        {
          "output_type": "execute_result",
          "data": {
            "text/plain": [
              "720"
            ]
          },
          "metadata": {
            "tags": []
          },
          "execution_count": 14
        }
      ]
    },
    {
      "cell_type": "markdown",
      "metadata": {
        "id": "wq-SACEu_fAI"
      },
      "source": [
        "## 34.2 속성(Attribute)"
      ]
    },
    {
      "cell_type": "code",
      "metadata": {
        "id": "Dj3XOKgKzo09"
      },
      "source": [
        "# 클래스 속성: 모든 인스턴스가 공유. 인스턴스 전체가 사용해야 하는 값을 저장할 때 사용\n",
        "# 인스턴스 속성: 인스턴스별로 독립되어 있음. 각 인스턴스가 값을 따로 저장해야 할 때 사용\n",
        "\n",
        "class Person:\n",
        "    bag = ['수학','과학']                   # 클래스 속성, 인스턴스없이 접근 가능\n",
        "    def __init__(self):                     # 인스턴스 속성, 속성을 정의할 때는 __init__(self)함수에 해야한다.\n",
        "        self.hello = '안녕하세요'           # hello 속성을 갖게 됨\n",
        "\n",
        "    def greeting(self):\n",
        "        print(self.hello)"
      ],
      "execution_count": 2,
      "outputs": []
    },
    {
      "cell_type": "code",
      "metadata": {
        "id": "S1IhsbVj_dsy"
      },
      "source": [
        "class Person:\n",
        "    def __init__(self):                     # 속성을 정의할 때는 __init__(self)함수에 해야한다.\n",
        "        self.hello = '안녕하세요'           # hello 속성을 갖게 됨\n",
        "\n",
        "    def greeting(self):\n",
        "        print(self.hello)"
      ],
      "execution_count": null,
      "outputs": []
    },
    {
      "cell_type": "code",
      "metadata": {
        "colab": {
          "base_uri": "https://localhost:8080/"
        },
        "id": "QneE8wqjABGi",
        "outputId": "9dac7196-432a-44df-bbe2-6fcd2f1657af"
      },
      "source": [
        "maria = Person()\n",
        "maria.greeting()"
      ],
      "execution_count": null,
      "outputs": [
        {
          "output_type": "stream",
          "text": [
            "안녕하세요\n"
          ],
          "name": "stdout"
        }
      ]
    },
    {
      "cell_type": "code",
      "metadata": {
        "colab": {
          "base_uri": "https://localhost:8080/"
        },
        "id": "FB_LHhc8AE4i",
        "outputId": "b31f970d-786c-4899-ba53-2f199f6d604f"
      },
      "source": [
        "maria.hello = 'How are you?'        # 인스턴스에서 속성값을 변경할 수 있음\n",
        "maria.greeting()"
      ],
      "execution_count": null,
      "outputs": [
        {
          "output_type": "stream",
          "text": [
            "How are you?\n"
          ],
          "name": "stdout"
        }
      ]
    },
    {
      "cell_type": "code",
      "metadata": {
        "id": "5lUcm9iSAwK0"
      },
      "source": [
        "# 인스턴스를 만들 때 값 받기\n",
        "class Person:\n",
        "    def __init__(self, hello):      # __init__ : Constructor\n",
        "        self.hello = hello\n",
        "\n",
        "    def greeting(self):\n",
        "        print(self.hello)"
      ],
      "execution_count": null,
      "outputs": []
    },
    {
      "cell_type": "code",
      "metadata": {
        "id": "ckwjPiQyBpCA"
      },
      "source": [
        "james = Person('안녕하세요')\n",
        "maria = Person('How are you?')"
      ],
      "execution_count": null,
      "outputs": []
    },
    {
      "cell_type": "code",
      "metadata": {
        "colab": {
          "base_uri": "https://localhost:8080/"
        },
        "id": "AyqMmF3-B3qf",
        "outputId": "ad45d90d-b096-4424-d864-5c506f8e30d2"
      },
      "source": [
        "james.greeting()\n",
        "maria.greeting()"
      ],
      "execution_count": null,
      "outputs": [
        {
          "output_type": "stream",
          "text": [
            "안녕하세요\n",
            "How are you?\n"
          ],
          "name": "stdout"
        }
      ]
    },
    {
      "cell_type": "code",
      "metadata": {
        "id": "rP9C8GrIB8Id"
      },
      "source": [
        "class Person:\n",
        "    def __init__(self, name, age, addr):    # *args, **kwargs도 가능\n",
        "        self.hello = '안녕하세요?'\n",
        "        self.name = name        \n",
        "        self.age = age\n",
        "        self.addr = addr\n",
        "\n",
        "    def greeting(self):\n",
        "        print(f'{self.hello} 저는 {self.name}입니다.')\n",
        "\n",
        "    # JAVA의 toString() method : 객체가 가지고 있는 정보나 값들을 문자열로 만들어 리턴하는 메소드\n",
        "    def __str__(self):\n",
        "        return f'hello: {self.hello}, name: {self.name}, age: {self.age}, addr: {self.addr}'"
      ],
      "execution_count": null,
      "outputs": []
    },
    {
      "cell_type": "code",
      "metadata": {
        "colab": {
          "base_uri": "https://localhost:8080/"
        },
        "id": "bQf6komOC_Tp",
        "outputId": "61f5a61c-da7c-403b-9f5e-862c300c3231"
      },
      "source": [
        "maria = Person('마리아',23,'서울시 강남구 도곡동')\n",
        "maria.greeting()"
      ],
      "execution_count": null,
      "outputs": [
        {
          "output_type": "stream",
          "text": [
            "안녕하세요? 저는 마리아입니다.\n"
          ],
          "name": "stdout"
        }
      ]
    },
    {
      "cell_type": "code",
      "metadata": {
        "colab": {
          "base_uri": "https://localhost:8080/"
        },
        "id": "KoHh1yZ0DIAu",
        "outputId": "b07280a2-080d-4011-b712-8c27605fd8fa"
      },
      "source": [
        "print(maria)            # def __str__(self)를 정의하기 전"
      ],
      "execution_count": null,
      "outputs": [
        {
          "output_type": "stream",
          "text": [
            "<__main__.Person object at 0x7f6fa0e7cd90>\n"
          ],
          "name": "stdout"
        }
      ]
    },
    {
      "cell_type": "code",
      "metadata": {
        "colab": {
          "base_uri": "https://localhost:8080/"
        },
        "id": "ozrnWTVEUqBv",
        "outputId": "b12cc80c-3f52-4494-aa57-270527c914a0"
      },
      "source": [
        "print(maria)            # def __str__(self)를 정의한 후"
      ],
      "execution_count": null,
      "outputs": [
        {
          "output_type": "stream",
          "text": [
            "hello: 안녕하세요?, name: 마리아, age: 23, addr: 서울시 강남구 도곡동\n"
          ],
          "name": "stdout"
        }
      ]
    },
    {
      "cell_type": "markdown",
      "metadata": {
        "id": "yVZ5nAOdV1c8"
      },
      "source": [
        "## 34.3 비공개 속성"
      ]
    },
    {
      "cell_type": "code",
      "metadata": {
        "colab": {
          "base_uri": "https://localhost:8080/"
        },
        "id": "6_5SvEPgVJNm",
        "outputId": "ae6908ed-17d5-4920-f8f3-92f46e264347"
      },
      "source": [
        "maria.age = 30\n",
        "print(maria)"
      ],
      "execution_count": null,
      "outputs": [
        {
          "output_type": "stream",
          "text": [
            "hello: 안녕하세요?, name: 마리아, age: 30, addr: 서울시 강남구 도곡동\n"
          ],
          "name": "stdout"
        }
      ]
    },
    {
      "cell_type": "code",
      "metadata": {
        "id": "TRolZq5kWA8H"
      },
      "source": [
        "class Person:\n",
        "    def __init__(self, name, age, addr, wallet):\n",
        "        self.name = name        \n",
        "        self.age = age\n",
        "        self.addr = addr\n",
        "        self.__wallet = wallet      # 비공개 속성 :  self.__속성명\n",
        "\n",
        "    def greeting(self):\n",
        "        print(f'안녕하세요? 저는 {self.name}입니다.')\n",
        "\n",
        "    def pay(self, amount):          # 비공개 속성은 method를 통해서만 값을 바꿀 수 있다.\n",
        "        if self.__wallet - amount < 0:\n",
        "            print('지갑에 돈이 부족합니다.')\n",
        "            return\n",
        "        self.__wallet -= amount\n",
        "        print(f'지갑에 남은 돈은 {self.__wallet}입니다.')\n",
        "\n",
        "    # JAVA의 toString() method : 객체가 가지고 있는 정보나 값들을 문자열로 만들어 리턴하는 메소드\n",
        "    def __str__(self):\n",
        "        return f'name: {self.name}, age: {self.age}, addr: {self.addr}, wallet: {self.__wallet}'"
      ],
      "execution_count": null,
      "outputs": []
    },
    {
      "cell_type": "code",
      "metadata": {
        "colab": {
          "base_uri": "https://localhost:8080/"
        },
        "id": "k3cXM_oUWrld",
        "outputId": "25d87b92-521c-4c49-f7ee-2e20a398ed06"
      },
      "source": [
        "james = Person('제임스',27,'서울 강남구 역삼동',10000)\n",
        "james.greeting()"
      ],
      "execution_count": null,
      "outputs": [
        {
          "output_type": "stream",
          "text": [
            "안녕하세요? 저는 제임스입니다.\n"
          ],
          "name": "stdout"
        }
      ]
    },
    {
      "cell_type": "code",
      "metadata": {
        "colab": {
          "base_uri": "https://localhost:8080/"
        },
        "id": "wtgrKW5ZW-HT",
        "outputId": "bff8d6a8-a190-4339-9281-600944a029d8"
      },
      "source": [
        "print(james)"
      ],
      "execution_count": null,
      "outputs": [
        {
          "output_type": "stream",
          "text": [
            "name: 제임스, age: 27, addr: 서울 강남구 역삼동, wallet: 10000\n"
          ],
          "name": "stdout"
        }
      ]
    },
    {
      "cell_type": "code",
      "metadata": {
        "colab": {
          "base_uri": "https://localhost:8080/"
        },
        "id": "JAQ46lRoXBxr",
        "outputId": "47e4e70f-6796-4a01-e454-d82f4fe9fd3b"
      },
      "source": [
        "# __wallet은 비공개 속성이므로 클래스 바깥에서는 변경할 수 없음\n",
        "james.__wallet = 1000000\n",
        "print(james)"
      ],
      "execution_count": null,
      "outputs": [
        {
          "output_type": "stream",
          "text": [
            "name: 제임스, age: 27, addr: 서울 강남구 역삼동, wallet: 10000\n"
          ],
          "name": "stdout"
        }
      ]
    },
    {
      "cell_type": "code",
      "metadata": {
        "id": "tiMXp1vgXJMr"
      },
      "source": [
        "james.face = 'red'      # Person 클래스의 인스턴스 james에 face 속성을 만듦"
      ],
      "execution_count": null,
      "outputs": []
    },
    {
      "cell_type": "code",
      "metadata": {
        "colab": {
          "base_uri": "https://localhost:8080/",
          "height": 36
        },
        "id": "7WpgrGZqXUnw",
        "outputId": "31c194f6-89fc-438a-fef9-299a148d7ad8"
      },
      "source": [
        "james.face"
      ],
      "execution_count": null,
      "outputs": [
        {
          "output_type": "execute_result",
          "data": {
            "application/vnd.google.colaboratory.intrinsic+json": {
              "type": "string"
            },
            "text/plain": [
              "'red'"
            ]
          },
          "metadata": {
            "tags": []
          },
          "execution_count": 17
        }
      ]
    },
    {
      "cell_type": "code",
      "metadata": {
        "colab": {
          "base_uri": "https://localhost:8080/"
        },
        "id": "SrAHbTdbYViz",
        "outputId": "8fa4ca3c-023b-4e2f-b2d1-c47ad1164990"
      },
      "source": [
        "james.pay(5000)"
      ],
      "execution_count": null,
      "outputs": [
        {
          "output_type": "stream",
          "text": [
            "지갑에 남은 돈은 5000입니다.\n"
          ],
          "name": "stdout"
        }
      ]
    },
    {
      "cell_type": "code",
      "metadata": {
        "colab": {
          "base_uri": "https://localhost:8080/"
        },
        "id": "trLrZVc9YZ7W",
        "outputId": "28400e99-df6e-4865-964c-51c40cd0ab81"
      },
      "source": [
        "print(james)"
      ],
      "execution_count": null,
      "outputs": [
        {
          "output_type": "stream",
          "text": [
            "name: 제임스, age: 27, addr: 서울 강남구 역삼동, wallet: 5000\n"
          ],
          "name": "stdout"
        }
      ]
    },
    {
      "cell_type": "code",
      "metadata": {
        "colab": {
          "base_uri": "https://localhost:8080/"
        },
        "id": "h20bYtmwakNR",
        "outputId": "b33c4af9-e8a7-4889-e1e5-0f462a449709"
      },
      "source": [
        "james.pay(10000)\n",
        "print(james)"
      ],
      "execution_count": null,
      "outputs": [
        {
          "output_type": "stream",
          "text": [
            "지갑에 돈이 부족합니다.\n",
            "name: 제임스, age: 27, addr: 서울 강남구 역삼동, wallet: 5000\n"
          ],
          "name": "stdout"
        }
      ]
    },
    {
      "cell_type": "markdown",
      "metadata": {
        "id": "NrzjfoCWZVcu"
      },
      "source": [
        "## 연습문제1 - Account 클래스 만들기\n",
        "- class : Account\n",
        "- 속성\n",
        "    - ano:문자열 6글자, '123456'\n",
        "    - owner: 문자열\n",
        "    - balance : 잔액, 비공개 속성\n",
        "- method\n",
        "    - 생성자\n",
        "    - deposit(amount) : 잔액이 1000만원 이상이면 입금할 수 없음\n",
        "    - withdraw(amount) : 잔액이 0원 미만이면 출금할 수 없음\n",
        "    - 출력 가능하게"
      ]
    },
    {
      "cell_type": "code",
      "metadata": {
        "id": "h9P7Dfc-Yin5"
      },
      "source": [
        "class Account:\n",
        "    def __init__(self,ano,owner,balance):\n",
        "        self.ano = ano\n",
        "        self.owner = owner\n",
        "        self.__balance = balance\n",
        "\n",
        "    def deposit(self,amount):\n",
        "        if amount + self.__balance >= 10000000:\n",
        "            print('1000만원 이상은 잔액으로 가져갈 수 없습니다.')\n",
        "            return\n",
        "        self.__balance +=amount\n",
        "        print(f'지갑에 남은 돈은 {self.__balance:9,d}입니다.')\n",
        "\n",
        "    def withdraw(self,amount):\n",
        "        if self.__balance - amount < 0:\n",
        "            print('잔액이 부족합니다.')\n",
        "            return\n",
        "        self.__balance -= amount\n",
        "        print(f'지갑에 남은 돈은 {self.__balance:9,d}입니다.')\n",
        "\n",
        "    def __str__(self):\n",
        "        return f'계좌번호: {self.ano}, 소유주: {self.owner}, 잔액: {self.__balance:9,d}'"
      ],
      "execution_count": null,
      "outputs": []
    },
    {
      "cell_type": "code",
      "metadata": {
        "colab": {
          "base_uri": "https://localhost:8080/"
        },
        "id": "rXrPwl-1bxVX",
        "outputId": "547e5ea5-981c-4316-8b52-b36093ff8a0d"
      },
      "source": [
        "acc = Account('123456','제임스',100000)\n",
        "print(acc)"
      ],
      "execution_count": null,
      "outputs": [
        {
          "output_type": "stream",
          "text": [
            "계좌번호: 123456, 소유주: 제임스, 잔액:   100,000\n"
          ],
          "name": "stdout"
        }
      ]
    },
    {
      "cell_type": "code",
      "metadata": {
        "colab": {
          "base_uri": "https://localhost:8080/"
        },
        "id": "5PpPcaO2cVBD",
        "outputId": "8f73eea6-66d5-42c2-9e7d-11863d25cd0b"
      },
      "source": [
        "acc.deposit(3000000)\n",
        "print(acc)"
      ],
      "execution_count": null,
      "outputs": [
        {
          "output_type": "stream",
          "text": [
            "지갑에 남은 돈은 3,100,000입니다.\n",
            "계좌번호: 123456, 소유주: 제임스, 잔액: 3,100,000\n"
          ],
          "name": "stdout"
        }
      ]
    },
    {
      "cell_type": "code",
      "metadata": {
        "colab": {
          "base_uri": "https://localhost:8080/"
        },
        "id": "dZT7jVgGeY9V",
        "outputId": "d100fae5-cf3f-45f8-9016-44a7d66e9327"
      },
      "source": [
        "acc.deposit(7000000)\n",
        "print(acc)"
      ],
      "execution_count": null,
      "outputs": [
        {
          "output_type": "stream",
          "text": [
            "1000만원 이상은 잔액으로 가져갈 수 없습니다.\n",
            "계좌번호: 123456, 소유주: 제임스, 잔액: 3,100,000\n"
          ],
          "name": "stdout"
        }
      ]
    },
    {
      "cell_type": "code",
      "metadata": {
        "colab": {
          "base_uri": "https://localhost:8080/"
        },
        "id": "MybAcIe4eiqY",
        "outputId": "3a8b0fc9-c81f-4db3-acc1-ea70a2209a1d"
      },
      "source": [
        "acc.withdraw(2000000)\n",
        "print(acc)"
      ],
      "execution_count": null,
      "outputs": [
        {
          "output_type": "stream",
          "text": [
            "지갑에 남은 돈은 1,100,000입니다.\n",
            "계좌번호: 123456, 소유주: 제임스, 잔액: 1,100,000\n"
          ],
          "name": "stdout"
        }
      ]
    },
    {
      "cell_type": "code",
      "metadata": {
        "colab": {
          "base_uri": "https://localhost:8080/"
        },
        "id": "iVSI-CNqenOb",
        "outputId": "82fabbbf-5173-48c9-f579-6a86b9319566"
      },
      "source": [
        "acc.withdraw(2000000)\n",
        "print(acc)"
      ],
      "execution_count": null,
      "outputs": [
        {
          "output_type": "stream",
          "text": [
            "잔액이 부족합니다.\n",
            "계좌번호: 123456, 소유주: 제임스, 잔액: 1,100,000\n"
          ],
          "name": "stdout"
        }
      ]
    },
    {
      "cell_type": "code",
      "metadata": {
        "colab": {
          "base_uri": "https://localhost:8080/"
        },
        "id": "MzRyR9JreqeS",
        "outputId": "e24da3bf-3ea7-4e6c-ba07-57b760b1ac2e"
      },
      "source": [
        "acc2 = Account('987432','마리아',3000000)\n",
        "print(acc2)"
      ],
      "execution_count": null,
      "outputs": [
        {
          "output_type": "stream",
          "text": [
            "계좌번호: 987432, 소유주: 마리아, 잔액: 3,000,000\n"
          ],
          "name": "stdout"
        }
      ]
    },
    {
      "cell_type": "code",
      "metadata": {
        "id": "ijTNsD4HfCIH"
      },
      "source": [
        "acc_list = [acc,acc2]"
      ],
      "execution_count": null,
      "outputs": []
    },
    {
      "cell_type": "code",
      "metadata": {
        "colab": {
          "base_uri": "https://localhost:8080/"
        },
        "id": "4CCV2c5PfP75",
        "outputId": "f0fc69cf-8b5b-480b-ccf1-d8f99d93e5aa"
      },
      "source": [
        "for account in acc_list:\n",
        "    print(account)"
      ],
      "execution_count": null,
      "outputs": [
        {
          "output_type": "stream",
          "text": [
            "계좌번호: 123456, 소유주: 제임스, 잔액: 1,100,000\n",
            "계좌번호: 987432, 소유주: 마리아, 잔액: 3,000,000\n"
          ],
          "name": "stdout"
        }
      ]
    },
    {
      "cell_type": "markdown",
      "metadata": {
        "id": "2sBNdZcsfrBt"
      },
      "source": [
        "## 연습문제2\n",
        "1. 계좌생성  2. 계좌목록  3. 입금  4. 출금  5. 종료\n",
        "\n",
        "주의) 계좌번호 중복, 입/출금 금액이 음수인 경우, 해당하는 계좌가 없는 경우"
      ]
    },
    {
      "cell_type": "code",
      "metadata": {
        "id": "EiGnfq-Jsgy4"
      },
      "source": [
        "def check_duplicate(ano):\n",
        "    for acc in acc_list:\n",
        "        if ano == acc.ano:\n",
        "            return True\n",
        "    return False"
      ],
      "execution_count": null,
      "outputs": []
    },
    {
      "cell_type": "code",
      "metadata": {
        "id": "emFnhvdJn8aP"
      },
      "source": [
        "# 사용자로부터 필요한 정보를 입력 받아서 계좌를 생성함\n",
        "def creat_account():\n",
        "    while True:\n",
        "        s = input('계좌번호, 성명, 금액을 입력하세요> ').split()\n",
        "        ano, owner, balance = s[0], s[1], int(s[2])\n",
        "        if not check_duplicate(ano):        # 계좌번호가 중복이 아니면 while문을 빠져나가고 계좌 생성\n",
        "            break\n",
        "    acc = Account(ano,owner,balance)\n",
        "    acc_list.append(acc)"
      ],
      "execution_count": null,
      "outputs": []
    },
    {
      "cell_type": "code",
      "metadata": {
        "id": "QX0KFdfOuX4I"
      },
      "source": [
        "# 계좌의 유무를 확인하는 함수\n",
        "def is_ano(ano):\n",
        "    for acc in acc_list:\n",
        "        if ano == acc.ano:\n",
        "            return True\n",
        "    return False"
      ],
      "execution_count": null,
      "outputs": []
    },
    {
      "cell_type": "code",
      "metadata": {
        "id": "yXwtzaJ1poOH"
      },
      "source": [
        "# 사용자로부터 필요한 정보를 입력 받아서 계좌에 돈을 입금함\n",
        "def deposit_account():\n",
        "    s = input('계좌번호 금액> ').split()\n",
        "    ano, amount = s[0], int(s[1])\n",
        "    for acc in acc_list:\n",
        "        if acc.ano == ano:\n",
        "            acc.deposit(amount)\n",
        "            return"
      ],
      "execution_count": null,
      "outputs": []
    },
    {
      "cell_type": "code",
      "metadata": {
        "id": "62qxOGxoqiyW"
      },
      "source": [
        "# 사용자로부터 필요한 정보를 입력 받아서 계좌에서 돈을 출금함\n",
        "def withdraw_account():\n",
        "    s = input('계좌번호 금액> ').split()\n",
        "    ano, amount = s[0], int(s[1])\n",
        "    for acc in acc_list:\n",
        "        if acc.ano == ano:\n",
        "            acc.withdraw(amount)\n",
        "            return"
      ],
      "execution_count": null,
      "outputs": []
    },
    {
      "cell_type": "code",
      "metadata": {
        "colab": {
          "base_uri": "https://localhost:8080/"
        },
        "id": "FYVcDnjLfXF5",
        "outputId": "43db38a4-5d19-4e73-9984-32237f5f7e96"
      },
      "source": [
        "while True:\n",
        "    menu = int(input('1. 계좌생성  2. 계좌목록  3. 입금  4. 출금  5. 종료> '))\n",
        "    if menu == 5:\n",
        "        break\n",
        "    if menu == 1:\n",
        "        creat_account()\n",
        "    elif menu == 2:\n",
        "        for account in acc_list:\n",
        "            print(account)\n",
        "    elif menu == 3:\n",
        "        deposit_account()\n",
        "    elif menu == 4:\n",
        "        withdraw_account()\n",
        "    else:\n",
        "        print('잘못된 명령어입니다.')\n",
        "    \n",
        "    print()"
      ],
      "execution_count": null,
      "outputs": [
        {
          "output_type": "stream",
          "text": [
            "1. 계좌생성  2. 계좌목록  3. 입금  4. 출금  5. 종료> 2\n",
            "계좌번호: 123456, 소유주: 제임스, 잔액: 1,100,000\n",
            "계좌번호: 987432, 소유주: 마리아, 잔액: 3,000,000\n",
            "계좌번호: 170110, 소유주: 박황미, 잔액:   100,000\n",
            "계좌번호: 555555, 소유주: 박황미, 잔액:   120,000\n",
            "계좌번호: 135790, 소유주: 홍길동, 잔액:   250,000\n",
            "\n",
            "1. 계좌생성  2. 계좌목록  3. 입금  4. 출금  5. 종료> 3\n",
            "계좌번호 금액> 111111 50000\n",
            "계좌번호 금액> 555555 50000\n",
            "지갑에 남은 돈은   170,000입니다.\n",
            "\n",
            "1. 계좌생성  2. 계좌목록  3. 입금  4. 출금  5. 종료> 5\n"
          ],
          "name": "stdout"
        }
      ]
    }
  ]
}