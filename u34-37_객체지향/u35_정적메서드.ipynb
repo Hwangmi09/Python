{
  "nbformat": 4,
  "nbformat_minor": 0,
  "metadata": {
    "colab": {
      "name": "u35_정적메서드.ipynb",
      "provenance": [],
      "collapsed_sections": []
    },
    "kernelspec": {
      "name": "python3",
      "display_name": "Python 3"
    },
    "language_info": {
      "name": "python"
    }
  },
  "cells": [
    {
      "cell_type": "markdown",
      "metadata": {
        "id": "dcn85LFyBA5P"
      },
      "source": [
        "# Unit 35. 정적 메서드"
      ]
    },
    {
      "cell_type": "code",
      "metadata": {
        "id": "84xS0NlNA_P2"
      },
      "source": [
        "class Calc:\n",
        "    @staticmethod\n",
        "    def add(a,b):       # self가 없음\n",
        "        print(a + b)"
      ],
      "execution_count": 1,
      "outputs": []
    },
    {
      "cell_type": "code",
      "metadata": {
        "colab": {
          "base_uri": "https://localhost:8080/"
        },
        "id": "OJKYe8K0BWTd",
        "outputId": "8332580d-d000-42a2-bd22-3a63aec369cf"
      },
      "source": [
        "Calc.add(10,20)     # 클래스를 인스턴스로 만들지 않고 사용할 수 있는 메서드 : 정적 메서드"
      ],
      "execution_count": 2,
      "outputs": [
        {
          "output_type": "stream",
          "text": [
            "30\n"
          ],
          "name": "stdout"
        }
      ]
    },
    {
      "cell_type": "code",
      "metadata": {
        "id": "0oGxoZnOBfvF"
      },
      "source": [
        "# Math.abs(), set.union()이 정적 메서드의 예"
      ],
      "execution_count": null,
      "outputs": []
    }
  ]
}