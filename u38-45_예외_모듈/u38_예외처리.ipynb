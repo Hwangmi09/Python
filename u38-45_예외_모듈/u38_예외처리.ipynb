{
  "nbformat": 4,
  "nbformat_minor": 0,
  "metadata": {
    "colab": {
      "name": "u38_예외처리.ipynb",
      "provenance": [],
      "collapsed_sections": []
    },
    "kernelspec": {
      "name": "python3",
      "display_name": "Python 3"
    },
    "language_info": {
      "name": "python"
    }
  },
  "cells": [
    {
      "cell_type": "markdown",
      "metadata": {
        "id": "wCVukEpKtFXN"
      },
      "source": [
        "# Unit 38. 예외 처리"
      ]
    },
    {
      "cell_type": "markdown",
      "metadata": {
        "id": "uD1LCeJBtKwY"
      },
      "source": [
        "## 38.1 try-except"
      ]
    },
    {
      "cell_type": "code",
      "metadata": {
        "colab": {
          "base_uri": "https://localhost:8080/"
        },
        "id": "VGLILlB8soqS",
        "outputId": "fecd739b-0dc2-452b-c5ac-d53b79f9e0ca"
      },
      "source": [
        "a = [1,2,3]\n",
        "try:\n",
        "    a[4]\n",
        "except:                 # 모든 Exception 포함\n",
        "    print('예외 발생')"
      ],
      "execution_count": 2,
      "outputs": [
        {
          "output_type": "stream",
          "text": [
            "예외 발생\n"
          ],
          "name": "stdout"
        }
      ]
    },
    {
      "cell_type": "markdown",
      "metadata": {
        "id": "MwpdRbQawpOf"
      },
      "source": [
        "### 특정 예외만 처리하기"
      ]
    },
    {
      "cell_type": "code",
      "metadata": {
        "colab": {
          "base_uri": "https://localhost:8080/",
          "height": 232
        },
        "id": "sQmYYgM2tjsK",
        "outputId": "cef29d5f-532d-46dc-fb8f-2b0ae13e57b5"
      },
      "source": [
        "try:\n",
        "    int('10d')          # ValueError\n",
        "except ZeroDivisionError:\n",
        "    print('0으로 나눌 수 없습니다.')\n",
        "except IndexError:\n",
        "    print('Index Error 발생')"
      ],
      "execution_count": 3,
      "outputs": [
        {
          "output_type": "error",
          "ename": "ValueError",
          "evalue": "ignored",
          "traceback": [
            "\u001b[0;31m---------------------------------------------------------------------------\u001b[0m",
            "\u001b[0;31mValueError\u001b[0m                                Traceback (most recent call last)",
            "\u001b[0;32m<ipython-input-3-e627128b3496>\u001b[0m in \u001b[0;36m<module>\u001b[0;34m()\u001b[0m\n\u001b[1;32m      1\u001b[0m \u001b[0;32mtry\u001b[0m\u001b[0;34m:\u001b[0m\u001b[0;34m\u001b[0m\u001b[0;34m\u001b[0m\u001b[0m\n\u001b[0;32m----> 2\u001b[0;31m     \u001b[0mint\u001b[0m\u001b[0;34m(\u001b[0m\u001b[0;34m'10d'\u001b[0m\u001b[0;34m)\u001b[0m\u001b[0;34m\u001b[0m\u001b[0;34m\u001b[0m\u001b[0m\n\u001b[0m\u001b[1;32m      3\u001b[0m \u001b[0;32mexcept\u001b[0m \u001b[0mZeroDivisionError\u001b[0m\u001b[0;34m:\u001b[0m\u001b[0;34m\u001b[0m\u001b[0;34m\u001b[0m\u001b[0m\n\u001b[1;32m      4\u001b[0m     \u001b[0mprint\u001b[0m\u001b[0;34m(\u001b[0m\u001b[0;34m'0으로 나눌 수 없습니다.'\u001b[0m\u001b[0;34m)\u001b[0m\u001b[0;34m\u001b[0m\u001b[0;34m\u001b[0m\u001b[0m\n",
            "\u001b[0;31mValueError\u001b[0m: invalid literal for int() with base 10: '10d'"
          ]
        }
      ]
    },
    {
      "cell_type": "code",
      "metadata": {
        "colab": {
          "base_uri": "https://localhost:8080/"
        },
        "id": "hPICpamlvx0A",
        "outputId": "cc317e27-caee-450c-e679-b06ae322f446"
      },
      "source": [
        "try:\n",
        "    int('10d')          # ValueError\n",
        "except ZeroDivisionError:\n",
        "    print('0으로 나눌 수 없습니다.')\n",
        "except IndexError:\n",
        "    print('Index Error 발생')\n",
        "except ValueError:\n",
        "    print('Value Error 발생')"
      ],
      "execution_count": 4,
      "outputs": [
        {
          "output_type": "stream",
          "text": [
            "Value Error 발생\n"
          ],
          "name": "stdout"
        }
      ]
    },
    {
      "cell_type": "markdown",
      "metadata": {
        "id": "odiiIjRBw6Wz"
      },
      "source": [
        "### 예외의 에러 메시지 받아오기"
      ]
    },
    {
      "cell_type": "code",
      "metadata": {
        "colab": {
          "base_uri": "https://localhost:8080/"
        },
        "id": "SiicfMCHwHDz",
        "outputId": "21740b2a-c6f2-4fd0-cff4-b2605f991b4e"
      },
      "source": [
        "try:\n",
        "    int('10d')\n",
        "except Exception as e:          # alias(별칭)\n",
        "    print(e)                    # Exception 객체의 __str__() method"
      ],
      "execution_count": 7,
      "outputs": [
        {
          "output_type": "stream",
          "text": [
            "invalid literal for int() with base 10: '10d'\n"
          ],
          "name": "stdout"
        }
      ]
    },
    {
      "cell_type": "markdown",
      "metadata": {
        "id": "L3GDT3lIxjkB"
      },
      "source": [
        "## 38.2 else-finally"
      ]
    },
    {
      "cell_type": "code",
      "metadata": {
        "colab": {
          "base_uri": "https://localhost:8080/"
        },
        "id": "0KlAg_NnypMw",
        "outputId": "767b0c53-8b77-4c44-b455-ad1ec0eb3bcc"
      },
      "source": [
        "try:\n",
        "    x = int(input('나눌 숫자 입력> '))\n",
        "    y = 10 / x\n",
        "except Exception as e:\n",
        "    print(e)\n",
        "else:\n",
        "    print(y)"
      ],
      "execution_count": 5,
      "outputs": [
        {
          "output_type": "stream",
          "text": [
            "나눌 숫자 입력> 5r\n",
            "invalid literal for int() with base 10: '5r'\n"
          ],
          "name": "stdout"
        }
      ]
    },
    {
      "cell_type": "code",
      "metadata": {
        "colab": {
          "base_uri": "https://localhost:8080/"
        },
        "id": "SOryzIzi18Nv",
        "outputId": "06e10b71-ecfa-4a30-cd29-4aa91a12d3e7"
      },
      "source": [
        "# 예외와 상관없이 항상 코드 실행\n",
        "try:\n",
        "    x = int(input('나눌 숫자 입력> '))\n",
        "    y = 10 / x\n",
        "except Exception as e:\n",
        "    print(e)\n",
        "else:\n",
        "    print(y)\n",
        "finally:\n",
        "    print('코드 실행 종료')"
      ],
      "execution_count": 9,
      "outputs": [
        {
          "output_type": "stream",
          "text": [
            "나눌 숫자 입력> 5.\n",
            "invalid literal for int() with base 10: '5.'\n",
            "코드 실행 종료\n"
          ],
          "name": "stdout"
        }
      ]
    },
    {
      "cell_type": "markdown",
      "metadata": {
        "id": "oPU0ZYAD4o2I"
      },
      "source": [
        "## 38.3 예외 발생시키기"
      ]
    },
    {
      "cell_type": "code",
      "metadata": {
        "colab": {
          "base_uri": "https://localhost:8080/"
        },
        "id": "il7i6sQW2W6O",
        "outputId": "3075e57d-9871-42a6-b557-f96946589ad7"
      },
      "source": [
        "import random\n",
        "\n",
        "try:\n",
        "    x = random.randint(1,10)\n",
        "    print(x)\n",
        "    if x%3 != 0:\n",
        "        raise Exception('3의 배수가 아닙니다.')         # raise : 예외 발생\n",
        "except Exception as e:\n",
        "    print('예외 발생 -', e)"
      ],
      "execution_count": 17,
      "outputs": [
        {
          "output_type": "stream",
          "text": [
            "10\n",
            "예외 발생 - 3의 배수가 아닙니다.\n"
          ],
          "name": "stdout"
        }
      ]
    },
    {
      "cell_type": "code",
      "metadata": {
        "id": "MuJLk92G5TOC"
      },
      "source": [
        "def multiple11(x):\n",
        "    if x % 11 != 0:\n",
        "        raise Exception('11의 배수가 아닙니다.')\n",
        "    print(x)"
      ],
      "execution_count": 18,
      "outputs": []
    },
    {
      "cell_type": "code",
      "metadata": {
        "colab": {
          "base_uri": "https://localhost:8080/"
        },
        "id": "li_DziRq6MhQ",
        "outputId": "17e62b23-1dd3-40a0-b553-4ec9d9116115"
      },
      "source": [
        "try:\n",
        "    multiple11(100)\n",
        "except Exception as e:\n",
        "    print('예외 발생 -',e)"
      ],
      "execution_count": 19,
      "outputs": [
        {
          "output_type": "stream",
          "text": [
            "예외 발생 - 11의 배수가 아닙니다.\n"
          ],
          "name": "stdout"
        }
      ]
    },
    {
      "cell_type": "code",
      "metadata": {
        "id": "KOiyRiwX6Zhd"
      },
      "source": [
        "for():\n",
        "    for():\n",
        "        for():\n",
        "            if 조건:\n",
        "                loop를 완전 탈출 => break는 한개의 loop만 탈출 => raise 사용해서 한번에 완전 탈출하기"
      ],
      "execution_count": null,
      "outputs": []
    },
    {
      "cell_type": "code",
      "metadata": {
        "id": "FaiPjsKp7NCz"
      },
      "source": [
        "try:\n",
        "    for():\n",
        "    for():\n",
        "        for():\n",
        "            if 조건:\n",
        "                raise Exception()\n",
        "except:"
      ],
      "execution_count": null,
      "outputs": []
    },
    {
      "cell_type": "markdown",
      "metadata": {
        "id": "xrs7PHSK7m2N"
      },
      "source": [
        "## 38.4 예외 만들기"
      ]
    },
    {
      "cell_type": "code",
      "metadata": {
        "id": "f1plm7P-7Urh"
      },
      "source": [
        "# Exception 객체를 상속받아 객체를 만들면 됨(class)"
      ],
      "execution_count": null,
      "outputs": []
    }
  ]
}