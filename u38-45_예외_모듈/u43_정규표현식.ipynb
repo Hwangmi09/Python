{
  "nbformat": 4,
  "nbformat_minor": 0,
  "metadata": {
    "colab": {
      "name": "u43_정규표현식.ipynb",
      "provenance": [],
      "collapsed_sections": []
    },
    "kernelspec": {
      "name": "python3",
      "display_name": "Python 3"
    },
    "language_info": {
      "name": "python"
    }
  },
  "cells": [
    {
      "cell_type": "markdown",
      "metadata": {
        "id": "4g9I7d9D_Aga"
      },
      "source": [
        "# Unit 43. 정규 표현식"
      ]
    },
    {
      "cell_type": "markdown",
      "metadata": {
        "id": "Id6XBoXD_F5z"
      },
      "source": [
        "## 43.1 문자열 판단"
      ]
    },
    {
      "cell_type": "code",
      "metadata": {
        "colab": {
          "base_uri": "https://localhost:8080/"
        },
        "id": "Em2RILEB8KI_",
        "outputId": "bba19674-41ce-4fcd-9c41-66f0d8e1c19c"
      },
      "source": [
        "import re\n",
        "re.match('Hello','Hello, world!')       # 패턴, 문자열"
      ],
      "execution_count": 4,
      "outputs": [
        {
          "output_type": "execute_result",
          "data": {
            "text/plain": [
              "<re.Match object; span=(0, 5), match='Hello'>"
            ]
          },
          "metadata": {
            "tags": []
          },
          "execution_count": 4
        }
      ]
    },
    {
      "cell_type": "code",
      "metadata": {
        "colab": {
          "base_uri": "https://localhost:8080/"
        },
        "id": "2wprCVne8q7L",
        "outputId": "a9ebd825-7796-4c4c-8edd-eca1e86ccb9e"
      },
      "source": [
        "z = re.match('Hello','Hello, world!')\n",
        "if z:\n",
        "    print('Found!!')\n",
        "else:\n",
        "    print('Not found.')"
      ],
      "execution_count": 5,
      "outputs": [
        {
          "output_type": "stream",
          "text": [
            "Found!!\n"
          ],
          "name": "stdout"
        }
      ]
    },
    {
      "cell_type": "code",
      "metadata": {
        "colab": {
          "base_uri": "https://localhost:8080/"
        },
        "id": "gmudF41sC6n0",
        "outputId": "7d986681-954a-4b86-f8fa-0c6dc8da2f37"
      },
      "source": [
        "# match()는 문장의 처음에서 찾음\n",
        "z = re.match('world','Hello, world!')       # match함수는 문자열 처음부터 매칭되는지 판단\n",
        "if z:\n",
        "    print('Found!!')\n",
        "else:\n",
        "    print('Not found.')"
      ],
      "execution_count": 8,
      "outputs": [
        {
          "output_type": "stream",
          "text": [
            "Not found.\n"
          ],
          "name": "stdout"
        }
      ]
    },
    {
      "cell_type": "code",
      "metadata": {
        "colab": {
          "base_uri": "https://localhost:8080/"
        },
        "id": "Qc1elWehDHxY",
        "outputId": "bc895d08-86ce-419c-8449-e29715f4d7df"
      },
      "source": [
        "# search()는 모든 문장에서 찾음\n",
        "if re.search('world','Hello, world!'):  # search는 문자열 일부분이 매칭되는지 판단\n",
        "    print('Found!!')\n",
        "else:\n",
        "    print('Not found.')"
      ],
      "execution_count": 9,
      "outputs": [
        {
          "output_type": "stream",
          "text": [
            "Found!!\n"
          ],
          "name": "stdout"
        }
      ]
    },
    {
      "cell_type": "markdown",
      "metadata": {
        "id": "U85G95gpD6HA"
      },
      "source": [
        "## 43.2 범위 판단"
      ]
    },
    {
      "cell_type": "code",
      "metadata": {
        "colab": {
          "base_uri": "https://localhost:8080/"
        },
        "id": "FlAudZe1Dm3j",
        "outputId": "642be26f-e24d-491d-ba6c-d14216ebb80d"
      },
      "source": [
        "# 휴대전화 번호형식\n",
        "pattern = '01[0-9]-[0-9]{4}-[0-9]{4}'\n",
        "text = '010-1234-5678'\n",
        "if re.match(pattern,text):\n",
        "    print('올바른 휴대전화번호')\n",
        "else:\n",
        "    print('잘못된 휴대전화번호')"
      ],
      "execution_count": 15,
      "outputs": [
        {
          "output_type": "stream",
          "text": [
            "올바른 휴대전화번호\n"
          ],
          "name": "stdout"
        }
      ]
    },
    {
      "cell_type": "code",
      "metadata": {
        "colab": {
          "base_uri": "https://localhost:8080/"
        },
        "id": "hij8g7v6EYs5",
        "outputId": "cb85b0f6-d6fb-4bed-c249-cc87c074aa27"
      },
      "source": [
        "# 한글 패턴\n",
        "hangul = '[ㄱ-하-ㅣ가-힣]+'\n",
        "text = 'text'\n",
        "if re.search(hangul,text):\n",
        "    print('한글이 있음')\n",
        "else:\n",
        "    print('한글이 없음')"
      ],
      "execution_count": 31,
      "outputs": [
        {
          "output_type": "stream",
          "text": [
            "한글이 없음\n"
          ],
          "name": "stdout"
        }
      ]
    },
    {
      "cell_type": "markdown",
      "metadata": {
        "id": "SQVGONSuJzIy"
      },
      "source": [
        "### 이메일 주소 검사하기"
      ]
    },
    {
      "cell_type": "code",
      "metadata": {
        "id": "Ns8Btyz-K_10"
      },
      "source": [
        "#p = re.compile('^[0-9a-zA-Z]([-_.]?[0-9a-zA-Z])*@[0-9a-zA-Z]([-_.]?[0-9a-zA-Z])*.[a-zA-Z]{2,3}$')\n",
        "p = re.compile('^[a-zA-Z0-9+-_.]+@[a-zA-Z0-9-]+\\.[a-zA-Z0-9-.]+$')      # ^문자열 시작, $문자열 끝"
      ],
      "execution_count": 35,
      "outputs": []
    },
    {
      "cell_type": "code",
      "metadata": {
        "colab": {
          "base_uri": "https://localhost:8080/"
        },
        "id": "vg2yjofHJ65s",
        "outputId": "07db4a15-15ad-4a6c-94d4-22716103c96b"
      },
      "source": [
        "emails = ['python@mail.example.com', 'python+kr@example.com',              # 올바른 형식\n",
        "          'python-dojang@example.co.kr', 'python_10@example.info',         # 올바른 형식\n",
        "          'python.dojang@e-xample.com',                                    # 올바른 형식\n",
        "          '@example.com', 'python@example', 'python@example-com']          # 잘못된 형식\n",
        " \n",
        "for email in emails:\n",
        "    print(p.match(email) != None, end=' ')"
      ],
      "execution_count": 40,
      "outputs": [
        {
          "output_type": "stream",
          "text": [
            "True True True True True False False False "
          ],
          "name": "stdout"
        }
      ]
    },
    {
      "cell_type": "markdown",
      "metadata": {
        "id": "Oeyw2EMXGNYe"
      },
      "source": [
        "## 43.4 문자열 바꾸기"
      ]
    },
    {
      "cell_type": "code",
      "metadata": {
        "colab": {
          "base_uri": "https://localhost:8080/",
          "height": 36
        },
        "id": "GQ60ICaDF7KL",
        "outputId": "b1390d30-27a0-406c-e4f8-51640cfafacf"
      },
      "source": [
        "# re.sub('패턴','바꿀 문자열','문자열')\n",
        "re.sub('apple|orange','fruit','apple box orange tree')"
      ],
      "execution_count": 20,
      "outputs": [
        {
          "output_type": "execute_result",
          "data": {
            "application/vnd.google.colaboratory.intrinsic+json": {
              "type": "string"
            },
            "text/plain": [
              "'fruit box fruit tree'"
            ]
          },
          "metadata": {
            "tags": []
          },
          "execution_count": 20
        }
      ]
    },
    {
      "cell_type": "code",
      "metadata": {
        "colab": {
          "base_uri": "https://localhost:8080/",
          "height": 36
        },
        "id": "MUPksHmPGxGY",
        "outputId": "29c2942f-b8e4-4f4b-93c9-d40c60eafafd"
      },
      "source": [
        "re.sub('[0-9]','n','1 2 Fizz 4 Buzz Fizz Buzz 11 12')"
      ],
      "execution_count": 22,
      "outputs": [
        {
          "output_type": "execute_result",
          "data": {
            "application/vnd.google.colaboratory.intrinsic+json": {
              "type": "string"
            },
            "text/plain": [
              "'n n Fizz n Buzz Fizz Buzz nn nn'"
            ]
          },
          "metadata": {
            "tags": []
          },
          "execution_count": 22
        }
      ]
    },
    {
      "cell_type": "code",
      "metadata": {
        "colab": {
          "base_uri": "https://localhost:8080/",
          "height": 36
        },
        "id": "aQwFpjV8G6rB",
        "outputId": "0d0ad2a9-feca-4c2b-f723-515570513130"
      },
      "source": [
        "re.sub('[0-9]+','n','1 2 Fizz 4 Buzz Fizz Buzz 11 12')"
      ],
      "execution_count": 25,
      "outputs": [
        {
          "output_type": "execute_result",
          "data": {
            "application/vnd.google.colaboratory.intrinsic+json": {
              "type": "string"
            },
            "text/plain": [
              "'n n Fizz n Buzz Fizz Buzz n n'"
            ]
          },
          "metadata": {
            "tags": []
          },
          "execution_count": 25
        }
      ]
    },
    {
      "cell_type": "code",
      "metadata": {
        "id": "fhLeNlEkHBt3"
      },
      "source": [
        "text = ''' 가장 단순한 형태의 원자는 리터럴(literal)이지만 원자를 일치시키기 위해 패턴을 \n",
        "묶을 때에는 메타문자로서 ( )를 사용해야 한다. 메타문자는 원자 외에도 얼마나 많은 \n",
        "원자가 있는지를 가리키는 수량자(quantifier), 선택적인 대안을 가리키는 논리적 OR 문자, \n",
        "그리고 원자의 존재를 부정하는 NOT 문자, 그리고 전에 일치된 원자를 참조할 수 있게 하는 \n",
        "역참조(backreference)를 만드는 것을 도와준다.\n",
        "'''"
      ],
      "execution_count": 26,
      "outputs": []
    },
    {
      "cell_type": "code",
      "metadata": {
        "colab": {
          "base_uri": "https://localhost:8080/",
          "height": 73
        },
        "id": "8fj5VzsdHiGq",
        "outputId": "ba338767-b3b2-4f1a-8219-85fc04b3d097"
      },
      "source": [
        "not_hangul_blank = '[^ㄱ-하-ㅣ가-힣 ]'      # ^은 not을 의미\n",
        "text = re.sub(not_hangul_blank,'',text)\n",
        "text"
      ],
      "execution_count": 30,
      "outputs": [
        {
          "output_type": "execute_result",
          "data": {
            "application/vnd.google.colaboratory.intrinsic+json": {
              "type": "string"
            },
            "text/plain": [
              "' 가장 단순한 형태의 원자는 리터럴이지만 원자를 일치시키기 위해 패턴을 묶을 때에는 메타문자로서  를 사용해야 한다 메타문자는 원자 외에도 얼마나 많은 원자가 있는지를 가리키는 수량자 선택적인 대안을 가리키는 논리적  문자 그리고 원자의 존재를 부정하는  문자 그리고 전에 일치된 원자를 참조할 수 있게 하는 역참조를 만드는 것을 도와준다'"
            ]
          },
          "metadata": {
            "tags": []
          },
          "execution_count": 30
        }
      ]
    },
    {
      "cell_type": "code",
      "metadata": {
        "colab": {
          "base_uri": "https://localhost:8080/",
          "height": 36
        },
        "id": "j_OijOaCH-y7",
        "outputId": "fec8733f-9891-4fc9-c79e-b25e704515a3"
      },
      "source": [
        "text = '에밀리블런트 사랑해,, 사람스러움의 끝ㅠㅠ 4DX로 보면 더 재밌을 듯'\n",
        "text = re.sub(not_hangul_blank,'',text)\n",
        "text"
      ],
      "execution_count": 32,
      "outputs": [
        {
          "output_type": "execute_result",
          "data": {
            "application/vnd.google.colaboratory.intrinsic+json": {
              "type": "string"
            },
            "text/plain": [
              "'에밀리블런트 사랑해 사람스러움의 끝ㅠㅠ 로 보면 더 재밌을 듯'"
            ]
          },
          "metadata": {
            "tags": []
          },
          "execution_count": 32
        }
      ]
    }
  ]
}