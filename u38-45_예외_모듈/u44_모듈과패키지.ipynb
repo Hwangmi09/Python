{
  "nbformat": 4,
  "nbformat_minor": 0,
  "metadata": {
    "colab": {
      "name": "u44_모듈과패키지.ipynb",
      "provenance": [],
      "collapsed_sections": []
    },
    "kernelspec": {
      "name": "python3",
      "display_name": "Python 3"
    },
    "language_info": {
      "name": "python"
    }
  },
  "cells": [
    {
      "cell_type": "markdown",
      "metadata": {
        "id": "6d_pl_ihfN-F"
      },
      "source": [
        "# Unit 44. 모듈과 패키지"
      ]
    },
    {
      "cell_type": "markdown",
      "metadata": {
        "id": "kR1BZeIUgLLK"
      },
      "source": [
        "## 44.1 import"
      ]
    },
    {
      "cell_type": "code",
      "metadata": {
        "colab": {
          "base_uri": "https://localhost:8080/"
        },
        "id": "1OueDB8ifCTm",
        "outputId": "dba21297-1a9f-48c8-c514-f603e04370fc"
      },
      "source": [
        "# math 모듈을 가져오기\n",
        "import math\n",
        "math.pi"
      ],
      "execution_count": 1,
      "outputs": [
        {
          "output_type": "execute_result",
          "data": {
            "text/plain": [
              "3.141592653589793"
            ]
          },
          "metadata": {
            "tags": []
          },
          "execution_count": 1
        }
      ]
    },
    {
      "cell_type": "code",
      "metadata": {
        "colab": {
          "base_uri": "https://localhost:8080/",
          "height": 176
        },
        "id": "rgREF5LMgOCH",
        "outputId": "addbb817-3fab-48fb-fab4-0d83dfc06f8c"
      },
      "source": [
        "pi      # 내장함수가 아니므로 오류"
      ],
      "execution_count": 2,
      "outputs": [
        {
          "output_type": "error",
          "ename": "NameError",
          "evalue": "ignored",
          "traceback": [
            "\u001b[0;31m---------------------------------------------------------------------------\u001b[0m",
            "\u001b[0;31mNameError\u001b[0m                                 Traceback (most recent call last)",
            "\u001b[0;32m<ipython-input-2-f84ab820532c>\u001b[0m in \u001b[0;36m<module>\u001b[0;34m()\u001b[0m\n\u001b[0;32m----> 1\u001b[0;31m \u001b[0mpi\u001b[0m\u001b[0;34m\u001b[0m\u001b[0;34m\u001b[0m\u001b[0m\n\u001b[0m",
            "\u001b[0;31mNameError\u001b[0m: name 'pi' is not defined"
          ]
        }
      ]
    },
    {
      "cell_type": "code",
      "metadata": {
        "colab": {
          "base_uri": "https://localhost:8080/"
        },
        "id": "5gQyX8LKgRKV",
        "outputId": "58469573-9a1f-4284-f814-d628458e958c"
      },
      "source": [
        "math.sqrt(2), math.log2(2), math.sin(math.pi/2)"
      ],
      "execution_count": 4,
      "outputs": [
        {
          "output_type": "execute_result",
          "data": {
            "text/plain": [
              "(1.4142135623730951, 1.0, 1.0)"
            ]
          },
          "metadata": {
            "tags": []
          },
          "execution_count": 4
        }
      ]
    },
    {
      "cell_type": "code",
      "metadata": {
        "colab": {
          "base_uri": "https://localhost:8080/"
        },
        "id": "54CDNIasgmr9",
        "outputId": "9f30e1b3-05b8-496b-aa3b-934016ebe9c3"
      },
      "source": [
        "# as로 모듈 이름 저장(aliasing)\n",
        "import math as m\n",
        "round(m.pi,4), m.log2(2), round(m.sqrt(2),4)"
      ],
      "execution_count": 11,
      "outputs": [
        {
          "output_type": "execute_result",
          "data": {
            "text/plain": [
              "(3.1416, 1.0, 1.4142)"
            ]
          },
          "metadata": {
            "tags": []
          },
          "execution_count": 11
        }
      ]
    },
    {
      "cell_type": "code",
      "metadata": {
        "colab": {
          "base_uri": "https://localhost:8080/"
        },
        "id": "2Xqt-00-hF5L",
        "outputId": "e98716a3-4f18-4a90-ffb4-cdb363378e61"
      },
      "source": [
        "# from을 통해서 함수, 클래스, 전역변수 등을 가져올 수 있음\n",
        "from math import sqrt, pi\n",
        "round(sqrt(2),4), round(pi,4)"
      ],
      "execution_count": 13,
      "outputs": [
        {
          "output_type": "execute_result",
          "data": {
            "text/plain": [
              "(1.4142, 3.1416)"
            ]
          },
          "metadata": {
            "tags": []
          },
          "execution_count": 13
        }
      ]
    },
    {
      "cell_type": "code",
      "metadata": {
        "colab": {
          "base_uri": "https://localhost:8080/"
        },
        "id": "d9VJQNRehj7z",
        "outputId": "3ba57f2b-cc00-4b7b-ee85-b893931bce50"
      },
      "source": [
        "# math 모듈의 모든 것(변수, 함수, 클래스 등)을 가져옴\n",
        "from math import *          #  *(asterisk, 애스터리스크) 기호는 모든 것이라는 뜻으로 사용\n",
        "log2(2), sin(pi/2)"
      ],
      "execution_count": 15,
      "outputs": [
        {
          "output_type": "execute_result",
          "data": {
            "text/plain": [
              "(1.0, 1.0)"
            ]
          },
          "metadata": {
            "tags": []
          },
          "execution_count": 15
        }
      ]
    },
    {
      "cell_type": "markdown",
      "metadata": {
        "id": "-4LdZJqijBPq"
      },
      "source": [
        "## 44.2 import 패키지"
      ]
    },
    {
      "cell_type": "code",
      "metadata": {
        "colab": {
          "base_uri": "https://localhost:8080/"
        },
        "id": "fSEBThYKiOJH",
        "outputId": "7c53f478-67a3-49d3-93a0-f1aac7217d1e"
      },
      "source": [
        "import urllib.request\n",
        "res = urllib.request.urlopen('http://www.google.co.kr')\n",
        "res.status"
      ],
      "execution_count": 16,
      "outputs": [
        {
          "output_type": "execute_result",
          "data": {
            "text/plain": [
              "200"
            ]
          },
          "metadata": {
            "tags": []
          },
          "execution_count": 16
        }
      ]
    },
    {
      "cell_type": "code",
      "metadata": {
        "colab": {
          "base_uri": "https://localhost:8080/"
        },
        "id": "-e5BZR0GjV3O",
        "outputId": "2b6b98ed-f0c2-424f-80c3-9529926dd9b9"
      },
      "source": [
        "from urllib.request import urlopen\n",
        "res = urlopen('http://www.google.co.kr')    # URL을 여는 함수, URL 열기에 성공하면 response.status의 값이 200이 나옴\n",
        "res.status"
      ],
      "execution_count": 18,
      "outputs": [
        {
          "output_type": "execute_result",
          "data": {
            "text/plain": [
              "200"
            ]
          },
          "metadata": {
            "tags": []
          },
          "execution_count": 18
        }
      ]
    },
    {
      "cell_type": "code",
      "metadata": {
        "id": "ByC9qu6qjdS2"
      },
      "source": [
        "# Scikit-Learn 패키지 : 머신러닝에서 사용\n",
        "from sklearn.model_selection import train_test_split, GridSearchCV"
      ],
      "execution_count": null,
      "outputs": []
    },
    {
      "cell_type": "code",
      "metadata": {
        "id": "LHmwhwP-kGd_"
      },
      "source": [
        "import numpy as np"
      ],
      "execution_count": null,
      "outputs": []
    }
  ]
}