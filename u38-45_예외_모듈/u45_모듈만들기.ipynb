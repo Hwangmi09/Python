{
  "nbformat": 4,
  "nbformat_minor": 0,
  "metadata": {
    "colab": {
      "name": "u45_모듈만들기.ipynb",
      "provenance": [],
      "collapsed_sections": []
    },
    "kernelspec": {
      "name": "python3",
      "display_name": "Python 3"
    },
    "language_info": {
      "name": "python"
    }
  },
  "cells": [
    {
      "cell_type": "markdown",
      "metadata": {
        "id": "0NpPrYrOtgCz"
      },
      "source": [
        "## 45.1 모듈 만들기"
      ]
    },
    {
      "cell_type": "markdown",
      "metadata": {
        "id": "XbQxj1u4zIwu"
      },
      "source": [
        "### 함수와 변수"
      ]
    },
    {
      "cell_type": "code",
      "metadata": {
        "colab": {
          "base_uri": "https://localhost:8080/"
        },
        "id": "qoRy7IQNtDP7",
        "outputId": "d2a3e814-c180-46c4-a611-9b292f4f46e7"
      },
      "source": [
        "import u45_square2 as sq\n",
        "\n",
        "print(sq.base)\n",
        "print(sq.square(10))"
      ],
      "execution_count": 1,
      "outputs": [
        {
          "output_type": "stream",
          "text": [
            "2\n",
            "1024\n"
          ],
          "name": "stdout"
        }
      ]
    },
    {
      "cell_type": "code",
      "metadata": {
        "colab": {
          "base_uri": "https://localhost:8080/"
        },
        "id": "ot3utQ9Bts47",
        "outputId": "f1894804-f586-4405-9dad-7fbb361f9ef6"
      },
      "source": [
        "!ls -l"
      ],
      "execution_count": 3,
      "outputs": [
        {
          "output_type": "stream",
          "text": [
            "total 12\n",
            "drwxr-xr-x 2 root root 4096 Aug  5 05:08 __pycache__\n",
            "drwxr-xr-x 1 root root 4096 Jul 16 13:20 sample_data\n",
            "-rw-r--r-- 1 root root   49 Aug  5 05:07 u45_square2.py\n"
          ],
          "name": "stdout"
        }
      ]
    },
    {
      "cell_type": "code",
      "metadata": {
        "colab": {
          "base_uri": "https://localhost:8080/"
        },
        "id": "gbCLKCb2uQOs",
        "outputId": "cfc485ae-05dc-4c58-c89c-9e72c5681e3b"
      },
      "source": [
        "!ls -l __pycache__"
      ],
      "execution_count": 5,
      "outputs": [
        {
          "output_type": "stream",
          "text": [
            "total 4\n",
            "-rw-r--r-- 1 root root 225 Aug  5 05:08 u45_square2.cpython-37.pyc\n"
          ],
          "name": "stdout"
        }
      ]
    },
    {
      "cell_type": "markdown",
      "metadata": {
        "id": "4mr48RjvwjWz"
      },
      "source": [
        "### 클래스"
      ]
    },
    {
      "cell_type": "code",
      "metadata": {
        "colab": {
          "base_uri": "https://localhost:8080/"
        },
        "id": "I1DewcfhuS3T",
        "outputId": "9e72a3b0-017f-4c95-c3b2-bfb91e822cd0"
      },
      "source": [
        "from u45_person import Person\n",
        "\n",
        "maria = Person('마리아',25,'서울시 강남구 도곡동')\n",
        "maria.greeting()"
      ],
      "execution_count": 6,
      "outputs": [
        {
          "output_type": "stream",
          "text": [
            "안녕하세요. 저는 마리아입니다.\n"
          ],
          "name": "stdout"
        }
      ]
    },
    {
      "cell_type": "code",
      "metadata": {
        "colab": {
          "base_uri": "https://localhost:8080/"
        },
        "id": "wYXpLwy1w4Gv",
        "outputId": "3e98eb59-2129-4487-e306-5677607e4002"
      },
      "source": [
        "!ls -l __pycache__      # ls : list, ! : Shell escape를 통해서 명령 실행"
      ],
      "execution_count": 8,
      "outputs": [
        {
          "output_type": "stream",
          "text": [
            "total 8\n",
            "-rw-r--r-- 1 root root 600 Aug  5 05:21 u45_person.cpython-37.pyc\n",
            "-rw-r--r-- 1 root root 225 Aug  5 05:08 u45_square2.cpython-37.pyc\n"
          ],
          "name": "stdout"
        }
      ]
    },
    {
      "cell_type": "code",
      "metadata": {
        "id": "ZAfsYLqXxE-z"
      },
      "source": [
        "!rm __pycache__/*   # __pycache__ 지우기(rm:remove), 모듈을 새로 수정했을 때 사용할 것"
      ],
      "execution_count": 9,
      "outputs": []
    },
    {
      "cell_type": "markdown",
      "metadata": {
        "id": "ktGgskcH2KHJ"
      },
      "source": [
        "## 45.2 모듈과 시작점"
      ]
    },
    {
      "cell_type": "code",
      "metadata": {
        "colab": {
          "base_uri": "https://localhost:8080/"
        },
        "id": "HFXzz4Zh2OYg",
        "outputId": "a57407c6-156d-48bb-966e-6429e84d79e4"
      },
      "source": [
        "!python u45_square2.py"
      ],
      "execution_count": 6,
      "outputs": [
        {
          "output_type": "stream",
          "text": [
            "2\n",
            "1024\n"
          ],
          "name": "stdout"
        }
      ]
    },
    {
      "cell_type": "code",
      "metadata": {
        "colab": {
          "base_uri": "https://localhost:8080/",
          "height": 36
        },
        "id": "2ppZY1Er-Kvb",
        "outputId": "dc915de9-fc8d-4440-9b72-77820f24a62c"
      },
      "source": [
        "__name__        # u45_모듈만들기.ipynb의 name = main"
      ],
      "execution_count": 7,
      "outputs": [
        {
          "output_type": "execute_result",
          "data": {
            "application/vnd.google.colaboratory.intrinsic+json": {
              "type": "string"
            },
            "text/plain": [
              "'__main__'"
            ]
          },
          "metadata": {
            "tags": []
          },
          "execution_count": 7
        }
      ]
    },
    {
      "cell_type": "code",
      "metadata": {
        "colab": {
          "base_uri": "https://localhost:8080/"
        },
        "id": "qrBEZUyG-Mky",
        "outputId": "b46bdf7d-97a1-4927-9763-4d9367c8ab2d"
      },
      "source": [
        "import u45_hello            # import로 모듈/라이브러리를 가져올 때 __name__ : u45_hello"
      ],
      "execution_count": 8,
      "outputs": [
        {
          "output_type": "stream",
          "text": [
            "hello 모듈 시작\n",
            "hello.py __name__ u45_hello\n",
            "hello 모듈 끝\n"
          ],
          "name": "stdout"
        }
      ]
    },
    {
      "cell_type": "code",
      "metadata": {
        "colab": {
          "base_uri": "https://localhost:8080/"
        },
        "id": "1gXPnhXK-3nX",
        "outputId": "8656b376-4f8c-497f-a9a7-dec24e8ca7b2"
      },
      "source": [
        "!python u45_hello.py        # 모듈안에서 실행할 때 __name__ : __main__"
      ],
      "execution_count": 9,
      "outputs": [
        {
          "output_type": "stream",
          "text": [
            "hello 모듈 시작\n",
            "hello.py __name__ __main__\n",
            "hello 모듈 끝\n"
          ],
          "name": "stdout"
        }
      ]
    },
    {
      "cell_type": "markdown",
      "metadata": {
        "id": "6xJ0SGEtAblm"
      },
      "source": [
        "### Account 클래스를 bank 디렉토리 밑에 util.py라는 이름으로 사용"
      ]
    },
    {
      "cell_type": "code",
      "metadata": {
        "id": "UTG5TUblAj3h"
      },
      "source": [
        "# 폴더 만들기\n",
        "!mkdir bank"
      ],
      "execution_count": 10,
      "outputs": []
    },
    {
      "cell_type": "code",
      "metadata": {
        "colab": {
          "base_uri": "https://localhost:8080/"
        },
        "id": "vWvxJBGzArUo",
        "outputId": "b7b68722-83b9-4dbe-9516-8c5b2f7e3cb2"
      },
      "source": [
        "!ls -l"
      ],
      "execution_count": 14,
      "outputs": [
        {
          "output_type": "stream",
          "text": [
            "total 24\n",
            "drwxr-xr-x 2 root root 4096 Aug  5 06:34 bank\n",
            "drwxr-xr-x 2 root root 4096 Aug  5 06:23 __pycache__\n",
            "drwxr-xr-x 1 root root 4096 Jul 16 13:20 sample_data\n",
            "-rw-r--r-- 1 root root   93 Aug  5 06:23 u45_hello.py\n",
            "-rw-r--r-- 1 root root  226 Aug  5 05:21 u45_person.py\n",
            "-rw-r--r-- 1 root root  119 Aug  5 05:44 u45_square2.py\n"
          ],
          "name": "stdout"
        }
      ]
    },
    {
      "cell_type": "code",
      "metadata": {
        "id": "HgdLeRoqAx7v"
      },
      "source": [
        "from bank.u45_util import Account           # from 디렉토리명.모듈명 import"
      ],
      "execution_count": 15,
      "outputs": []
    },
    {
      "cell_type": "code",
      "metadata": {
        "colab": {
          "base_uri": "https://localhost:8080/"
        },
        "id": "uB5upH2PBnjG",
        "outputId": "7f40eee1-f54d-49dd-85a7-b6da2472ba40"
      },
      "source": [
        "!ls -l bank"
      ],
      "execution_count": 16,
      "outputs": [
        {
          "output_type": "stream",
          "text": [
            "total 8\n",
            "drwxr-xr-x 2 root root 4096 Aug  5 06:35 __pycache__\n",
            "-rw-r--r-- 1 root root  813 Aug  5 06:34 u45_util.py\n"
          ],
          "name": "stdout"
        }
      ]
    },
    {
      "cell_type": "code",
      "metadata": {
        "colab": {
          "base_uri": "https://localhost:8080/"
        },
        "id": "VEu47cUzBr2U",
        "outputId": "58625193-2a6c-453a-dddd-4b2791fe408c"
      },
      "source": [
        "acc = Account('123456','제임스',100000)\n",
        "print(acc)"
      ],
      "execution_count": 17,
      "outputs": [
        {
          "output_type": "stream",
          "text": [
            "계좌번호: 123456, 소유주: 제임스, 잔액:   100,000\n"
          ],
          "name": "stdout"
        }
      ]
    },
    {
      "cell_type": "code",
      "metadata": {
        "colab": {
          "base_uri": "https://localhost:8080/"
        },
        "id": "WlXzRnqQB2Kt",
        "outputId": "45fe6374-87d6-4538-ec6b-479d72fac4a6"
      },
      "source": [
        "acc.deposit(10000000)"
      ],
      "execution_count": 18,
      "outputs": [
        {
          "output_type": "stream",
          "text": [
            "1000만원 이상은 잔액으로 가져갈 수 없습니다.\n"
          ],
          "name": "stdout"
        }
      ]
    }
  ]
}