{
  "nbformat": 4,
  "nbformat_minor": 0,
  "metadata": {
    "colab": {
      "name": "u45_모듈만들기.ipynb",
      "provenance": [],
      "collapsed_sections": []
    },
    "kernelspec": {
      "name": "python3",
      "display_name": "Python 3"
    },
    "language_info": {
      "name": "python"
    }
  },
  "cells": [
    {
      "cell_type": "markdown",
      "metadata": {
        "id": "0NpPrYrOtgCz"
      },
      "source": [
        "## 45.1 모듈 만들기"
      ]
    },
    {
      "cell_type": "markdown",
      "metadata": {
        "id": "XbQxj1u4zIwu"
      },
      "source": [
        "### 함수와 변수"
      ]
    },
    {
      "cell_type": "code",
      "metadata": {
        "colab": {
          "base_uri": "https://localhost:8080/"
        },
        "id": "qoRy7IQNtDP7",
        "outputId": "d2a3e814-c180-46c4-a611-9b292f4f46e7"
      },
      "source": [
        "import u45_square2 as sq\n",
        "\n",
        "print(sq.base)\n",
        "print(sq.square(10))"
      ],
      "execution_count": 1,
      "outputs": [
        {
          "output_type": "stream",
          "text": [
            "2\n",
            "1024\n"
          ],
          "name": "stdout"
        }
      ]
    },
    {
      "cell_type": "code",
      "metadata": {
        "colab": {
          "base_uri": "https://localhost:8080/"
        },
        "id": "ot3utQ9Bts47",
        "outputId": "f1894804-f586-4405-9dad-7fbb361f9ef6"
      },
      "source": [
        "!ls -l"
      ],
      "execution_count": 3,
      "outputs": [
        {
          "output_type": "stream",
          "text": [
            "total 12\n",
            "drwxr-xr-x 2 root root 4096 Aug  5 05:08 __pycache__\n",
            "drwxr-xr-x 1 root root 4096 Jul 16 13:20 sample_data\n",
            "-rw-r--r-- 1 root root   49 Aug  5 05:07 u45_square2.py\n"
          ],
          "name": "stdout"
        }
      ]
    },
    {
      "cell_type": "code",
      "metadata": {
        "id": "4A6aJo7ouIvI"
      },
      "source": [
        "# __pycache__ : 디렉토리, u45_square2를 precompile"
      ],
      "execution_count": null,
      "outputs": []
    },
    {
      "cell_type": "code",
      "metadata": {
        "colab": {
          "base_uri": "https://localhost:8080/"
        },
        "id": "gbCLKCb2uQOs",
        "outputId": "cfc485ae-05dc-4c58-c89c-9e72c5681e3b"
      },
      "source": [
        "!ls -l __pycache__"
      ],
      "execution_count": 5,
      "outputs": [
        {
          "output_type": "stream",
          "text": [
            "total 4\n",
            "-rw-r--r-- 1 root root 225 Aug  5 05:08 u45_square2.cpython-37.pyc\n"
          ],
          "name": "stdout"
        }
      ]
    },
    {
      "cell_type": "markdown",
      "metadata": {
        "id": "4mr48RjvwjWz"
      },
      "source": [
        "### 클래스"
      ]
    },
    {
      "cell_type": "code",
      "metadata": {
        "colab": {
          "base_uri": "https://localhost:8080/"
        },
        "id": "I1DewcfhuS3T",
        "outputId": "9e72a3b0-017f-4c95-c3b2-bfb91e822cd0"
      },
      "source": [
        "from u45_person import Person\n",
        "\n",
        "maria = Person('마리아',25,'서울시 강남구 도곡동')\n",
        "maria.greeting()"
      ],
      "execution_count": 6,
      "outputs": [
        {
          "output_type": "stream",
          "text": [
            "안녕하세요. 저는 마리아입니다.\n"
          ],
          "name": "stdout"
        }
      ]
    },
    {
      "cell_type": "code",
      "metadata": {
        "colab": {
          "base_uri": "https://localhost:8080/"
        },
        "id": "wYXpLwy1w4Gv",
        "outputId": "3e98eb59-2129-4487-e306-5677607e4002"
      },
      "source": [
        "!ls -l __pycache__      # ls : list, ! : Shell escape를 통해서 명령 실행"
      ],
      "execution_count": 8,
      "outputs": [
        {
          "output_type": "stream",
          "text": [
            "total 8\n",
            "-rw-r--r-- 1 root root 600 Aug  5 05:21 u45_person.cpython-37.pyc\n",
            "-rw-r--r-- 1 root root 225 Aug  5 05:08 u45_square2.cpython-37.pyc\n"
          ],
          "name": "stdout"
        }
      ]
    },
    {
      "cell_type": "code",
      "metadata": {
        "id": "ZAfsYLqXxE-z"
      },
      "source": [
        "!rm __pycache__/*   # __pycache__ 지우기(rm:remove), 모듈을 새로 수정했을 때 사용할 것"
      ],
      "execution_count": 9,
      "outputs": []
    },
    {
      "cell_type": "markdown",
      "metadata": {
        "id": "ktGgskcH2KHJ"
      },
      "source": [
        "## 45.2 모듈과 시작점"
      ]
    },
    {
      "cell_type": "code",
      "metadata": {
        "colab": {
          "base_uri": "https://localhost:8080/"
        },
        "id": "HFXzz4Zh2OYg",
        "outputId": "a57407c6-156d-48bb-966e-6429e84d79e4"
      },
      "source": [
        "!python u45_square2.py"
      ],
      "execution_count": 6,
      "outputs": [
        {
          "output_type": "stream",
          "text": [
            "2\n",
            "1024\n"
          ],
          "name": "stdout"
        }
      ]
    }
  ]
}